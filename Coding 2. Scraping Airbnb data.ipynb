{
 "cells": [
  {
   "cell_type": "markdown",
   "metadata": {},
   "source": [
    "# Scraping Airbnb data "
   ]
  },
  {
   "cell_type": "markdown",
   "metadata": {
    "deletable": false,
    "editable": false,
    "nbgrader": {
     "cell_type": "markdown",
     "checksum": "7c5b833dd994a5065daabcb8fdc53a08",
     "grade": false,
     "grade_id": "cell-aad0d9693d861220",
     "locked": true,
     "schema_version": 3,
     "solution": false,
     "task": false
    }
   },
   "source": [
    "# Assignment 2\n",
    "\n",
    "This notebook contains a set of exercises that will guide you through the different steps of this assignment. Solutions need to be code-based, i.e. hard-coded or manually computed results will not be accepted. Remember to write your solutions to each exercise in the dedicated cells and to not modify the test cells. When you are done completing all the exercises submit this same notebook back to moodle in .ipynb format.\n",
    "\n",
    "<div class=\"alert alert-success\">The aim of this assignment is to create and save a dataset containing information about different listings in Airbnb. You will then use this dataset during the Artifical Intelligence course to train a predictive model.</div>\n",
    "\n",
    "<div class=\"alert alert-danger\"><b>Submission deadline:</b> Sunday, October 17, 23:55</div>"
   ]
  },
  {
   "cell_type": "markdown",
   "metadata": {
    "deletable": false,
    "editable": false,
    "nbgrader": {
     "cell_type": "markdown",
     "checksum": "25ba081bfe88ca381cfbe6cce36cd114",
     "grade": false,
     "grade_id": "cell-ad8333c5b878d609",
     "locked": true,
     "schema_version": 3,
     "solution": false,
     "task": false
    }
   },
   "source": [
    "## Getting started\n",
    "\n",
    "[Airbnb](https://www.airbnb.com/) allows people to rent out their properties on their online platform. Travelers can then book these properties for shorter or longer periods of time. The company was founded in August 2008 in San Francisco, California, and currently has an annual revenue stream of over 2.5 Billion US Dollars. In the US alone, the platform has 660,000 listings.\n",
    "\n",
    "![airbnb](https://www.dropbox.com/s/njll910mmpzm86z/airbnb.png?raw=1)\n",
    "\n",
    "Every individual listing contains a lot of information like the facilities offered, the location, information about the host and reviews. In this assignment you will build a web scrapper to extract information from these listings using Python.\n",
    "\n",
    "![bali](https://www.dropbox.com/s/t1erpuf8zo9sdt3/search.png?dl=1)\n",
    "\n",
    "In particular, we are going to take a look at the different listings available to spend 5 nights in Bali during these Christmas holidays, from December 29 until January 3. You can check the different options available by in the following [link](https://www.airbnb.com/s/Bali--Indonesia/homes?tab_id=home_tab&refinement_paths%5B%5D=%2Fhomes&flexible_trip_dates%5B%5D=november&flexible_trip_dates%5B%5D=october&flexible_trip_lengths%5B%5D=weekend_trip&date_picker_type=calendar&query=Bali%2C%20Indonesia&place_id=ChIJoQ8Q6NNB0S0RkOYkS7EPkSQ&checkin=2021-12-29&checkout=2022-01-03&source=structured_search_input_header&search_type=autocomplete_click).\n",
    "\n",
    "The whole url has been copied for you below."
   ]
  },
  {
   "cell_type": "code",
   "execution_count": 1,
   "metadata": {
    "deletable": false,
    "editable": false,
    "nbgrader": {
     "cell_type": "code",
     "checksum": "82b03e27f52d681ce013d669a7893ef4",
     "grade": false,
     "grade_id": "cell-5ed12327b9202488",
     "locked": true,
     "schema_version": 3,
     "solution": false,
     "task": false
    }
   },
   "outputs": [],
   "source": [
    "url = \"https://www.airbnb.com/s/Bali--Indonesia/homes?tab_id=home_tab&refinement_paths%5B%5D=%2Fhomes&flexible_trip_dates%5B%5D=november&flexible_trip_dates%5B%5D=october&flexible_trip_lengths%5B%5D=weekend_trip&date_picker_type=calendar&query=Bali%2C%20Indonesia&place_id=ChIJoQ8Q6NNB0S0RkOYkS7EPkSQ&checkin=2021-12-29&checkout=2022-01-03&source=structured_search_input_header&search_type=autocomplete_click\""
   ]
  },
  {
   "cell_type": "markdown",
   "metadata": {
    "deletable": false,
    "editable": false,
    "nbgrader": {
     "cell_type": "markdown",
     "checksum": "9c50472768035ad4e66cfd813c0b610d",
     "grade": false,
     "grade_id": "cell-42289f056b768008",
     "locked": true,
     "schema_version": 3,
     "solution": false,
     "task": false
    }
   },
   "source": [
    "Let's begin by making a request to retrieve the HTML code for this website. Since this is an action that you may need to perform several times throughout the assignment, let's encapsulate the corresponding code in a function.\n",
    "\n",
    "<div class=\"alert alert-info\"><b>Exercise 1 </b>Write the code to create a function called <i>get_page</i>. This function should take as input a single string containing the url for a given webpage and return its underlying HTML code as a <b>BeautifulSoup object</b> as output.<br><i>[0.25 points]</i></div>"
   ]
  },
  {
   "cell_type": "code",
   "execution_count": 2,
   "metadata": {
    "deletable": false,
    "nbgrader": {
     "cell_type": "code",
     "checksum": "3416f03882927817c5373de161fb4a59",
     "grade": false,
     "grade_id": "ex1",
     "locked": false,
     "schema_version": 3,
     "solution": true,
     "task": false
    }
   },
   "outputs": [],
   "source": [
    "# YOUR CODE HERE\n",
    "import requests\n",
    "import bs4\n",
    "\n",
    "def get_page(url_input):\n",
    "    listing_class = '_1e541ba5'\n",
    "    \n",
    "    soup = bs4.BeautifulSoup(requests.get(url_input).text, 'html.parser')\n",
    "    \n",
    "    #check whether the class corresponding to each listing is present (to compabat Airbnb antiscraping policy)\n",
    "    while soup.find('div', {'class':listing_class}) == None:\n",
    "        soup = bs4.BeautifulSoup(requests.get(url_input).text, 'html.parser')\n",
    "    \n",
    "    return soup"
   ]
  },
  {
   "cell_type": "markdown",
   "metadata": {
    "deletable": false,
    "editable": false,
    "nbgrader": {
     "cell_type": "markdown",
     "checksum": "9f8d77b45d9deb7f3bc14e5b6576fdab",
     "grade": false,
     "grade_id": "cell-c4fc30e88ca85392",
     "locked": true,
     "schema_version": 3,
     "solution": false,
     "task": false
    }
   },
   "source": [
    "The following cell runs additional checks to your code. Please **don't write any code here**. Just leave it as it is."
   ]
  },
  {
   "cell_type": "code",
   "execution_count": 3,
   "metadata": {
    "deletable": false,
    "editable": false,
    "nbgrader": {
     "cell_type": "code",
     "checksum": "48beb656540680382551ed2b59caa545",
     "grade": true,
     "grade_id": "ex1_1",
     "locked": true,
     "points": 0.05,
     "schema_version": 3,
     "solution": false,
     "task": false
    }
   },
   "outputs": [],
   "source": [
    "# LEAVE BLANK"
   ]
  },
  {
   "cell_type": "code",
   "execution_count": 4,
   "metadata": {
    "deletable": false,
    "editable": false,
    "nbgrader": {
     "cell_type": "code",
     "checksum": "87a557f18deeb3c42fa974869b225a1a",
     "grade": true,
     "grade_id": "ex1_2",
     "locked": true,
     "points": 0.1,
     "schema_version": 3,
     "solution": false,
     "task": false
    }
   },
   "outputs": [],
   "source": [
    "# LEAVE BLANK"
   ]
  },
  {
   "cell_type": "code",
   "execution_count": 5,
   "metadata": {
    "deletable": false,
    "editable": false,
    "nbgrader": {
     "cell_type": "code",
     "checksum": "282e92266be2f2602e86fada6275c4ce",
     "grade": true,
     "grade_id": "ex1_3",
     "locked": true,
     "points": 0.1,
     "schema_version": 3,
     "solution": false,
     "task": false
    }
   },
   "outputs": [],
   "source": [
    "# LEAVE BLANK"
   ]
  },
  {
   "cell_type": "markdown",
   "metadata": {
    "deletable": false,
    "editable": false,
    "nbgrader": {
     "cell_type": "markdown",
     "checksum": "99f504c6ea2e7cf9a87f54cafa7aa8a2",
     "grade": false,
     "grade_id": "cell-d417065f24be3822",
     "locked": true,
     "schema_version": 3,
     "solution": false,
     "task": false
    }
   },
   "source": [
    "As you well know, the first step in trying to extract information from a webpage is to check how it is constructed. A brief look at the given webpage shows that the information on the different listings is shown underneath each other in a list form. \n",
    "\n",
    "<img src=\"https://www.dropbox.com/s/197l7nr21fk5w48/listing.png?dl=1\" width=\"700\">\n",
    "\n",
    "For every listing a preview image is shown together with some standard information, including a title, a subtitle, the number of guests allowed, the number of bedrooms and bathrooms, the number of beds, information about certain ammenities, the price per night, the discounted price per night, the total price per stay, the average rating and the number of reviews.\n",
    "\n",
    "<div class=\"alert alert-success\">For the example shown above, the title would be \"Veluvana Bali - Bamboo House\", while the subtitle corresponds to \"Treehouse in Sidemen\". The number of guests allowed is 2, the number of bedrooms 1, the number of beds 1, and the number of baths 1.5. Among the ammenities, it includes a pool, wifi, and a kitchen. The price per night is 175€, the discounted price per night is 144€ and the total price per stay is 720€. The listing has received 29 reviews and has an average rating of 4.90.</div>\n",
    "\n",
    "Your primary goal will be to retrieve this information for each separate listing. Hence, we will start by identifying the tags that refer to each of these items and writing the code to retrieve them. "
   ]
  },
  {
   "cell_type": "markdown",
   "metadata": {
    "deletable": false,
    "editable": false,
    "nbgrader": {
     "cell_type": "markdown",
     "checksum": "ff918e357cf1ea1c4e3eafdcebd02d9d",
     "grade": false,
     "grade_id": "cell-847592f1ed1f91e0",
     "locked": true,
     "schema_version": 3,
     "solution": false,
     "task": false
    }
   },
   "source": [
    "## Retrieving the data\n",
    "\n",
    "In what follows you will write functions to extract the information for one listing at a time. This means that the input to these functions should always be the code tag for a single listing. Hence, before moving on, make sure that you can extract these tags.\n",
    "\n",
    "<div class=\"alert alert-info\">Identify the code tag for each separate listing. Once you are done, use your <i>get_page</i> function above to extract the HTML code for the provided website and save the code tag corresponding to the first listing in a new variable called <i>first_listing</i></div>\n",
    "\n",
    "<div class=\"alert alert-warning\">If you inspect the HTML code for the webiste, you'll find that there are different options to choose form. All of them are valid choices, as long as you extract a block that contains all the information for each listing.</div>"
   ]
  },
  {
   "cell_type": "code",
   "execution_count": 6,
   "metadata": {
    "deletable": false,
    "nbgrader": {
     "cell_type": "code",
     "checksum": "00299825ec589694a38cd1d6cdfd59e5",
     "grade": false,
     "grade_id": "cell-787066b30028b145",
     "locked": false,
     "schema_version": 3,
     "solution": true,
     "task": false
    }
   },
   "outputs": [],
   "source": [
    "# YOUR CODE HERE\n",
    "#get HTML code of listing page using functions get_page\n",
    "listings_page = get_page(url)\n",
    "\n",
    "#listings_list = listings_page.find_all('div', {'itemprop':'itemListElement'})\n",
    "listing_class = '_1e541ba5'\n",
    "listings_list = listings_page.find_all('div', {'class':listing_class})\n",
    "\n",
    "#get first listing from list\n",
    "first_listing = listings_list[0]"
   ]
  },
  {
   "cell_type": "markdown",
   "metadata": {
    "deletable": false,
    "editable": false,
    "nbgrader": {
     "cell_type": "markdown",
     "checksum": "b925de19e9c6eea356a9e5ab2bb47082",
     "grade": false,
     "grade_id": "cell-99c1ea6fc8aace8a",
     "locked": true,
     "schema_version": 3,
     "solution": false,
     "task": false
    }
   },
   "source": [
    "<div class=\"alert alert-info\"><b>Exercise 2 </b>Write the code to create a function called <i>get_listing_title</i>. This function should take a <b>Tag object</b> containing the code tag for an individual listing as input and return a <b>string</b> with its title as output. If no title is listed for the provided code tag, then the function should return a <b>None</b>.<br><i>[0.5 points]</i></div>\n",
    "\n",
    "<div class=\"alert alert-warning\">Note that your function should only output the title for the provided listing.</div>"
   ]
  },
  {
   "cell_type": "code",
   "execution_count": 7,
   "metadata": {
    "deletable": false,
    "nbgrader": {
     "cell_type": "code",
     "checksum": "e312a6da82f8c4bc37df98d9182e9662",
     "grade": false,
     "grade_id": "ex2",
     "locked": false,
     "schema_version": 3,
     "solution": true,
     "task": false
    }
   },
   "outputs": [],
   "source": [
    "# YOUR CODE HERE\n",
    "#function that gets as input a tag object containing the code tag for a listing and returns the title in string form    \n",
    "def get_listing_title(tag_object):\n",
    "    try:\n",
    "        title_class = '_5kaapu'\n",
    "        title = tag_object.find('div', {'class':'_5kaapu'}).text\n",
    "        if len(title) > 0:\n",
    "            return str(title)\n",
    "        elif len(title) == 0 or title == None:\n",
    "            return None\n",
    "    except:\n",
    "        return None"
   ]
  },
  {
   "cell_type": "code",
   "execution_count": 8,
   "metadata": {},
   "outputs": [],
   "source": [
    "#for x in range(len(listings_list)):\n",
    "#    print(x, get_listing_title(listings_list[x]))"
   ]
  },
  {
   "cell_type": "markdown",
   "metadata": {
    "deletable": false,
    "editable": false,
    "nbgrader": {
     "cell_type": "markdown",
     "checksum": "371cb767361e96d177d3c6aa43b07b8e",
     "grade": false,
     "grade_id": "cell-ad7819fd2d105e26",
     "locked": true,
     "schema_version": 3,
     "solution": false,
     "task": false
    }
   },
   "source": [
    "The following cell runs additional checks to your code. Please **don't write any code here**. Just leave it as it is."
   ]
  },
  {
   "cell_type": "code",
   "execution_count": 9,
   "metadata": {
    "deletable": false,
    "editable": false,
    "nbgrader": {
     "cell_type": "code",
     "checksum": "2d45b45a441394c898e50021bbb8c5b6",
     "grade": true,
     "grade_id": "ex2_1",
     "locked": true,
     "points": 0.05,
     "schema_version": 3,
     "solution": false,
     "task": false
    }
   },
   "outputs": [],
   "source": [
    "# LEAVE BLANK"
   ]
  },
  {
   "cell_type": "code",
   "execution_count": 10,
   "metadata": {
    "deletable": false,
    "editable": false,
    "nbgrader": {
     "cell_type": "code",
     "checksum": "52eb9fe62a09a7378af08a9dd466fdc8",
     "grade": true,
     "grade_id": "ex2_2",
     "locked": true,
     "points": 0.1,
     "schema_version": 3,
     "solution": false,
     "task": false
    }
   },
   "outputs": [],
   "source": [
    "# LEAVE BLANK"
   ]
  },
  {
   "cell_type": "code",
   "execution_count": 11,
   "metadata": {
    "deletable": false,
    "editable": false,
    "nbgrader": {
     "cell_type": "code",
     "checksum": "04343e0e180845fac1444335fc76803e",
     "grade": true,
     "grade_id": "ex2_3",
     "locked": true,
     "points": 0.1,
     "schema_version": 3,
     "solution": false,
     "task": false
    }
   },
   "outputs": [],
   "source": [
    "# LEAVE BLANK"
   ]
  },
  {
   "cell_type": "code",
   "execution_count": 12,
   "metadata": {
    "deletable": false,
    "editable": false,
    "nbgrader": {
     "cell_type": "code",
     "checksum": "4f02037e841c68b5067a34d8af0ad4ae",
     "grade": true,
     "grade_id": "ex2_4",
     "locked": true,
     "points": 0.25,
     "schema_version": 3,
     "solution": false,
     "task": false
    }
   },
   "outputs": [],
   "source": [
    "# LEAVE BLANK"
   ]
  },
  {
   "cell_type": "markdown",
   "metadata": {
    "deletable": false,
    "editable": false,
    "nbgrader": {
     "cell_type": "markdown",
     "checksum": "e3757ba530a9fd59851e0712c6313c37",
     "grade": false,
     "grade_id": "cell-4002dcc653300291",
     "locked": true,
     "schema_version": 3,
     "solution": false,
     "task": false
    }
   },
   "source": [
    "<div class=\"alert alert-info\"><b>Exercise 3 </b>Write the code to create a function called <i>get_listing_subtitle</i>. This function should take a <b>Tag object</b> containing the code tag for an individual listing as input and return a <b>string</b> with its subtitle as output. If no subtitle is listed, then the function should return a <b>None</b>.<br><i>[0.5 points]</i></div>"
   ]
  },
  {
   "cell_type": "code",
   "execution_count": 13,
   "metadata": {
    "deletable": false,
    "nbgrader": {
     "cell_type": "code",
     "checksum": "69b315830f2239f6d81c0964227610ff",
     "grade": false,
     "grade_id": "ex3",
     "locked": false,
     "schema_version": 3,
     "solution": true,
     "task": false
    }
   },
   "outputs": [],
   "source": [
    "# YOUR CODE HERE\n",
    "def get_listing_subtitle(tag_object):\n",
    "    try:\n",
    "        subtitle_class = '_1xzimiid'\n",
    "        subtitle = tag_object.find('div', {'class':subtitle_class}).text\n",
    "\n",
    "        if len(subtitle) > 0: \n",
    "            return str(subtitle)\n",
    "        elif len(subtitle) == 0 or subtitle == None:\n",
    "            return None\n",
    "    except: \n",
    "        return None"
   ]
  },
  {
   "cell_type": "code",
   "execution_count": 14,
   "metadata": {},
   "outputs": [],
   "source": [
    "#test function \n",
    "#for x,y in enumerate(listings_list):\n",
    "#    print(get_listing_subtitle(listings_list[x]))"
   ]
  },
  {
   "cell_type": "markdown",
   "metadata": {
    "deletable": false,
    "editable": false,
    "nbgrader": {
     "cell_type": "markdown",
     "checksum": "43692e2e24ab9dd35e79ae0f26396f12",
     "grade": false,
     "grade_id": "cell-ad781fd2d105e26",
     "locked": true,
     "schema_version": 3,
     "solution": false,
     "task": false
    }
   },
   "source": [
    "The following cell runs additional checks to your code. Please **don't write any code here**. Just leave it as it is."
   ]
  },
  {
   "cell_type": "code",
   "execution_count": 15,
   "metadata": {
    "deletable": false,
    "editable": false,
    "nbgrader": {
     "cell_type": "code",
     "checksum": "44e5dfc8ab33bd1ed9a4ce3f5fd3aedc",
     "grade": true,
     "grade_id": "ex3_1",
     "locked": true,
     "points": 0.05,
     "schema_version": 3,
     "solution": false,
     "task": false
    }
   },
   "outputs": [],
   "source": [
    "# LEAVE BLANK"
   ]
  },
  {
   "cell_type": "code",
   "execution_count": 16,
   "metadata": {
    "deletable": false,
    "editable": false,
    "nbgrader": {
     "cell_type": "code",
     "checksum": "10b7d1a5364c48331e17a0dc1956276b",
     "grade": true,
     "grade_id": "ex3_2",
     "locked": true,
     "points": 0.1,
     "schema_version": 3,
     "solution": false,
     "task": false
    }
   },
   "outputs": [],
   "source": [
    "# LEAVE BLANK"
   ]
  },
  {
   "cell_type": "code",
   "execution_count": 17,
   "metadata": {
    "deletable": false,
    "editable": false,
    "nbgrader": {
     "cell_type": "code",
     "checksum": "680f0569f21a8d38a51368ce8e91c32c",
     "grade": true,
     "grade_id": "ex3_3",
     "locked": true,
     "points": 0.1,
     "schema_version": 3,
     "solution": false,
     "task": false
    }
   },
   "outputs": [],
   "source": [
    "# LEAVE BLANK"
   ]
  },
  {
   "cell_type": "code",
   "execution_count": 18,
   "metadata": {
    "deletable": false,
    "editable": false,
    "nbgrader": {
     "cell_type": "code",
     "checksum": "6590ca6aff2bb80911600b5229717ff7",
     "grade": true,
     "grade_id": "ex3_4",
     "locked": true,
     "points": 0.25,
     "schema_version": 3,
     "solution": false,
     "task": false
    }
   },
   "outputs": [],
   "source": [
    "# LEAVE BLANK"
   ]
  },
  {
   "cell_type": "markdown",
   "metadata": {
    "deletable": false,
    "editable": false,
    "nbgrader": {
     "cell_type": "markdown",
     "checksum": "cebac964c65f478807756f34f37f347f",
     "grade": false,
     "grade_id": "cell-b0d42d4b36c13526",
     "locked": true,
     "schema_version": 3,
     "solution": false,
     "task": false
    }
   },
   "source": [
    "As mentioned above, right below each listing's title there's a list of attributes that contains information about the number of guests allowed, the number of bedrooms, the number of beds and the number bathrooms. Let's create a new function that retrieves this information for each separate listing. \n",
    "\n",
    "<div class=\"alert alert-info\"><b>Exercise 4 </b>Write the code to complete function <i>get_listing_info</i>. This function should take a <b>Tag object</b> containing the code tag for an individual listing as input and return a <b>string</b> containing the detailed information as provided by the website. If no information is provided for one item, then the function should return a <i>None</i> for that item.<br><i>[0.5 points]</i></div>\n",
    "\n",
    "<div class=\"alert alert-warning\">For the example shown above, the function get_listing_info should return the string \"2 guests · 1 bedroom · 1 bed · 1.5 baths\"</div>"
   ]
  },
  {
   "cell_type": "code",
   "execution_count": 19,
   "metadata": {
    "deletable": false,
    "nbgrader": {
     "cell_type": "code",
     "checksum": "00ef2091bcd0c6ccc4ed66e901f1fff9",
     "grade": false,
     "grade_id": "ex4",
     "locked": false,
     "schema_version": 3,
     "solution": true,
     "task": false
    }
   },
   "outputs": [],
   "source": [
    "# YOUR CODE HERE\n",
    "def get_listing_info(tag_object):\n",
    "    try:\n",
    "        #get class and information in form of string\n",
    "        info_class = '_3c0zz1'\n",
    "        information = tag_object.find_all('div', {'class':info_class})[0].text\n",
    "        \n",
    "        #count how many dots are in the string\n",
    "        counter = information.count(' · ')\n",
    "\n",
    "        #information is complete, return information\n",
    "        if counter == 3:\n",
    "            return str(information)\n",
    "\n",
    "        #information is incomplete, check what is missing\n",
    "        elif counter < 3: \n",
    "            check_guest = ' guest' in information or ' guests' in information\n",
    "            check_bedroom = ' bedroom' in information or ' bedrooms' in information\n",
    "            check_bed = ' bed ' in information or ' beds' in information and not 'r' in information\n",
    "            check_bath = ' bath' in information or 'baths' in information\n",
    "\n",
    "            info_list = information.split(' · ')\n",
    "            \n",
    "            #insert None where information is missing\n",
    "            if check_guest == False:\n",
    "                info_list.insert(0, None)\n",
    "            if check_bedroom == False:\n",
    "                info_list.insert(1, None)\n",
    "            if check_bed == False:\n",
    "                info_list.insert(2, None)\n",
    "            if check_bath == False:\n",
    "                info_list.insert(3, None)\n",
    "\n",
    "            dot = ' · '\n",
    "            information = str(str(info_list[0]) + dot + str(info_list[1]) + dot + str(info_list[2]) + dot + str(info_list[3]))\n",
    "            return str(information)\n",
    "    except: \n",
    "        return None"
   ]
  },
  {
   "cell_type": "code",
   "execution_count": 20,
   "metadata": {},
   "outputs": [],
   "source": [
    "#for x in range(len(listings_list)):\n",
    "#    print(get_listing_info(listings_list[x]))"
   ]
  },
  {
   "cell_type": "markdown",
   "metadata": {
    "deletable": false,
    "editable": false,
    "nbgrader": {
     "cell_type": "markdown",
     "checksum": "716a512d8d81f236b122f13fa97957ca",
     "grade": false,
     "grade_id": "cell-6ceb170594b64bcc",
     "locked": true,
     "schema_version": 3,
     "solution": false,
     "task": false
    }
   },
   "source": [
    "The following cell runs additional checks to your code. Please **don't write any code here**. Just leave it as it is."
   ]
  },
  {
   "cell_type": "code",
   "execution_count": 21,
   "metadata": {
    "deletable": false,
    "editable": false,
    "nbgrader": {
     "cell_type": "code",
     "checksum": "c85d6f471a1298b87a9a5561c8731e86",
     "grade": true,
     "grade_id": "ex4_1",
     "locked": true,
     "points": 0.05,
     "schema_version": 3,
     "solution": false,
     "task": false
    }
   },
   "outputs": [],
   "source": [
    "# LEAVE BLANK"
   ]
  },
  {
   "cell_type": "code",
   "execution_count": 22,
   "metadata": {
    "deletable": false,
    "editable": false,
    "nbgrader": {
     "cell_type": "code",
     "checksum": "57712442ef356b34b74f76d3ed97960e",
     "grade": true,
     "grade_id": "ex4_2",
     "locked": true,
     "points": 0.1,
     "schema_version": 3,
     "solution": false,
     "task": false
    }
   },
   "outputs": [],
   "source": [
    "# LEAVE BLANK"
   ]
  },
  {
   "cell_type": "code",
   "execution_count": 23,
   "metadata": {
    "deletable": false,
    "editable": false,
    "nbgrader": {
     "cell_type": "code",
     "checksum": "8d4ee8334c7bf7e41a2c292de0c20ebf",
     "grade": true,
     "grade_id": "ex4_3",
     "locked": true,
     "points": 0.1,
     "schema_version": 3,
     "solution": false,
     "task": false
    }
   },
   "outputs": [],
   "source": [
    "# LEAVE BLANK"
   ]
  },
  {
   "cell_type": "code",
   "execution_count": 24,
   "metadata": {
    "deletable": false,
    "editable": false,
    "nbgrader": {
     "cell_type": "code",
     "checksum": "824dd243f5834af9c036333c9dc7dd01",
     "grade": true,
     "grade_id": "ex4_4",
     "locked": true,
     "points": 0.25,
     "schema_version": 3,
     "solution": false,
     "task": false
    }
   },
   "outputs": [],
   "source": [
    "# LEAVE BLANK"
   ]
  },
  {
   "cell_type": "markdown",
   "metadata": {
    "deletable": false,
    "editable": false,
    "nbgrader": {
     "cell_type": "markdown",
     "checksum": "f3d75e67353166fc0637b9e88e48bfaa",
     "grade": false,
     "grade_id": "cell-d4b9f8970c8c331f",
     "locked": true,
     "schema_version": 3,
     "solution": false,
     "task": false
    }
   },
   "source": [
    "Now that we have retrieved and formatted the basic information we can move on to the list of ammenities.\n",
    "\n",
    "<div class=\"alert alert-info\"><b>Exercise 5 </b>Write the code to create a function called <i>get_listing_ammenities</i>. This function should take a <b>Tag object</b> containing the code tag for an individual listing as input and return a <b>string</b> with the listing ammenities information as output, as shown in the website. If no information is provided, then the function should return a <i>None</i>.</div>\n",
    "\n",
    "<div class=\"alert alert-warning\">For the example shown above, the function get_listing_ammenities should return the string \"Pool · Wifi · Air conditioning · Kitchen\".</div>"
   ]
  },
  {
   "cell_type": "code",
   "execution_count": 25,
   "metadata": {
    "deletable": false,
    "nbgrader": {
     "cell_type": "code",
     "checksum": "bb47640b2984de2eac9bddf8c8c891c6",
     "grade": false,
     "grade_id": "ex5",
     "locked": false,
     "schema_version": 3,
     "solution": true,
     "task": false
    }
   },
   "outputs": [],
   "source": [
    "# YOUR CODE HERE\n",
    "def get_listing_ammenities(tag_object):\n",
    "    ammenities_class = '_3c0zz1'\n",
    "    try:\n",
    "        ammenities = tag_object.find_all('div', {'class':ammenities_class})[1].text\n",
    "\n",
    "        if len(ammenities) > 0: \n",
    "            return str(ammenities)\n",
    "        elif len(ammenities) == 0 or ammenities == []:\n",
    "            return None\n",
    "    except:\n",
    "        return None"
   ]
  },
  {
   "cell_type": "code",
   "execution_count": 26,
   "metadata": {},
   "outputs": [],
   "source": [
    "#for x in range(len(listings_list)):\n",
    "#    print(get_listing_ammenities(listings_list[x]))"
   ]
  },
  {
   "cell_type": "markdown",
   "metadata": {
    "deletable": false,
    "editable": false,
    "nbgrader": {
     "cell_type": "markdown",
     "checksum": "79cea87db3731fcd271e77bfd8415290",
     "grade": false,
     "grade_id": "cell-f2ae61060678b8a1",
     "locked": true,
     "schema_version": 3,
     "solution": false,
     "task": false
    }
   },
   "source": [
    "The following cell runs additional checks to your code. Please **don't write any code here**. Just leave it as it is."
   ]
  },
  {
   "cell_type": "code",
   "execution_count": 27,
   "metadata": {
    "deletable": false,
    "editable": false,
    "nbgrader": {
     "cell_type": "code",
     "checksum": "2df452d4146584f2e9374edd90ffa250",
     "grade": true,
     "grade_id": "ex5_1",
     "locked": true,
     "points": 0.05,
     "schema_version": 3,
     "solution": false,
     "task": false
    }
   },
   "outputs": [],
   "source": [
    "# LEAVE BLANK"
   ]
  },
  {
   "cell_type": "code",
   "execution_count": 28,
   "metadata": {
    "deletable": false,
    "editable": false,
    "nbgrader": {
     "cell_type": "code",
     "checksum": "deceaf364689a913b535039426788894",
     "grade": true,
     "grade_id": "ex5_2",
     "locked": true,
     "points": 0.1,
     "schema_version": 3,
     "solution": false,
     "task": false
    }
   },
   "outputs": [],
   "source": [
    "# LEAVE BLANK"
   ]
  },
  {
   "cell_type": "code",
   "execution_count": 29,
   "metadata": {
    "deletable": false,
    "editable": false,
    "nbgrader": {
     "cell_type": "code",
     "checksum": "3984127e9f290335ce36803793b97cf3",
     "grade": true,
     "grade_id": "ex5_3",
     "locked": true,
     "points": 0.1,
     "schema_version": 3,
     "solution": false,
     "task": false
    }
   },
   "outputs": [],
   "source": [
    "# LEAVE BLANK"
   ]
  },
  {
   "cell_type": "code",
   "execution_count": 30,
   "metadata": {
    "deletable": false,
    "editable": false,
    "nbgrader": {
     "cell_type": "code",
     "checksum": "ccfff3ff09b0e56f1cce395cebe5830f",
     "grade": true,
     "grade_id": "ex5_4",
     "locked": true,
     "points": 0.25,
     "schema_version": 3,
     "solution": false,
     "task": false
    }
   },
   "outputs": [],
   "source": [
    "# LEAVE BLANK"
   ]
  },
  {
   "cell_type": "markdown",
   "metadata": {
    "deletable": false,
    "editable": false,
    "nbgrader": {
     "cell_type": "markdown",
     "checksum": "a37b886b5c462c44a5c10fba3684ca5a",
     "grade": false,
     "grade_id": "cell-b070e24a5b5b4c64",
     "locked": true,
     "schema_version": 3,
     "solution": false,
     "task": false
    }
   },
   "source": [
    "<div class=\"alert alert-info\"><b>Exercise 6 </b>Write the code to create a function called <i>get_listing_rating</i>. This function should take a <b>Tag object</b> containing the code tag for an individual listing as input and return a <b>float</b> with its average rating as output. If no rating is listed, then the function should return a <i>None</i>.<br><i>[0.75 points]</i></div>"
   ]
  },
  {
   "cell_type": "code",
   "execution_count": 31,
   "metadata": {
    "deletable": false,
    "nbgrader": {
     "cell_type": "code",
     "checksum": "a5d70d0859a7e9513d16031567e1eb90",
     "grade": false,
     "grade_id": "ex6",
     "locked": false,
     "schema_version": 3,
     "solution": true,
     "task": false
    }
   },
   "outputs": [],
   "source": [
    "# YOUR CODE HERE\n",
    "def get_listing_rating(tag_object):\n",
    "    rating_class = '_10fy1f8'\n",
    "    \n",
    "    try:\n",
    "        avg_rating = tag_object.find('span', {'class':rating_class})  \n",
    "\n",
    "        if avg_rating.text != '': \n",
    "            return float(avg_rating.text)\n",
    "        elif avg_rating.text == '':\n",
    "            return None\n",
    "    except: \n",
    "        return None"
   ]
  },
  {
   "cell_type": "code",
   "execution_count": 32,
   "metadata": {},
   "outputs": [],
   "source": [
    "#for x in range(len(listings_list)):\n",
    "#    print(get_listing_rating(listings_list[x]))"
   ]
  },
  {
   "cell_type": "markdown",
   "metadata": {
    "deletable": false,
    "editable": false,
    "nbgrader": {
     "cell_type": "markdown",
     "checksum": "be7394478cbe13a89c599643b7850051",
     "grade": false,
     "grade_id": "cell-ad781fd2d10e26",
     "locked": true,
     "schema_version": 3,
     "solution": false,
     "task": false
    }
   },
   "source": [
    "The following cell runs additional checks to your code. Please **don't write any code here**. Just leave it as it is."
   ]
  },
  {
   "cell_type": "code",
   "execution_count": 33,
   "metadata": {
    "deletable": false,
    "editable": false,
    "nbgrader": {
     "cell_type": "code",
     "checksum": "269e40b1877b4e82fb91fdc38b061030",
     "grade": true,
     "grade_id": "ex6_1",
     "locked": true,
     "points": 0.05,
     "schema_version": 3,
     "solution": false,
     "task": false
    }
   },
   "outputs": [],
   "source": [
    "# LEAVE BLANK"
   ]
  },
  {
   "cell_type": "code",
   "execution_count": 34,
   "metadata": {
    "deletable": false,
    "editable": false,
    "nbgrader": {
     "cell_type": "code",
     "checksum": "6fb130fc7dd174f4b791167abe3578e0",
     "grade": true,
     "grade_id": "ex6_2",
     "locked": true,
     "points": 0.25,
     "schema_version": 3,
     "solution": false,
     "task": false
    }
   },
   "outputs": [],
   "source": [
    "# LEAVE BLANK"
   ]
  },
  {
   "cell_type": "code",
   "execution_count": 35,
   "metadata": {
    "deletable": false,
    "editable": false,
    "nbgrader": {
     "cell_type": "code",
     "checksum": "d0cc484bac38d0bbea207eafd940f9cc",
     "grade": true,
     "grade_id": "ex6_3",
     "locked": true,
     "points": 0.2,
     "schema_version": 3,
     "solution": false,
     "task": false
    }
   },
   "outputs": [],
   "source": [
    "# LEAVE BLANK"
   ]
  },
  {
   "cell_type": "code",
   "execution_count": 36,
   "metadata": {
    "deletable": false,
    "editable": false,
    "nbgrader": {
     "cell_type": "code",
     "checksum": "a93b3150d0bd141bcb4895bb624754b9",
     "grade": true,
     "grade_id": "ex6_4",
     "locked": true,
     "points": 0.25,
     "schema_version": 3,
     "solution": false,
     "task": false
    }
   },
   "outputs": [],
   "source": [
    "# LEAVE BLANK"
   ]
  },
  {
   "cell_type": "markdown",
   "metadata": {
    "deletable": false,
    "editable": false,
    "nbgrader": {
     "cell_type": "markdown",
     "checksum": "cd7cbfffff22a85ee897f24c142d3c20",
     "grade": false,
     "grade_id": "cell-39ce99aff6360d47",
     "locked": true,
     "schema_version": 3,
     "solution": false,
     "task": false
    }
   },
   "source": [
    "<div class=\"alert alert-info\"><b>Exercise 7 </b>Write the code to create a function called <i>get_listing_reviews</i>. This function should take a <b>Tag object</b> containing the code tag for an individual listing as input and return an <b>int</b> with its number of reviews as output. If no reviews are included, then the function should return a <i>None</i>.<br><i>[1.25 points]</i></div>"
   ]
  },
  {
   "cell_type": "code",
   "execution_count": 37,
   "metadata": {
    "deletable": false,
    "nbgrader": {
     "cell_type": "code",
     "checksum": "05ebfb30357af4a09ab8968990db619c",
     "grade": false,
     "grade_id": "ex7",
     "locked": false,
     "schema_version": 3,
     "solution": true,
     "task": false
    }
   },
   "outputs": [],
   "source": [
    "# YOUR CODE HERE\n",
    "def get_listing_reviews(tag_object):\n",
    "    reviews_class = '_a7a5sx'\n",
    "    try:\n",
    "        reviews = tag_object.find('span', {'class':reviews_class}).text.split('(')[1].split(' ')[0]\n",
    "        return int(reviews)\n",
    "    except:\n",
    "        return None"
   ]
  },
  {
   "cell_type": "code",
   "execution_count": 38,
   "metadata": {},
   "outputs": [],
   "source": [
    "#for x in range(len(listings_list)):\n",
    "#    print(get_listing_title(listings_list[x]), get_listing_reviews(listings_list[x]))"
   ]
  },
  {
   "cell_type": "markdown",
   "metadata": {
    "deletable": false,
    "editable": false,
    "nbgrader": {
     "cell_type": "markdown",
     "checksum": "dfce2acb241282a1617cf9b81f098346",
     "grade": false,
     "grade_id": "cell-d781fd2d10e26",
     "locked": true,
     "schema_version": 3,
     "solution": false,
     "task": false
    }
   },
   "source": [
    "The following cell runs additional checks to your code. Please **don't write any code here**. Just leave it as it is."
   ]
  },
  {
   "cell_type": "code",
   "execution_count": 39,
   "metadata": {
    "deletable": false,
    "editable": false,
    "nbgrader": {
     "cell_type": "code",
     "checksum": "6029b6053f1710692dbe293ec2710b84",
     "grade": true,
     "grade_id": "ex7_1",
     "locked": true,
     "points": 0.05,
     "schema_version": 3,
     "solution": false,
     "task": false
    }
   },
   "outputs": [],
   "source": [
    "# LEAVE BLANK"
   ]
  },
  {
   "cell_type": "code",
   "execution_count": 40,
   "metadata": {
    "deletable": false,
    "editable": false,
    "nbgrader": {
     "cell_type": "code",
     "checksum": "428486e51640b5e14a2c35b8f9326b22",
     "grade": true,
     "grade_id": "ex7_2",
     "locked": true,
     "points": 0.25,
     "schema_version": 3,
     "solution": false,
     "task": false
    }
   },
   "outputs": [],
   "source": [
    "# LEAVE BLANK"
   ]
  },
  {
   "cell_type": "code",
   "execution_count": 41,
   "metadata": {
    "deletable": false,
    "editable": false,
    "nbgrader": {
     "cell_type": "code",
     "checksum": "3ed2b03bcb60a4f84d344c8b7d14a5a7",
     "grade": true,
     "grade_id": "ex7_3",
     "locked": true,
     "points": 0.2,
     "schema_version": 3,
     "solution": false,
     "task": false
    }
   },
   "outputs": [],
   "source": [
    "# LEAVE BLANK"
   ]
  },
  {
   "cell_type": "code",
   "execution_count": 42,
   "metadata": {
    "deletable": false,
    "editable": false,
    "nbgrader": {
     "cell_type": "code",
     "checksum": "b7e973ba20138a9c6b672bf135348f2b",
     "grade": true,
     "grade_id": "ex7_4",
     "locked": true,
     "points": 0.75,
     "schema_version": 3,
     "solution": false,
     "task": false
    }
   },
   "outputs": [],
   "source": [
    "# LEAVE BLANK"
   ]
  },
  {
   "cell_type": "markdown",
   "metadata": {
    "deletable": false,
    "editable": false,
    "nbgrader": {
     "cell_type": "markdown",
     "checksum": "fdee1794d7b937ff9b1d82da6622f2ef",
     "grade": false,
     "grade_id": "cell-bd598b09b5bbae98",
     "locked": true,
     "schema_version": 3,
     "solution": false,
     "task": false
    }
   },
   "source": [
    "<div class=\"alert alert-info\"><b>Exercise 8 </b>Write the code to create a function called <i>get_listing_price_per_night</i>. This function should take a <b>Tag object</b> containing the code tag for an individual listing as input and return a <b>float</b> with its corresponding price per night. If no price is listed, then the function should return a <i>None</i>.<br><i>[1.75 points]</i></div>\n",
    "\n",
    "<div class=\"alert alert-warning\">Note that for some listing, two different prices are available: the regular price and the discounted price. When this is the case, your code should return the <b>discounted</b> price only.</div>\n",
    "\n",
    "<div class=\"alert alert-warning\">Note that depending on the chosen language for the website, the price may be listed in $ or €. Make sure your code is able to retrieve both in the right format, i.e. you don't need to convert th eucrrencies but make sure the output result is a float in both cases.</div>"
   ]
  },
  {
   "cell_type": "code",
   "execution_count": 43,
   "metadata": {
    "deletable": false,
    "nbgrader": {
     "cell_type": "code",
     "checksum": "c74d955df7802975bc8cebc0eda973ff",
     "grade": false,
     "grade_id": "ex8",
     "locked": false,
     "schema_version": 3,
     "solution": true,
     "task": false
    }
   },
   "outputs": [],
   "source": [
    "# YOUR CODE HERE\n",
    "def get_listing_price_per_night(tag_object):\n",
    "    price_class = '_tyxjp1'\n",
    "    \n",
    "    try: \n",
    "        price = tag_object.find('span', {'class':price_class}).text\n",
    "        if '$' in price: \n",
    "            price = float(price.split('$')[1])\n",
    "        elif '€' in price:\n",
    "            price = float(price.split('€')[1])\n",
    "        return price\n",
    "    except:\n",
    "        return None"
   ]
  },
  {
   "cell_type": "code",
   "execution_count": 44,
   "metadata": {},
   "outputs": [],
   "source": [
    "#for x in range(len(listings_list)):\n",
    "#    print(get_listing_price_per_night(listings_list[x]))"
   ]
  },
  {
   "cell_type": "markdown",
   "metadata": {
    "deletable": false,
    "editable": false,
    "nbgrader": {
     "cell_type": "markdown",
     "checksum": "2590d2390d4bfda86aca3bef3328ce5d",
     "grade": false,
     "grade_id": "cell-4be125725c82984f",
     "locked": true,
     "schema_version": 3,
     "solution": false,
     "task": false
    }
   },
   "source": [
    "The following cell runs additional checks to your code. Please **don't write any code here**. Just leave it as it is."
   ]
  },
  {
   "cell_type": "code",
   "execution_count": 45,
   "metadata": {
    "deletable": false,
    "editable": false,
    "nbgrader": {
     "cell_type": "code",
     "checksum": "cb9be9e2ba6cf0603f66f27cc9d61f2e",
     "grade": true,
     "grade_id": "ex8_1",
     "locked": true,
     "points": 0.05,
     "schema_version": 3,
     "solution": false,
     "task": false
    }
   },
   "outputs": [],
   "source": [
    "# LEAVE BLANK"
   ]
  },
  {
   "cell_type": "code",
   "execution_count": 46,
   "metadata": {
    "deletable": false,
    "editable": false,
    "nbgrader": {
     "cell_type": "code",
     "checksum": "c8cd58e7d3ff6f7984bfb5358d20526a",
     "grade": true,
     "grade_id": "ex8_2",
     "locked": true,
     "points": 0.5,
     "schema_version": 3,
     "solution": false,
     "task": false
    }
   },
   "outputs": [],
   "source": [
    "# LEAVE BLANK"
   ]
  },
  {
   "cell_type": "code",
   "execution_count": 47,
   "metadata": {
    "deletable": false,
    "editable": false,
    "nbgrader": {
     "cell_type": "code",
     "checksum": "0585ed18a480afdeb355268d2ab5116f",
     "grade": true,
     "grade_id": "ex8_3",
     "locked": true,
     "points": 0.2,
     "schema_version": 3,
     "solution": false,
     "task": false
    }
   },
   "outputs": [],
   "source": [
    "# LEAVE BLANK"
   ]
  },
  {
   "cell_type": "code",
   "execution_count": 48,
   "metadata": {
    "deletable": false,
    "editable": false,
    "nbgrader": {
     "cell_type": "code",
     "checksum": "55e452882dd1fac1a3c31bc529dd7e3a",
     "grade": true,
     "grade_id": "ex8_4",
     "locked": true,
     "points": 1,
     "schema_version": 3,
     "solution": false,
     "task": false
    }
   },
   "outputs": [],
   "source": [
    "# LEAVE BLANK"
   ]
  },
  {
   "cell_type": "markdown",
   "metadata": {
    "deletable": false,
    "editable": false,
    "nbgrader": {
     "cell_type": "markdown",
     "checksum": "df4f92ef9a96493fb09a1c597757798a",
     "grade": false,
     "grade_id": "cell-61dbba21276d1bb9",
     "locked": true,
     "schema_version": 3,
     "solution": false,
     "task": false
    }
   },
   "source": [
    "<div class=\"alert alert-info\"><b>Exercise 9 </b>Write the code to create a function called <i>get_listing_total_price</i>. This function should take a <b>Tag object</b> containing the code tag for an individual listing as input and return a <b>float</b> with its total price. If no total price is listed, then the function should return a <i>None</i>.<br><i>[1 point]</i></div>\n",
    "\n",
    "<div class=\"alert alert-warning\">Note that depending on the chosen language for the website, the price may be listed in $ or €. Make sure your code is able to retrieve both in the right format, i.e. you don't need to convert th eucrrencies but make sure the output result is a float in both cases.</div>"
   ]
  },
  {
   "cell_type": "code",
   "execution_count": 49,
   "metadata": {
    "deletable": false,
    "nbgrader": {
     "cell_type": "code",
     "checksum": "b8a1f9a9de9f54db0b178f5d7ed616df",
     "grade": false,
     "grade_id": "ex9",
     "locked": false,
     "schema_version": 3,
     "solution": true,
     "task": false
    }
   },
   "outputs": [],
   "source": [
    "# YOUR CODE HERE\n",
    "def get_listing_total_price(tag_object):\n",
    "    total_price_class = '_tt122m'\n",
    "    \n",
    "    try: \n",
    "        total_price = tag_object.find('div', {'class':total_price_class}).text\n",
    "        total_price = total_price.split(' ')[0]\n",
    "        \n",
    "        #replace coma with space if price is greater than 1000\n",
    "        if ',' in str(total_price):\n",
    "            total_price = total_price.replace(',', '')\n",
    "            \n",
    "        #remove currency sign and turn into float\n",
    "        if '$' in str(total_price): \n",
    "            total_price = float(total_price.split('$')[1])\n",
    "        elif '€' in str(total_price):\n",
    "            total_price = float(total_price.split('€')[1])\n",
    "\n",
    "        return total_price\n",
    "    except:\n",
    "        return None"
   ]
  },
  {
   "cell_type": "code",
   "execution_count": 50,
   "metadata": {},
   "outputs": [],
   "source": [
    "#for x in range(len(listings_list)):\n",
    "#    print(x, get_listing_total_price(listings_list[x]))"
   ]
  },
  {
   "cell_type": "markdown",
   "metadata": {
    "deletable": false,
    "editable": false,
    "nbgrader": {
     "cell_type": "markdown",
     "checksum": "f3417f8bb5597bbb3fd7605c60f8bcdb",
     "grade": false,
     "grade_id": "cell-bb50a747c535f555",
     "locked": true,
     "schema_version": 3,
     "solution": false,
     "task": false
    }
   },
   "source": [
    "The following cell runs additional checks to your code. Please **don't write any code here**. Just leave it as it is."
   ]
  },
  {
   "cell_type": "code",
   "execution_count": 51,
   "metadata": {
    "deletable": false,
    "editable": false,
    "nbgrader": {
     "cell_type": "code",
     "checksum": "153e7f44dc759be3704955331bc1dd54",
     "grade": true,
     "grade_id": "ex9_1",
     "locked": true,
     "points": 0.05,
     "schema_version": 3,
     "solution": false,
     "task": false
    }
   },
   "outputs": [],
   "source": [
    "# LEAVE BLANK"
   ]
  },
  {
   "cell_type": "code",
   "execution_count": 52,
   "metadata": {
    "deletable": false,
    "editable": false,
    "nbgrader": {
     "cell_type": "code",
     "checksum": "d680da8b75cfb1104ce49d0300a90ce2",
     "grade": true,
     "grade_id": "ex9_2",
     "locked": true,
     "points": 0.25,
     "schema_version": 3,
     "solution": false,
     "task": false
    }
   },
   "outputs": [],
   "source": [
    "# LEAVE BLANK"
   ]
  },
  {
   "cell_type": "code",
   "execution_count": 53,
   "metadata": {
    "deletable": false,
    "editable": false,
    "nbgrader": {
     "cell_type": "code",
     "checksum": "5be2478b8c32aa56939eda95d4b6777b",
     "grade": true,
     "grade_id": "ex9_3",
     "locked": true,
     "points": 0.2,
     "schema_version": 3,
     "solution": false,
     "task": false
    }
   },
   "outputs": [],
   "source": [
    "# LEAVE BLANK"
   ]
  },
  {
   "cell_type": "code",
   "execution_count": 54,
   "metadata": {
    "deletable": false,
    "editable": false,
    "nbgrader": {
     "cell_type": "code",
     "checksum": "8c73e44b800d8e738bde03d3e1c5c3ed",
     "grade": true,
     "grade_id": "ex9_4",
     "locked": true,
     "points": 0.5,
     "schema_version": 3,
     "solution": false,
     "task": false
    }
   },
   "outputs": [],
   "source": [
    "# LEAVE BLANK"
   ]
  },
  {
   "cell_type": "markdown",
   "metadata": {
    "deletable": false,
    "editable": false,
    "nbgrader": {
     "cell_type": "markdown",
     "checksum": "4a8e94d0fe2edd64a944b7b8c570fefc",
     "grade": false,
     "grade_id": "cell-6651f239ed52222b",
     "locked": true,
     "schema_version": 3,
     "solution": false,
     "task": false
    }
   },
   "source": [
    "You should now have the code ready to extract all the information for the listings displayed in the provided website. Before moving on, it might be a good idea to heck that your funcstion provide the right outptu for them all.\n",
    "\n",
    "## Looking for additional data\n",
    "\n",
    "If you take a closer look at the website, you'll see that there are additional pages of listings that you can visit. At the end of each page, there is a link that allows you to access the next page. Final thing left to do it to come up with a way to extract the data from all the different pages. \n",
    "\n",
    "<div class=\"alert alert-info\"><b>Exercise 10 </b>Write the code to create a function called <i>get_next_page</i>.This function should take a <b>BeautifulSoup object</b> containing the code for an individual page as input and return the <b> complete url</b> for the next page as output. If there are no more pages left, it should return a <i>None</i>. The <i>base_url</i> has already been defined for you.<br><i>[1.5 points]</i></div>\n",
    "\n",
    "<div class=\"alert alert-warning\">Note that this exercise requires you to check your code against different inputs. In particular, make sure that yoru functions returns the right output once it reaches the last page.</div>"
   ]
  },
  {
   "cell_type": "code",
   "execution_count": 55,
   "metadata": {},
   "outputs": [],
   "source": [
    "url_first_page = 'https://www.airbnb.com/s/Bali--Indonesia/homes?tab_id=home_tab&refinement_paths%5B%5D=%2Fhomes&flexible_trip_dates%5B%5D=november&flexible_trip_dates%5B%5D=october&flexible_trip_lengths%5B%5D=weekend_trip&date_picker_type=calendar&query=Bali%2C%20Indonesia&place_id=ChIJoQ8Q6NNB0S0RkOYkS7EPkSQ&checkin=2021-12-29&checkout=2022-01-03&source=structured_search_input_header&search_type=autocomplete_click'\n",
    "url_last_page = 'https://www.airbnb.com/s/Bali--Indonesia/homes?tab_id=home_tab&refinement_paths%5B%5D=%2Fhomes&flexible_trip_dates%5B%5D=november&flexible_trip_dates%5B%5D=october&flexible_trip_lengths%5B%5D=weekend_trip&date_picker_type=calendar&query=Bali%2C%20Indonesia&place_id=ChIJoQ8Q6NNB0S0RkOYkS7EPkSQ&checkin=2021-12-29&checkout=2022-01-03&source=structured_search_input_header&search_type=autocomplete_click&federated_search_session_id=78c8e5c9-3e06-4627-961e-941b7265ff36&pagination_search=true&items_offset=280&section_offset=2'"
   ]
  },
  {
   "cell_type": "code",
   "execution_count": 56,
   "metadata": {},
   "outputs": [],
   "source": [
    "#get first page\n",
    "first_page = get_page(url_first_page)\n",
    "#print(first_page.prettify())"
   ]
  },
  {
   "cell_type": "code",
   "execution_count": 57,
   "metadata": {},
   "outputs": [],
   "source": [
    "#get last page\n",
    "last_page = get_page(url_last_page)"
   ]
  },
  {
   "cell_type": "code",
   "execution_count": 58,
   "metadata": {
    "deletable": false,
    "nbgrader": {
     "cell_type": "code",
     "checksum": "fccb83651bf9c6a3c639b644bce4850c",
     "grade": false,
     "grade_id": "ex10",
     "locked": false,
     "schema_version": 3,
     "solution": true,
     "task": false
    }
   },
   "outputs": [],
   "source": [
    "base_url = \"https://airbnb.com\"\n",
    "\n",
    "# YOUR CODE HERE\n",
    "def get_next_page(beautifulsoup_object):\n",
    "    base_url = \"https://airbnb.com\"\n",
    "    next_button_class = '_za9j7e'\n",
    "    \n",
    "    next_button = beautifulsoup_object.find('a', {'class':next_button_class})\n",
    "    if next_button == None:\n",
    "        return None\n",
    "    else:\n",
    "        next_button = next_button.get('href')\n",
    "        next_url = base_url + next_button\n",
    "        return next_url"
   ]
  },
  {
   "cell_type": "code",
   "execution_count": 59,
   "metadata": {},
   "outputs": [],
   "source": [
    "#print(get_next_page(first_page))"
   ]
  },
  {
   "cell_type": "code",
   "execution_count": 60,
   "metadata": {},
   "outputs": [],
   "source": [
    "#print(get_next_page(last_page))"
   ]
  },
  {
   "cell_type": "markdown",
   "metadata": {
    "deletable": false,
    "editable": false,
    "nbgrader": {
     "cell_type": "markdown",
     "checksum": "5998392469b5c111a4f77adc3705f52c",
     "grade": false,
     "grade_id": "cell-bb50a747c535f55",
     "locked": true,
     "schema_version": 3,
     "solution": false,
     "task": false
    }
   },
   "source": [
    "The following cell runs additional checks to your code. Please **don't write any code here**. Just leave it as it is."
   ]
  },
  {
   "cell_type": "code",
   "execution_count": 61,
   "metadata": {
    "deletable": false,
    "editable": false,
    "nbgrader": {
     "cell_type": "code",
     "checksum": "1cf9a690dfb66bbb7a95c73af4215c60",
     "grade": true,
     "grade_id": "ex10_1",
     "locked": true,
     "points": 0.05,
     "schema_version": 3,
     "solution": false,
     "task": false
    }
   },
   "outputs": [],
   "source": [
    "# LEAVE BLANK"
   ]
  },
  {
   "cell_type": "code",
   "execution_count": 62,
   "metadata": {
    "deletable": false,
    "editable": false,
    "nbgrader": {
     "cell_type": "code",
     "checksum": "6bf9f09248223a3c59a70d24be5f400c",
     "grade": true,
     "grade_id": "ex10_2",
     "locked": true,
     "points": 0.2,
     "schema_version": 3,
     "solution": false,
     "task": false
    }
   },
   "outputs": [],
   "source": [
    "# LEAVE BLANK"
   ]
  },
  {
   "cell_type": "code",
   "execution_count": 63,
   "metadata": {
    "deletable": false,
    "editable": false,
    "nbgrader": {
     "cell_type": "code",
     "checksum": "700cdeb419ebdaee55b25de6c91fc86b",
     "grade": true,
     "grade_id": "ex10_3",
     "locked": true,
     "points": 0.5,
     "schema_version": 3,
     "solution": false,
     "task": false
    }
   },
   "outputs": [],
   "source": [
    "# LEAVE BLANK"
   ]
  },
  {
   "cell_type": "code",
   "execution_count": 64,
   "metadata": {
    "deletable": false,
    "editable": false,
    "nbgrader": {
     "cell_type": "code",
     "checksum": "28803de8f6abd72d98c1220a610b32f9",
     "grade": true,
     "grade_id": "ex10_4",
     "locked": true,
     "points": 0.75,
     "schema_version": 3,
     "solution": false,
     "task": false
    }
   },
   "outputs": [],
   "source": [
    "# LEAVE BLANK"
   ]
  },
  {
   "cell_type": "markdown",
   "metadata": {
    "deletable": false,
    "editable": false,
    "nbgrader": {
     "cell_type": "markdown",
     "checksum": "8cc3154dfff46f647aecb4db4c98134a",
     "grade": false,
     "grade_id": "cell-9eee4fdb9eaf4783",
     "locked": true,
     "schema_version": 3,
     "solution": false,
     "task": false
    }
   },
   "source": [
    "## Saving the data\n",
    "\n",
    "Great! You are done defining the required functions. Now, let's put it all together. Go ahead and retrieve the data for all the listings, for all the different pages. \n",
    "\n",
    "<div class=\"alert alert-info\"><b>Exercise 11</b> Write the code to retrieve the data above for all the listings in all the different pages. Store this information in a DataFrame object called <b>airbnb</b>. Set the names of the columns to: <i>title</i>, <i>subtitle</i>, <i>info</i>, <i>ammenities</i>, <i>rating</i>, <i>reviews</i>, <i>price_per_night</i> and <i>total_price</i>. Don't define any index when defining your DataFrame.<br><i>[1.5 point]</i></div>\n",
    "\n",
    "<div class=\"alert alert-warning\">Make sure you retrieve the information for al the listings. Each page contains <b>20 different listings</b>.</div>\n",
    "\n",
    "<div class=\"alert alert-warning\">Once you retrieve the data, make sure you check again that your functions return the right output in all cases. Otherwise, you my need to revise some of your code. </div>"
   ]
  },
  {
   "cell_type": "code",
   "execution_count": 65,
   "metadata": {
    "deletable": false,
    "nbgrader": {
     "cell_type": "code",
     "checksum": "9bc38d5c50156b9e03266f89791676b7",
     "grade": false,
     "grade_id": "ex11",
     "locked": false,
     "schema_version": 3,
     "solution": true,
     "task": false
    }
   },
   "outputs": [],
   "source": [
    "# YOUR CODE HERE\n",
    "#define starting url\n",
    "url = \"https://www.airbnb.com/s/Bali--Indonesia/homes?tab_id=home_tab&refinement_paths%5B%5D=%2Fhomes&flexible_trip_dates%5B%5D=november&flexible_trip_dates%5B%5D=october&flexible_trip_lengths%5B%5D=weekend_trip&date_picker_type=calendar&query=Bali%2C%20Indonesia&place_id=ChIJoQ8Q6NNB0S0RkOYkS7EPkSQ&checkin=2021-12-29&checkout=2022-01-03&source=structured_search_input_header&search_type=autocomplete_click\"\n",
    "\n",
    "#define variables\n",
    "title = []\n",
    "subtitle = []\n",
    "info = []\n",
    "ammenities = []\n",
    "rating = []\n",
    "reviews = []\n",
    "price_per_night = []\n",
    "total_price = []\n",
    "\n",
    "\n",
    "#while the url is not None\n",
    "while url != None:\n",
    "    #get the page from the url\n",
    "    page = get_page(url)\n",
    "\n",
    "    #store html code for each listing in a list\n",
    "    listing_class = '_1e541ba5'\n",
    "    listings_list = []\n",
    "    listings_list = page.find_all('div', {'class':listing_class})\n",
    "\n",
    "    #while loop if len(listing_list) is zero in order to make sure the page is retrieved\n",
    "    while len(listings_list) == 0:\n",
    "        listings_list = []\n",
    "        page = get_page(url)\n",
    "        listings_list = page.find_all('div', {'class':listing_class})\n",
    "\n",
    "    #for each element in listings_list\n",
    "    for element in range(len(listings_list)):\n",
    "        #get title and append it to corresponding variable\n",
    "        title.append(get_listing_title(listings_list[element]))\n",
    "        \n",
    "        #get subtitle\n",
    "        subtitle.append(get_listing_subtitle(listings_list[element]))\n",
    "        \n",
    "        #get information \n",
    "        info.append(get_listing_info(listings_list[element]))\n",
    "        \n",
    "        #get ammenities\n",
    "        ammenities.append(get_listing_ammenities(listings_list[element]))\n",
    "        \n",
    "        #get ratings\n",
    "        rating.append(get_listing_rating(listings_list[element]))\n",
    "        \n",
    "        #get reviews\n",
    "        reviews.append(get_listing_reviews(listings_list[element]))\n",
    "        \n",
    "        #get price per night\n",
    "        price_per_night.append(get_listing_price_per_night(listings_list[element]))\n",
    "        \n",
    "        #get total price\n",
    "        total_price.append(get_listing_total_price(listings_list[element]))\n",
    "\n",
    "    #get the next url and assign it to the variable url\n",
    "    url = get_next_page(page)\n",
    "\n"
   ]
  },
  {
   "cell_type": "code",
   "execution_count": 66,
   "metadata": {},
   "outputs": [],
   "source": [
    "#len(title) == len(subtitle) == len(ammenities) == len(rating) == len(reviews) == len(price_per_night) == len(total_price)\n",
    "#print(title, subtitle, ammenities, rating, price_per_night, total_price)"
   ]
  },
  {
   "cell_type": "code",
   "execution_count": 67,
   "metadata": {},
   "outputs": [],
   "source": [
    "#define dataframe\n",
    "import pandas as pd\n",
    "\n",
    "dict_data = {'title':title,\n",
    "             'subtitle':subtitle,\n",
    "             'info':info,\n",
    "             'ammenities':ammenities,\n",
    "             'rating':rating,\n",
    "             'reviews':reviews,\n",
    "             'price_per_night':price_per_night,\n",
    "             'total_price':total_price}\n",
    "             \n",
    "\n",
    "airbnb = pd.DataFrame(dict_data)"
   ]
  },
  {
   "cell_type": "code",
   "execution_count": 68,
   "metadata": {},
   "outputs": [
    {
     "data": {
      "text/html": [
       "<div>\n",
       "<style scoped>\n",
       "    .dataframe tbody tr th:only-of-type {\n",
       "        vertical-align: middle;\n",
       "    }\n",
       "\n",
       "    .dataframe tbody tr th {\n",
       "        vertical-align: top;\n",
       "    }\n",
       "\n",
       "    .dataframe thead th {\n",
       "        text-align: right;\n",
       "    }\n",
       "</style>\n",
       "<table border=\"1\" class=\"dataframe\">\n",
       "  <thead>\n",
       "    <tr style=\"text-align: right;\">\n",
       "      <th></th>\n",
       "      <th>title</th>\n",
       "      <th>subtitle</th>\n",
       "      <th>info</th>\n",
       "      <th>ammenities</th>\n",
       "      <th>rating</th>\n",
       "      <th>reviews</th>\n",
       "      <th>price_per_night</th>\n",
       "      <th>total_price</th>\n",
       "    </tr>\n",
       "  </thead>\n",
       "  <tbody>\n",
       "    <tr>\n",
       "      <th>0</th>\n",
       "      <td>❣️Romantic Staycation-PrivateSunset Pool@megan...</td>\n",
       "      <td>Entire villa in Ubud</td>\n",
       "      <td>2 guests · 1 bedroom · 1 bed · 1 bath</td>\n",
       "      <td>Pool · Wifi · Air conditioning</td>\n",
       "      <td>4.94</td>\n",
       "      <td>243.0</td>\n",
       "      <td>92.0</td>\n",
       "      <td>458.0</td>\n",
       "    </tr>\n",
       "    <tr>\n",
       "      <th>1</th>\n",
       "      <td>Cozy 2BR Villa with Panoramic View of Rice Fields</td>\n",
       "      <td>Entire villa in Kecamatan Ubud</td>\n",
       "      <td>6 guests · 2 bedrooms · 2 beds · 2 baths</td>\n",
       "      <td>Pool · Wifi · Air conditioning · Kitchen</td>\n",
       "      <td>4.93</td>\n",
       "      <td>41.0</td>\n",
       "      <td>348.0</td>\n",
       "      <td>1740.0</td>\n",
       "    </tr>\n",
       "    <tr>\n",
       "      <th>2</th>\n",
       "      <td>Sparkling Gem - private pool - Mins to La Brisa</td>\n",
       "      <td>Entire villa in Mengwi</td>\n",
       "      <td>3 guests · 1 bedroom · 2 beds · 1 bath</td>\n",
       "      <td>Pool · Wifi · Air conditioning</td>\n",
       "      <td>4.85</td>\n",
       "      <td>98.0</td>\n",
       "      <td>69.0</td>\n",
       "      <td>342.0</td>\n",
       "    </tr>\n",
       "    <tr>\n",
       "      <th>3</th>\n",
       "      <td>Bali Bamboo House | Rescape Ubud - Relief Villa</td>\n",
       "      <td>Hut in Ubud</td>\n",
       "      <td>2 guests · 1 bedroom · 1 bed · 1 bath</td>\n",
       "      <td>Pool · Wifi</td>\n",
       "      <td>4.72</td>\n",
       "      <td>39.0</td>\n",
       "      <td>71.0</td>\n",
       "      <td>354.0</td>\n",
       "    </tr>\n",
       "    <tr>\n",
       "      <th>4</th>\n",
       "      <td>NEW Private Luxe Villa, Jungle View-Pool-Koi Pond</td>\n",
       "      <td>Entire villa in Kecamatan Ubud</td>\n",
       "      <td>2 guests · 1 bedroom · 1 bed · 1 bath</td>\n",
       "      <td>Pool · Wifi · Air conditioning · Kitchen</td>\n",
       "      <td>5.00</td>\n",
       "      <td>16.0</td>\n",
       "      <td>71.0</td>\n",
       "      <td>355.0</td>\n",
       "    </tr>\n",
       "    <tr>\n",
       "      <th>...</th>\n",
       "      <td>...</td>\n",
       "      <td>...</td>\n",
       "      <td>...</td>\n",
       "      <td>...</td>\n",
       "      <td>...</td>\n",
       "      <td>...</td>\n",
       "      <td>...</td>\n",
       "      <td>...</td>\n",
       "    </tr>\n",
       "    <tr>\n",
       "      <th>295</th>\n",
       "      <td>One Bedroom Private Pool Villa - Monthly Discount</td>\n",
       "      <td>Entire villa in Kecamatan Kuta Selatan</td>\n",
       "      <td>2 guests · 1 bedroom · 1 bed · 1 bath</td>\n",
       "      <td>Pool · Wifi · Air conditioning · Kitchen</td>\n",
       "      <td>4.40</td>\n",
       "      <td>5.0</td>\n",
       "      <td>86.0</td>\n",
       "      <td>427.0</td>\n",
       "    </tr>\n",
       "    <tr>\n",
       "      <th>296</th>\n",
       "      <td>Walk to the Beach from this Gorgeous Designer ...</td>\n",
       "      <td>Entire villa in Seminyak</td>\n",
       "      <td>4 guests · 2 bedrooms · 2 beds · 2.5 baths</td>\n",
       "      <td>Pool · Wifi · Air conditioning · Kitchen</td>\n",
       "      <td>4.90</td>\n",
       "      <td>29.0</td>\n",
       "      <td>293.0</td>\n",
       "      <td>1464.0</td>\n",
       "    </tr>\n",
       "    <tr>\n",
       "      <th>297</th>\n",
       "      <td>Villa Beda</td>\n",
       "      <td>Entire villa in Kuta Utara</td>\n",
       "      <td>8 guests · 4 bedrooms · 4 beds · 4 baths</td>\n",
       "      <td>Pool · Wifi · Air conditioning · Kitchen</td>\n",
       "      <td>4.38</td>\n",
       "      <td>71.0</td>\n",
       "      <td>182.0</td>\n",
       "      <td>907.0</td>\n",
       "    </tr>\n",
       "    <tr>\n",
       "      <th>298</th>\n",
       "      <td>Cozy Room wth Pool - 10 min Walk to Ubud Market</td>\n",
       "      <td>Hotel room in Ubud</td>\n",
       "      <td>2 guests · 1 bedroom · 1 bed · 1 private bath</td>\n",
       "      <td>Pool · Wifi · Air conditioning</td>\n",
       "      <td>4.55</td>\n",
       "      <td>229.0</td>\n",
       "      <td>16.0</td>\n",
       "      <td>80.0</td>\n",
       "    </tr>\n",
       "    <tr>\n",
       "      <th>299</th>\n",
       "      <td>Amazing Villa With Hot Spring#1</td>\n",
       "      <td>Private room in Kecamatan Kintamani</td>\n",
       "      <td>2 guests · 1 bedroom · 1 bed · 1 private bath</td>\n",
       "      <td>Pool · Wifi</td>\n",
       "      <td>4.38</td>\n",
       "      <td>45.0</td>\n",
       "      <td>34.0</td>\n",
       "      <td>166.0</td>\n",
       "    </tr>\n",
       "  </tbody>\n",
       "</table>\n",
       "<p>300 rows × 8 columns</p>\n",
       "</div>"
      ],
      "text/plain": [
       "                                                 title  \\\n",
       "0    ❣️Romantic Staycation-PrivateSunset Pool@megan...   \n",
       "1    Cozy 2BR Villa with Panoramic View of Rice Fields   \n",
       "2      Sparkling Gem - private pool - Mins to La Brisa   \n",
       "3      Bali Bamboo House | Rescape Ubud - Relief Villa   \n",
       "4    NEW Private Luxe Villa, Jungle View-Pool-Koi Pond   \n",
       "..                                                 ...   \n",
       "295  One Bedroom Private Pool Villa - Monthly Discount   \n",
       "296  Walk to the Beach from this Gorgeous Designer ...   \n",
       "297                                         Villa Beda   \n",
       "298    Cozy Room wth Pool - 10 min Walk to Ubud Market   \n",
       "299                    Amazing Villa With Hot Spring#1   \n",
       "\n",
       "                                   subtitle  \\\n",
       "0                      Entire villa in Ubud   \n",
       "1            Entire villa in Kecamatan Ubud   \n",
       "2                    Entire villa in Mengwi   \n",
       "3                               Hut in Ubud   \n",
       "4            Entire villa in Kecamatan Ubud   \n",
       "..                                      ...   \n",
       "295  Entire villa in Kecamatan Kuta Selatan   \n",
       "296                Entire villa in Seminyak   \n",
       "297              Entire villa in Kuta Utara   \n",
       "298                      Hotel room in Ubud   \n",
       "299     Private room in Kecamatan Kintamani   \n",
       "\n",
       "                                              info  \\\n",
       "0            2 guests · 1 bedroom · 1 bed · 1 bath   \n",
       "1         6 guests · 2 bedrooms · 2 beds · 2 baths   \n",
       "2           3 guests · 1 bedroom · 2 beds · 1 bath   \n",
       "3            2 guests · 1 bedroom · 1 bed · 1 bath   \n",
       "4            2 guests · 1 bedroom · 1 bed · 1 bath   \n",
       "..                                             ...   \n",
       "295          2 guests · 1 bedroom · 1 bed · 1 bath   \n",
       "296     4 guests · 2 bedrooms · 2 beds · 2.5 baths   \n",
       "297       8 guests · 4 bedrooms · 4 beds · 4 baths   \n",
       "298  2 guests · 1 bedroom · 1 bed · 1 private bath   \n",
       "299  2 guests · 1 bedroom · 1 bed · 1 private bath   \n",
       "\n",
       "                                   ammenities  rating  reviews  \\\n",
       "0              Pool · Wifi · Air conditioning    4.94    243.0   \n",
       "1    Pool · Wifi · Air conditioning · Kitchen    4.93     41.0   \n",
       "2              Pool · Wifi · Air conditioning    4.85     98.0   \n",
       "3                                 Pool · Wifi    4.72     39.0   \n",
       "4    Pool · Wifi · Air conditioning · Kitchen    5.00     16.0   \n",
       "..                                        ...     ...      ...   \n",
       "295  Pool · Wifi · Air conditioning · Kitchen    4.40      5.0   \n",
       "296  Pool · Wifi · Air conditioning · Kitchen    4.90     29.0   \n",
       "297  Pool · Wifi · Air conditioning · Kitchen    4.38     71.0   \n",
       "298            Pool · Wifi · Air conditioning    4.55    229.0   \n",
       "299                               Pool · Wifi    4.38     45.0   \n",
       "\n",
       "     price_per_night  total_price  \n",
       "0               92.0        458.0  \n",
       "1              348.0       1740.0  \n",
       "2               69.0        342.0  \n",
       "3               71.0        354.0  \n",
       "4               71.0        355.0  \n",
       "..               ...          ...  \n",
       "295             86.0        427.0  \n",
       "296            293.0       1464.0  \n",
       "297            182.0        907.0  \n",
       "298             16.0         80.0  \n",
       "299             34.0        166.0  \n",
       "\n",
       "[300 rows x 8 columns]"
      ]
     },
     "execution_count": 68,
     "metadata": {},
     "output_type": "execute_result"
    }
   ],
   "source": [
    "airbnb"
   ]
  },
  {
   "cell_type": "markdown",
   "metadata": {
    "deletable": false,
    "editable": false,
    "nbgrader": {
     "cell_type": "markdown",
     "checksum": "afd8289c208b2469a0948ba0d7612a63",
     "grade": false,
     "grade_id": "cell-6c170594b64bcc",
     "locked": true,
     "schema_version": 3,
     "solution": false,
     "task": false
    }
   },
   "source": [
    "The following cell runs additional checks to your code. Please **don't write any code here**. Just leave it as it is."
   ]
  },
  {
   "cell_type": "code",
   "execution_count": 69,
   "metadata": {
    "deletable": false,
    "editable": false,
    "nbgrader": {
     "cell_type": "code",
     "checksum": "ab25784ff36b3c73d0697350015d0de5",
     "grade": true,
     "grade_id": "ex11_1",
     "locked": true,
     "points": 0.05,
     "schema_version": 3,
     "solution": false,
     "task": false
    }
   },
   "outputs": [],
   "source": [
    "# LEAVE BLANK"
   ]
  },
  {
   "cell_type": "code",
   "execution_count": 70,
   "metadata": {
    "deletable": false,
    "editable": false,
    "nbgrader": {
     "cell_type": "code",
     "checksum": "b2954ca0934ba65e3475a5e5b1a29a66",
     "grade": true,
     "grade_id": "ex11_2",
     "locked": true,
     "points": 0.2,
     "schema_version": 3,
     "solution": false,
     "task": false
    }
   },
   "outputs": [],
   "source": [
    "# LEAVE BLANK"
   ]
  },
  {
   "cell_type": "code",
   "execution_count": 71,
   "metadata": {
    "deletable": false,
    "editable": false,
    "nbgrader": {
     "cell_type": "code",
     "checksum": "18125c65029be9e7e4cbc4cbccceeac2",
     "grade": true,
     "grade_id": "ex11_3",
     "locked": true,
     "points": 0.25,
     "schema_version": 3,
     "solution": false,
     "task": false
    }
   },
   "outputs": [],
   "source": [
    "# LEAVE BLANK"
   ]
  },
  {
   "cell_type": "code",
   "execution_count": 72,
   "metadata": {
    "deletable": false,
    "editable": false,
    "nbgrader": {
     "cell_type": "code",
     "checksum": "f95dbefb5d47d60db0de14de773e2c42",
     "grade": true,
     "grade_id": "ex11_4",
     "locked": true,
     "points": 1,
     "schema_version": 3,
     "solution": false,
     "task": false
    }
   },
   "outputs": [],
   "source": [
    "# LEAVE BLANK"
   ]
  },
  {
   "cell_type": "markdown",
   "metadata": {
    "deletable": false,
    "editable": false,
    "nbgrader": {
     "cell_type": "markdown",
     "checksum": "c591d90afc013fd260dd983857d67934",
     "grade": false,
     "grade_id": "cell-b17246fab1666cac",
     "locked": true,
     "schema_version": 3,
     "solution": false,
     "task": false
    }
   },
   "source": [
    "## Bonus exercises\n",
    "\n",
    "The functions *get_listing_info* and *get_listing_ammenities* you created above do the job, but retrieve only the raw information. In order to be able to use these data, we will need to separate the different items.\n",
    "\n",
    "<div class=\"alert alert-danger\"><b>Bonus 1 </b>Write the code to create a function called <i>get_listing_info_2</i>. This function should take a soup object containing the code for an individual listing as input and return <b>a tuple containing 4 separate items</b>: the number of guests, the number of bedrooms, the number of beds and the number of baths. In all cases, the output should be returned in <b>float</b> form. If no information is provided for one item, then the function should return a <i>None</i> for that item. If no information is provided for any of the items, then the function should return a <i>None</i> for all of them.<br><i>[1 point]</i></div>\n",
    "\n",
    "<div class=\"alert alert-warning\">For the example shown above, the function get_listing_info_2 should return (2.0, 1.0, 1.0, 1.5). If a listing contains the information \"2 guests · 1 bedroom · 1.5 baths\", then the function get_listing_info_2 should return (2.0, 1.0, None, 1.5). If a listing contains the information \"3 guests · 1 private bedroom · 2 beds · 1 shared bath\", the function get_listing_info_2 should return (3.0, 1.0, 2.0, 1.0). If a listing contains the information \"4 guests · Studio · 2 beds · 1 private bath\", then the function get_listing_info_2 should return (4.0, None, 2.0, 1.0)</div>\n",
    "\n",
    "<div class=\"alert alert-warning\">You'll find that, for some reason, certain listings have a very misterious thing called <i>Half-bath</i>. Encode those cases using a 0.5 in <b>float</b> form.</div>\n",
    "\n",
    "<div class=\"alert alert-warning\">If necessary, your function can call other functions. Just make sure that all the code it needs to run properly is included below. </div>"
   ]
  },
  {
   "cell_type": "code",
   "execution_count": 73,
   "metadata": {
    "deletable": false,
    "nbgrader": {
     "cell_type": "code",
     "checksum": "71daf634a8103fa0c75e52f8216f9f04",
     "grade": false,
     "grade_id": "b1",
     "locked": false,
     "schema_version": 3,
     "solution": true,
     "task": false
    }
   },
   "outputs": [],
   "source": [
    "# YOUR CODE HERE\n",
    "def get_listing_info_2(tag_object):\n",
    "    try:\n",
    "        info_class = '_3c0zz1'\n",
    "        information = tag_object.find_all('div', {'class':info_class})[0].text\n",
    "\n",
    "        counter = information.count(' · ')\n",
    "\n",
    "        #information is complete, namely there are 4 pieces of information\n",
    "        if counter == 3:\n",
    "            info_list = information.split(' · ')\n",
    "\n",
    "            #get number of guests\n",
    "            guests = float(info_list[0].split(' ')[0])\n",
    "\n",
    "            #get number of bedrooms, if Studio return None\n",
    "            if info_list[1] == \"Studio\":\n",
    "                bedrooms = None\n",
    "            else:\n",
    "                bedrooms = float(info_list[1].split(' ')[0])\n",
    "\n",
    "            #get number of beds\n",
    "            beds = float(info_list[2].split(' ')[0])\n",
    "\n",
    "            #get number of baths, if Half-bath, return 0.5\n",
    "            if info_list[3] == \"Half-bath\":\n",
    "                baths = float(0.5)\n",
    "            else:\n",
    "                baths = float(info_list[3].split(' ')[0])\n",
    "\n",
    "            return(guests, bedrooms, beds, baths)\n",
    "\n",
    "        #information is incomplete, check what is missing\n",
    "        elif counter < 3: \n",
    "            check_guest = ' guest' in information or ' guests' in information\n",
    "            check_bedroom = ' bedroom' in information or ' bedrooms' in information\n",
    "            check_studio = 'Studio' in information\n",
    "            check_bed = ' bed ' in information or ' beds' in information and not 'r' in information\n",
    "            check_bath = ' bath' in information or ' baths' in information\n",
    "            check_half_bath = ' Half-bath'in information\n",
    "\n",
    "            info_list = information.split(' · ')\n",
    "\n",
    "            #insert None where information is missing, otherwise take values\n",
    "            if check_guest == False:\n",
    "                info_list.insert(0, None)\n",
    "                guests = None\n",
    "            elif check_guest == True and info_list[0] != None: \n",
    "                guests = float(info_list[0].split(' ')[0])\n",
    "\n",
    "            if check_bedroom == False and check_studio == False:\n",
    "                info_list.insert(1, None)\n",
    "                bedroom = None\n",
    "            elif check_studio == True: \n",
    "                info_list[1] = None\n",
    "                bedroom = None\n",
    "            elif check_bedroom == True and check_studio == False:\n",
    "                bedrooms = float(info_list[1].split(' ')[0])\n",
    "\n",
    "            if check_bed == False:\n",
    "                info_list.insert(2, None)\n",
    "                beds = None\n",
    "            elif check_bed == True:\n",
    "                beds = float(info_list[2].split(' ')[0])\n",
    "                \n",
    "            if check_bath == False and check_half_bath == False:\n",
    "                info_list.insert(3, None)\n",
    "                bath = None\n",
    "            elif check_bath == True:\n",
    "                baths = float(info_list[3].split(' ')[0])\n",
    "            elif check_half_bath == True and check_bath == False:\n",
    "                baths = float(0.5)\n",
    "            \n",
    "            return(guests, bedrooms, beds, baths)\n",
    "    except: \n",
    "        return None"
   ]
  },
  {
   "cell_type": "code",
   "execution_count": 74,
   "metadata": {},
   "outputs": [],
   "source": [
    "#for x in range(len(listings_list)):\n",
    "#    print(get_listing_info_2(listings_list[x]))"
   ]
  },
  {
   "cell_type": "markdown",
   "metadata": {
    "deletable": false,
    "editable": false,
    "nbgrader": {
     "cell_type": "markdown",
     "checksum": "9336b1e55bb43408d44602127c619391",
     "grade": false,
     "grade_id": "cell-6ce170594b64bcc",
     "locked": true,
     "schema_version": 3,
     "solution": false,
     "task": false
    }
   },
   "source": [
    "The following cell runs additional checks to your code. Please **don't write any code here**. Just leave it as it is."
   ]
  },
  {
   "cell_type": "code",
   "execution_count": 75,
   "metadata": {
    "deletable": false,
    "editable": false,
    "nbgrader": {
     "cell_type": "code",
     "checksum": "e3c956b8d22072dfd56516154ace6697",
     "grade": true,
     "grade_id": "b1_1",
     "locked": true,
     "points": 0.05,
     "schema_version": 3,
     "solution": false,
     "task": false
    }
   },
   "outputs": [],
   "source": [
    "# LEAVE BLANK"
   ]
  },
  {
   "cell_type": "code",
   "execution_count": 76,
   "metadata": {
    "deletable": false,
    "editable": false,
    "nbgrader": {
     "cell_type": "code",
     "checksum": "c2b9ed002fcdb3908005ad6c879f03ef",
     "grade": true,
     "grade_id": "b1_2",
     "locked": true,
     "points": 0.25,
     "schema_version": 3,
     "solution": false,
     "task": false
    }
   },
   "outputs": [],
   "source": [
    "# LEAVE BLANK"
   ]
  },
  {
   "cell_type": "code",
   "execution_count": 77,
   "metadata": {
    "deletable": false,
    "editable": false,
    "nbgrader": {
     "cell_type": "code",
     "checksum": "1ebfd2789a0996aa11c536550a0cfb3e",
     "grade": true,
     "grade_id": "b1_3",
     "locked": true,
     "points": 0.2,
     "schema_version": 3,
     "solution": false,
     "task": false
    }
   },
   "outputs": [],
   "source": [
    "# LEAVE BLANK"
   ]
  },
  {
   "cell_type": "code",
   "execution_count": 78,
   "metadata": {
    "deletable": false,
    "editable": false,
    "nbgrader": {
     "cell_type": "code",
     "checksum": "a4a21596c23385d22bae13423101a834",
     "grade": true,
     "grade_id": "b1_4",
     "locked": true,
     "points": 0.75,
     "schema_version": 3,
     "solution": false,
     "task": false
    }
   },
   "outputs": [],
   "source": [
    "# LEAVE BLANK"
   ]
  },
  {
   "cell_type": "markdown",
   "metadata": {
    "deletable": false,
    "editable": false,
    "nbgrader": {
     "cell_type": "markdown",
     "checksum": "78a2fdc22b40adb61101c7240f63e22e",
     "grade": false,
     "grade_id": "cell-ef85e8a13c8738d9",
     "locked": true,
     "schema_version": 3,
     "solution": false,
     "task": false
    }
   },
   "source": [
    "Appart from the general information, when searching for the best choice, there might be some specific things we are looking for. I don't know about you, but I would definitely look for a place with a pool, a kitchen, wifi and definitely some air conditioning.\n",
    "\n",
    "<div class=\"alert alert-danger\"><b>Bonus 2 </b>Write the code to create a function called <i>get_listing_ammenities_2</i>. This function should take a soup object containing the code for an individual listing as input and return <b>a tuple containing 4 booleans</b> corresponding to whether the considered listing includes a pool, a kitchen, wifi, and air conditioning (in this order). If no ammenities are listed, the function should return False for all the entries.<br><i>[1 point]</i></div>\n",
    "\n",
    "<div class=\"alert alert-warning\">For the example shown above, the function get_listing_ammenities_2 should return (True, True, True, False). If a listing contains the information \"Poll · Kitchen\", then the function get_listing_ammenities_2 should return (True, True, False, False).</div>\n",
    "\n",
    "<div class=\"alert alert-warning\">If necessary, your function can call other functions. Just make sure that all the code it needs to run properly is included below. </div>"
   ]
  },
  {
   "cell_type": "code",
   "execution_count": 79,
   "metadata": {
    "deletable": false,
    "nbgrader": {
     "cell_type": "code",
     "checksum": "9a0c89e02effb8580c44c29b67676568",
     "grade": false,
     "grade_id": "b2",
     "locked": false,
     "schema_version": 3,
     "solution": true,
     "task": false
    }
   },
   "outputs": [],
   "source": [
    "# YOUR CODE HERE\n",
    "def get_listing_ammenities_2(tag_object):\n",
    "    ammenities_class = '_3c0zz1'\n",
    "    try:\n",
    "        ammenities = tag_object.find_all('div', {'class':ammenities_class})[1].text\n",
    "        \n",
    "        if len(ammenities) > 0: \n",
    "            #check pool\n",
    "            pool = 'Pool' in ammenities\n",
    "            #check kitchen\n",
    "            kitchen = 'Kitchen' in ammenities\n",
    "            #check wifi\n",
    "            wifi = 'Wifi' in ammenities\n",
    "            #check aircon\n",
    "            aircon = 'Air conditioning' in ammenities\n",
    "\n",
    "            return(pool, kitchen, wifi, aircon)\n",
    "        elif len(ammenities) == 0 or ammenities == []:\n",
    "            pool = False\n",
    "            kitchen = False\n",
    "            wifi = False\n",
    "            aircon = False\n",
    "            return(pool, kitchen, wifi, aircon)\n",
    "        \n",
    "    except:\n",
    "        pool = False\n",
    "        kitchen = False\n",
    "        wifi = False\n",
    "        aircon = False\n",
    "        return(pool, kitchen, wifi, aircon)"
   ]
  },
  {
   "cell_type": "code",
   "execution_count": 80,
   "metadata": {},
   "outputs": [],
   "source": [
    "#for x in range(len(listings_list)):\n",
    "#    print(get_listing_ammenities_2(listings_list[x]))"
   ]
  },
  {
   "cell_type": "markdown",
   "metadata": {
    "deletable": false,
    "editable": false,
    "nbgrader": {
     "cell_type": "markdown",
     "checksum": "6ec07918a12d9e87a5fdcbda75b59c24",
     "grade": false,
     "grade_id": "cell-dadae4f660e52f6",
     "locked": true,
     "schema_version": 3,
     "solution": false,
     "task": false
    }
   },
   "source": [
    "The following cells runs additional checks to your code. Please **don't write any code here**. Just leave them as they are."
   ]
  },
  {
   "cell_type": "code",
   "execution_count": 81,
   "metadata": {
    "deletable": false,
    "editable": false,
    "nbgrader": {
     "cell_type": "code",
     "checksum": "8a09c9781c98d195a677b64d5ab01f94",
     "grade": true,
     "grade_id": "b2_1",
     "locked": true,
     "points": 0.05,
     "schema_version": 3,
     "solution": false,
     "task": false
    }
   },
   "outputs": [],
   "source": [
    "# LEAVE BLANK"
   ]
  },
  {
   "cell_type": "code",
   "execution_count": 82,
   "metadata": {
    "deletable": false,
    "editable": false,
    "nbgrader": {
     "cell_type": "code",
     "checksum": "a47a70fa4b66bcb0fecb9a27d7f24994",
     "grade": true,
     "grade_id": "b2_2",
     "locked": true,
     "points": 0.25,
     "schema_version": 3,
     "solution": false,
     "task": false
    }
   },
   "outputs": [],
   "source": [
    "# LEAVE BLANK"
   ]
  },
  {
   "cell_type": "code",
   "execution_count": 83,
   "metadata": {
    "deletable": false,
    "editable": false,
    "nbgrader": {
     "cell_type": "code",
     "checksum": "8aeb91ed996d649cfc589a870a79357e",
     "grade": true,
     "grade_id": "b2_3",
     "locked": true,
     "points": 0.2,
     "schema_version": 3,
     "solution": false,
     "task": false
    }
   },
   "outputs": [],
   "source": [
    "# LEAVE BLANK"
   ]
  },
  {
   "cell_type": "code",
   "execution_count": 84,
   "metadata": {
    "deletable": false,
    "editable": false,
    "nbgrader": {
     "cell_type": "code",
     "checksum": "82a6deec4f1723a960c320958f397387",
     "grade": true,
     "grade_id": "b2_4",
     "locked": true,
     "points": 0.75,
     "schema_version": 3,
     "solution": false,
     "task": false
    }
   },
   "outputs": [],
   "source": [
    "# LEAVE BLANK"
   ]
  },
  {
   "cell_type": "markdown",
   "metadata": {
    "deletable": false,
    "editable": false,
    "nbgrader": {
     "cell_type": "markdown",
     "checksum": "3ed99d1df534ae353245d451335b786b",
     "grade": false,
     "grade_id": "cell-9eee4db9eaf4783",
     "locked": true,
     "schema_version": 3,
     "solution": false,
     "task": false
    }
   },
   "source": [
    "Now that you have finished writing the code for the more advanced functions, you may want to use them to extract the corresponding data and update your DataFrame.\n",
    "\n",
    "<div class=\"alert alert-info\">Write the code to extract data regarding the number of guests, bedrooms, beds and bathrooms, as well as the data about whether the listings include a pool, a kitchen, wifi or air conditioning. Update your <i>airbnb</i> DataFrame to include this information and save your results to a new csv file.</div>"
   ]
  },
  {
   "cell_type": "code",
   "execution_count": 85,
   "metadata": {
    "deletable": false,
    "nbgrader": {
     "cell_type": "code",
     "checksum": "50c967ae7ada963877ea3d0a29795c46",
     "grade": false,
     "grade_id": "cellc00597312c36fe",
     "locked": false,
     "schema_version": 3,
     "solution": true,
     "task": false
    }
   },
   "outputs": [],
   "source": [
    "# YOUR CODE HERE\n",
    "#define starting url\n",
    "url = \"https://www.airbnb.com/s/Bali--Indonesia/homes?tab_id=home_tab&refinement_paths%5B%5D=%2Fhomes&flexible_trip_dates%5B%5D=november&flexible_trip_dates%5B%5D=october&flexible_trip_lengths%5B%5D=weekend_trip&date_picker_type=calendar&query=Bali%2C%20Indonesia&place_id=ChIJoQ8Q6NNB0S0RkOYkS7EPkSQ&checkin=2021-12-29&checkout=2022-01-03&source=structured_search_input_header&search_type=autocomplete_click\"\n",
    "\n",
    "guests = []\n",
    "bedrooms = []\n",
    "beds = []\n",
    "bathrooms = []\n",
    "\n",
    "pool = []\n",
    "kitchen = []\n",
    "wifi = []\n",
    "aircon = []\n",
    "\n",
    "\n",
    "#while the url is not None\n",
    "while url != None:\n",
    "    #get the page from the url\n",
    "    page = get_page(url)\n",
    "\n",
    "    #store html code for each listing in a list\n",
    "    listing_class = '_1e541ba5'\n",
    "    listings_list = []\n",
    "    listings_list = page.find_all('div', {'class':listing_class})\n",
    "\n",
    "    #while loop that runs if the len(listing_list) is zero\n",
    "    while len(listings_list) == 0:\n",
    "        listings_list = []\n",
    "        page = get_page(url)\n",
    "        listings_list = page.find_all('div', {'class':listing_class})\n",
    "\n",
    "    #for each element in listings_list\n",
    "    for element in range(len(listings_list)):\n",
    "        \n",
    "        if get_listing_info_2(listings_list[element]) != None:\n",
    "            #get information \n",
    "            guests.append(get_listing_info_2(listings_list[element])[0])\n",
    "            bedrooms.append(get_listing_info_2(listings_list[element])[1])\n",
    "            beds.append(get_listing_info_2(listings_list[element])[2])\n",
    "            bathrooms.append(get_listing_info_2(listings_list[element])[3])\n",
    "        elif get_listing_info_2(listings_list[element]) == None:\n",
    "            guests = None\n",
    "            bedrooms = None\n",
    "            beds = None\n",
    "            bathrooms = None\n",
    "        \n",
    "        if get_listing_ammenities_2(listings_list[element]) != None:\n",
    "            #get ammenities\n",
    "            pool.append(get_listing_ammenities_2(listings_list[element])[0])\n",
    "            kitchen.append(get_listing_ammenities_2(listings_list[element])[1])\n",
    "            wifi.append(get_listing_ammenities_2(listings_list[element])[2])\n",
    "            aircon.append(get_listing_ammenities_2(listings_list[element])[3])\n",
    "        elif get_listing_ammenities_2(listings_list[element]) == None:\n",
    "            pool = None\n",
    "            kitchen = None\n",
    "            wifi = None\n",
    "            aircon = None\n",
    "\n",
    "\n",
    "    #get the next url and assign it to the variable url\n",
    "    url = get_next_page(page)"
   ]
  },
  {
   "cell_type": "code",
   "execution_count": 86,
   "metadata": {},
   "outputs": [],
   "source": [
    "#len(guests) == len(bedrooms) == len(beds) == len(bathrooms)\n",
    "#len(pool) == len(kitchen) == len(wifi) == len(aircon)"
   ]
  },
  {
   "cell_type": "code",
   "execution_count": 87,
   "metadata": {},
   "outputs": [],
   "source": [
    "airbnb.drop('info', inplace=True, axis=1)\n",
    "airbnb.drop('ammenities', inplace=True, axis=1)"
   ]
  },
  {
   "cell_type": "code",
   "execution_count": 88,
   "metadata": {},
   "outputs": [],
   "source": [
    "airbnb['guests'] = guests\n",
    "airbnb['bedrooms'] = bedrooms\n",
    "airbnb['beds'] = beds\n",
    "airbnb['bathrooms'] = bathrooms\n",
    "\n",
    "airbnb['pool'] = pool\n",
    "airbnb['kitchen'] = kitchen\n",
    "airbnb['wifi'] = wifi\n",
    "airbnb['airconditioning'] = aircon"
   ]
  },
  {
   "cell_type": "code",
   "execution_count": 89,
   "metadata": {},
   "outputs": [
    {
     "data": {
      "text/html": [
       "<div>\n",
       "<style scoped>\n",
       "    .dataframe tbody tr th:only-of-type {\n",
       "        vertical-align: middle;\n",
       "    }\n",
       "\n",
       "    .dataframe tbody tr th {\n",
       "        vertical-align: top;\n",
       "    }\n",
       "\n",
       "    .dataframe thead th {\n",
       "        text-align: right;\n",
       "    }\n",
       "</style>\n",
       "<table border=\"1\" class=\"dataframe\">\n",
       "  <thead>\n",
       "    <tr style=\"text-align: right;\">\n",
       "      <th></th>\n",
       "      <th>title</th>\n",
       "      <th>subtitle</th>\n",
       "      <th>rating</th>\n",
       "      <th>reviews</th>\n",
       "      <th>price_per_night</th>\n",
       "      <th>total_price</th>\n",
       "      <th>guests</th>\n",
       "      <th>bedrooms</th>\n",
       "      <th>beds</th>\n",
       "      <th>bathrooms</th>\n",
       "      <th>pool</th>\n",
       "      <th>kitchen</th>\n",
       "      <th>wifi</th>\n",
       "      <th>airconditioning</th>\n",
       "    </tr>\n",
       "  </thead>\n",
       "  <tbody>\n",
       "    <tr>\n",
       "      <th>0</th>\n",
       "      <td>❣️Romantic Staycation-PrivateSunset Pool@megan...</td>\n",
       "      <td>Entire villa in Ubud</td>\n",
       "      <td>4.94</td>\n",
       "      <td>243.0</td>\n",
       "      <td>92.0</td>\n",
       "      <td>458.0</td>\n",
       "      <td>2.0</td>\n",
       "      <td>1.0</td>\n",
       "      <td>1.0</td>\n",
       "      <td>1.0</td>\n",
       "      <td>True</td>\n",
       "      <td>False</td>\n",
       "      <td>True</td>\n",
       "      <td>True</td>\n",
       "    </tr>\n",
       "    <tr>\n",
       "      <th>1</th>\n",
       "      <td>Cozy 2BR Villa with Panoramic View of Rice Fields</td>\n",
       "      <td>Entire villa in Kecamatan Ubud</td>\n",
       "      <td>4.93</td>\n",
       "      <td>41.0</td>\n",
       "      <td>348.0</td>\n",
       "      <td>1740.0</td>\n",
       "      <td>6.0</td>\n",
       "      <td>2.0</td>\n",
       "      <td>2.0</td>\n",
       "      <td>2.0</td>\n",
       "      <td>True</td>\n",
       "      <td>True</td>\n",
       "      <td>True</td>\n",
       "      <td>True</td>\n",
       "    </tr>\n",
       "    <tr>\n",
       "      <th>2</th>\n",
       "      <td>Sparkling Gem - private pool - Mins to La Brisa</td>\n",
       "      <td>Entire villa in Mengwi</td>\n",
       "      <td>4.85</td>\n",
       "      <td>98.0</td>\n",
       "      <td>69.0</td>\n",
       "      <td>342.0</td>\n",
       "      <td>2.0</td>\n",
       "      <td>1.0</td>\n",
       "      <td>1.0</td>\n",
       "      <td>1.0</td>\n",
       "      <td>True</td>\n",
       "      <td>False</td>\n",
       "      <td>True</td>\n",
       "      <td>False</td>\n",
       "    </tr>\n",
       "    <tr>\n",
       "      <th>3</th>\n",
       "      <td>Bali Bamboo House | Rescape Ubud - Relief Villa</td>\n",
       "      <td>Hut in Ubud</td>\n",
       "      <td>4.72</td>\n",
       "      <td>39.0</td>\n",
       "      <td>71.0</td>\n",
       "      <td>354.0</td>\n",
       "      <td>3.0</td>\n",
       "      <td>1.0</td>\n",
       "      <td>2.0</td>\n",
       "      <td>1.0</td>\n",
       "      <td>True</td>\n",
       "      <td>False</td>\n",
       "      <td>True</td>\n",
       "      <td>True</td>\n",
       "    </tr>\n",
       "    <tr>\n",
       "      <th>4</th>\n",
       "      <td>NEW Private Luxe Villa, Jungle View-Pool-Koi Pond</td>\n",
       "      <td>Entire villa in Kecamatan Ubud</td>\n",
       "      <td>5.00</td>\n",
       "      <td>16.0</td>\n",
       "      <td>71.0</td>\n",
       "      <td>355.0</td>\n",
       "      <td>6.0</td>\n",
       "      <td>3.0</td>\n",
       "      <td>3.0</td>\n",
       "      <td>3.0</td>\n",
       "      <td>True</td>\n",
       "      <td>True</td>\n",
       "      <td>True</td>\n",
       "      <td>True</td>\n",
       "    </tr>\n",
       "    <tr>\n",
       "      <th>...</th>\n",
       "      <td>...</td>\n",
       "      <td>...</td>\n",
       "      <td>...</td>\n",
       "      <td>...</td>\n",
       "      <td>...</td>\n",
       "      <td>...</td>\n",
       "      <td>...</td>\n",
       "      <td>...</td>\n",
       "      <td>...</td>\n",
       "      <td>...</td>\n",
       "      <td>...</td>\n",
       "      <td>...</td>\n",
       "      <td>...</td>\n",
       "      <td>...</td>\n",
       "    </tr>\n",
       "    <tr>\n",
       "      <th>295</th>\n",
       "      <td>One Bedroom Private Pool Villa - Monthly Discount</td>\n",
       "      <td>Entire villa in Kecamatan Kuta Selatan</td>\n",
       "      <td>4.40</td>\n",
       "      <td>5.0</td>\n",
       "      <td>86.0</td>\n",
       "      <td>427.0</td>\n",
       "      <td>2.0</td>\n",
       "      <td>1.0</td>\n",
       "      <td>1.0</td>\n",
       "      <td>1.0</td>\n",
       "      <td>True</td>\n",
       "      <td>False</td>\n",
       "      <td>True</td>\n",
       "      <td>True</td>\n",
       "    </tr>\n",
       "    <tr>\n",
       "      <th>296</th>\n",
       "      <td>Walk to the Beach from this Gorgeous Designer ...</td>\n",
       "      <td>Entire villa in Seminyak</td>\n",
       "      <td>4.90</td>\n",
       "      <td>29.0</td>\n",
       "      <td>293.0</td>\n",
       "      <td>1464.0</td>\n",
       "      <td>4.0</td>\n",
       "      <td>3.0</td>\n",
       "      <td>3.0</td>\n",
       "      <td>3.0</td>\n",
       "      <td>True</td>\n",
       "      <td>True</td>\n",
       "      <td>True</td>\n",
       "      <td>True</td>\n",
       "    </tr>\n",
       "    <tr>\n",
       "      <th>297</th>\n",
       "      <td>Villa Beda</td>\n",
       "      <td>Entire villa in Kuta Utara</td>\n",
       "      <td>4.38</td>\n",
       "      <td>71.0</td>\n",
       "      <td>182.0</td>\n",
       "      <td>907.0</td>\n",
       "      <td>2.0</td>\n",
       "      <td>1.0</td>\n",
       "      <td>1.0</td>\n",
       "      <td>1.0</td>\n",
       "      <td>True</td>\n",
       "      <td>False</td>\n",
       "      <td>True</td>\n",
       "      <td>True</td>\n",
       "    </tr>\n",
       "    <tr>\n",
       "      <th>298</th>\n",
       "      <td>Cozy Room wth Pool - 10 min Walk to Ubud Market</td>\n",
       "      <td>Hotel room in Ubud</td>\n",
       "      <td>4.55</td>\n",
       "      <td>229.0</td>\n",
       "      <td>16.0</td>\n",
       "      <td>80.0</td>\n",
       "      <td>4.0</td>\n",
       "      <td>2.0</td>\n",
       "      <td>2.0</td>\n",
       "      <td>2.0</td>\n",
       "      <td>True</td>\n",
       "      <td>True</td>\n",
       "      <td>True</td>\n",
       "      <td>True</td>\n",
       "    </tr>\n",
       "    <tr>\n",
       "      <th>299</th>\n",
       "      <td>Amazing Villa With Hot Spring#1</td>\n",
       "      <td>Private room in Kecamatan Kintamani</td>\n",
       "      <td>4.38</td>\n",
       "      <td>45.0</td>\n",
       "      <td>34.0</td>\n",
       "      <td>166.0</td>\n",
       "      <td>2.0</td>\n",
       "      <td>1.0</td>\n",
       "      <td>1.0</td>\n",
       "      <td>1.0</td>\n",
       "      <td>True</td>\n",
       "      <td>True</td>\n",
       "      <td>True</td>\n",
       "      <td>True</td>\n",
       "    </tr>\n",
       "  </tbody>\n",
       "</table>\n",
       "<p>300 rows × 14 columns</p>\n",
       "</div>"
      ],
      "text/plain": [
       "                                                 title  \\\n",
       "0    ❣️Romantic Staycation-PrivateSunset Pool@megan...   \n",
       "1    Cozy 2BR Villa with Panoramic View of Rice Fields   \n",
       "2      Sparkling Gem - private pool - Mins to La Brisa   \n",
       "3      Bali Bamboo House | Rescape Ubud - Relief Villa   \n",
       "4    NEW Private Luxe Villa, Jungle View-Pool-Koi Pond   \n",
       "..                                                 ...   \n",
       "295  One Bedroom Private Pool Villa - Monthly Discount   \n",
       "296  Walk to the Beach from this Gorgeous Designer ...   \n",
       "297                                         Villa Beda   \n",
       "298    Cozy Room wth Pool - 10 min Walk to Ubud Market   \n",
       "299                    Amazing Villa With Hot Spring#1   \n",
       "\n",
       "                                   subtitle  rating  reviews  price_per_night  \\\n",
       "0                      Entire villa in Ubud    4.94    243.0             92.0   \n",
       "1            Entire villa in Kecamatan Ubud    4.93     41.0            348.0   \n",
       "2                    Entire villa in Mengwi    4.85     98.0             69.0   \n",
       "3                               Hut in Ubud    4.72     39.0             71.0   \n",
       "4            Entire villa in Kecamatan Ubud    5.00     16.0             71.0   \n",
       "..                                      ...     ...      ...              ...   \n",
       "295  Entire villa in Kecamatan Kuta Selatan    4.40      5.0             86.0   \n",
       "296                Entire villa in Seminyak    4.90     29.0            293.0   \n",
       "297              Entire villa in Kuta Utara    4.38     71.0            182.0   \n",
       "298                      Hotel room in Ubud    4.55    229.0             16.0   \n",
       "299     Private room in Kecamatan Kintamani    4.38     45.0             34.0   \n",
       "\n",
       "     total_price  guests  bedrooms  beds  bathrooms  pool  kitchen  wifi  \\\n",
       "0          458.0     2.0       1.0   1.0        1.0  True    False  True   \n",
       "1         1740.0     6.0       2.0   2.0        2.0  True     True  True   \n",
       "2          342.0     2.0       1.0   1.0        1.0  True    False  True   \n",
       "3          354.0     3.0       1.0   2.0        1.0  True    False  True   \n",
       "4          355.0     6.0       3.0   3.0        3.0  True     True  True   \n",
       "..           ...     ...       ...   ...        ...   ...      ...   ...   \n",
       "295        427.0     2.0       1.0   1.0        1.0  True    False  True   \n",
       "296       1464.0     4.0       3.0   3.0        3.0  True     True  True   \n",
       "297        907.0     2.0       1.0   1.0        1.0  True    False  True   \n",
       "298         80.0     4.0       2.0   2.0        2.0  True     True  True   \n",
       "299        166.0     2.0       1.0   1.0        1.0  True     True  True   \n",
       "\n",
       "     airconditioning  \n",
       "0               True  \n",
       "1               True  \n",
       "2              False  \n",
       "3               True  \n",
       "4               True  \n",
       "..               ...  \n",
       "295             True  \n",
       "296             True  \n",
       "297             True  \n",
       "298             True  \n",
       "299             True  \n",
       "\n",
       "[300 rows x 14 columns]"
      ]
     },
     "execution_count": 89,
     "metadata": {},
     "output_type": "execute_result"
    }
   ],
   "source": [
    "airbnb"
   ]
  }
 ],
 "metadata": {
  "kernelspec": {
   "display_name": "Python 3",
   "language": "python",
   "name": "python3"
  },
  "language_info": {
   "codemirror_mode": {
    "name": "ipython",
    "version": 3
   },
   "file_extension": ".py",
   "mimetype": "text/x-python",
   "name": "python",
   "nbconvert_exporter": "python",
   "pygments_lexer": "ipython3",
   "version": "3.7.6"
  }
 },
 "nbformat": 4,
 "nbformat_minor": 4
}
