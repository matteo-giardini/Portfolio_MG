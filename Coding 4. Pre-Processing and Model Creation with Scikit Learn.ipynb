{
 "cells": [
  {
   "cell_type": "markdown",
   "metadata": {
    "deletable": false,
    "editable": false,
    "id": "1_t4V9bnt-hB",
    "nbgrader": {
     "cell_type": "markdown",
     "checksum": "503a66a6ec6bedb150852c30d66860af",
     "grade": false,
     "grade_id": "cell-e911fa75d4ae6ea9",
     "locked": true,
     "schema_version": 3,
     "solution": false,
     "task": false
    }
   },
   "source": [
    "\n",
    "# Assignment 1: Creating an alternative to COMPAS\n",
    "\n",
    "This notebook contains a set of exercises that will guide you through the different steps of this assignment. Solutions need to be code-based, _i.e._ hard-coded or manually computed results will not be accepted. Remember to write your solutions to each exercise in the dedicated cells and to not modify the test cells. When you are done completing all the exercises submit this same notebook back to moodle in **.ipynb** format.\n",
    "\n",
    "<div class=\"alert alert-success\">\n",
    "\n",
    "In recent years, judges, probation and parole officers have been increasingly using algorithms to assess a criminal defendant’s likelihood of becoming a recidivist – a term used to describe criminals who re-offend. There are dozens of these risk assessment algorithms in use. Many states have built their own assessment tools, and there are also two leading nationwide tools offered by commercial vendors.\n",
    "\n",
    "A few years back, an organization called ProPublica set out to assess one of these commercial tools to discover the underlying accuracy of their recidivism algorithm and to test whether the algorithm was biased against certain groups. In particular, they studied a tool called COMPAS (which stands for Correctional Offender Management Profiling for Alternative Sanctions), made by Northpointe, Inc. You can check their conclusions by reading their story [\"Machine Bias\"](https://www.propublica.org/article/machine-bias-risk-assessments-in-criminal-sentencing).\n",
    "\n",
    "Through a public records request, ProPublica obtained two years worth of COMPAS scores from the Broward County Sheriff’s Office in Florida. The complete dataset contained information for all 18,610 people who were scored by this software in 2013 and 2014.\n",
    "    \n",
    "</div>\n",
    "\n",
    "<div class=\"alert alert-danger\"><b>Submission deadline:</b> Sunday, February 6th, 23:55</div>\n"
   ]
  },
  {
   "cell_type": "code",
   "execution_count": 1,
   "metadata": {
    "deletable": false,
    "editable": false,
    "id": "1gbj1gyT16vl",
    "nbgrader": {
     "cell_type": "code",
     "checksum": "ce3049264ec414f56a746b1418438085",
     "grade": false,
     "grade_id": "cell-0fcbc57512e78927",
     "locked": true,
     "schema_version": 3,
     "solution": false,
     "task": false
    }
   },
   "outputs": [],
   "source": [
    "import pandas as pd"
   ]
  },
  {
   "cell_type": "markdown",
   "metadata": {
    "deletable": false,
    "editable": false,
    "id": "JdETeU66gS1E",
    "nbgrader": {
     "cell_type": "markdown",
     "checksum": "ff7fdbfbec4b5c4a64d7c70fbd801c04",
     "grade": false,
     "grade_id": "cell-8f995c9cdf882820",
     "locked": true,
     "schema_version": 3,
     "solution": false,
     "task": false
    }
   },
   "source": [
    "<div class=\"alert alert-info\"><b>Exercise 1</b>\n",
    "\n",
    "Load the ProPublica data from the link: https://github.com/jnin/information-systems/raw/main/data/compas_ai2.csv in a DataFrame called ```df```.\n",
    "<br><i>[0.5 points]</i>\n",
    "</div>\n",
    "<div class=\"alert alert-warning\">\n",
    "Do not download the dataset. Instead, read the data directly from the provided link\n",
    "</div>"
   ]
  },
  {
   "cell_type": "code",
   "execution_count": 2,
   "metadata": {
    "deletable": false,
    "id": "2EZ4PgrhYpcn",
    "nbgrader": {
     "cell_type": "code",
     "checksum": "a9bd83da99584e73cd216b99b32f470b",
     "grade": false,
     "grade_id": "ex1",
     "locked": false,
     "schema_version": 3,
     "solution": true,
     "task": false
    }
   },
   "outputs": [
    {
     "data": {
      "text/html": [
       "<div>\n",
       "<style scoped>\n",
       "    .dataframe tbody tr th:only-of-type {\n",
       "        vertical-align: middle;\n",
       "    }\n",
       "\n",
       "    .dataframe tbody tr th {\n",
       "        vertical-align: top;\n",
       "    }\n",
       "\n",
       "    .dataframe thead th {\n",
       "        text-align: right;\n",
       "    }\n",
       "</style>\n",
       "<table border=\"1\" class=\"dataframe\">\n",
       "  <thead>\n",
       "    <tr style=\"text-align: right;\">\n",
       "      <th></th>\n",
       "      <th>Agency</th>\n",
       "      <th>Gender</th>\n",
       "      <th>Ethnic</th>\n",
       "      <th>YearOfBirth</th>\n",
       "      <th>ScaleSet</th>\n",
       "      <th>LegalStatus</th>\n",
       "      <th>CustodyStatus</th>\n",
       "      <th>MaritalStatus</th>\n",
       "      <th>RecSupervisionLevel</th>\n",
       "      <th>DisplayText</th>\n",
       "      <th>DecileScore</th>\n",
       "    </tr>\n",
       "  </thead>\n",
       "  <tbody>\n",
       "    <tr>\n",
       "      <th>0</th>\n",
       "      <td>PRETRIAL</td>\n",
       "      <td>Male</td>\n",
       "      <td>Caucasian</td>\n",
       "      <td>1992</td>\n",
       "      <td>Risk and Prescreen</td>\n",
       "      <td>Pretrial</td>\n",
       "      <td>Jail Inmate</td>\n",
       "      <td>Single</td>\n",
       "      <td>1</td>\n",
       "      <td>Risk of Violence</td>\n",
       "      <td>4</td>\n",
       "    </tr>\n",
       "    <tr>\n",
       "      <th>1</th>\n",
       "      <td>PRETRIAL</td>\n",
       "      <td>Male</td>\n",
       "      <td>Caucasian</td>\n",
       "      <td>1992</td>\n",
       "      <td>Risk and Prescreen</td>\n",
       "      <td>Pretrial</td>\n",
       "      <td>Jail Inmate</td>\n",
       "      <td>Single</td>\n",
       "      <td>1</td>\n",
       "      <td>Risk of Recidivism</td>\n",
       "      <td>2</td>\n",
       "    </tr>\n",
       "    <tr>\n",
       "      <th>2</th>\n",
       "      <td>PRETRIAL</td>\n",
       "      <td>Male</td>\n",
       "      <td>Caucasian</td>\n",
       "      <td>1992</td>\n",
       "      <td>Risk and Prescreen</td>\n",
       "      <td>Pretrial</td>\n",
       "      <td>Jail Inmate</td>\n",
       "      <td>Single</td>\n",
       "      <td>1</td>\n",
       "      <td>Risk of Failure to Appear</td>\n",
       "      <td>1</td>\n",
       "    </tr>\n",
       "    <tr>\n",
       "      <th>3</th>\n",
       "      <td>PRETRIAL</td>\n",
       "      <td>Male</td>\n",
       "      <td>Caucasian</td>\n",
       "      <td>1984</td>\n",
       "      <td>Risk and Prescreen</td>\n",
       "      <td>Pretrial</td>\n",
       "      <td>Jail Inmate</td>\n",
       "      <td>Married</td>\n",
       "      <td>1</td>\n",
       "      <td>Risk of Violence</td>\n",
       "      <td>2</td>\n",
       "    </tr>\n",
       "    <tr>\n",
       "      <th>4</th>\n",
       "      <td>PRETRIAL</td>\n",
       "      <td>Male</td>\n",
       "      <td>Caucasian</td>\n",
       "      <td>1984</td>\n",
       "      <td>Risk and Prescreen</td>\n",
       "      <td>Pretrial</td>\n",
       "      <td>Jail Inmate</td>\n",
       "      <td>Married</td>\n",
       "      <td>1</td>\n",
       "      <td>Risk of Recidivism</td>\n",
       "      <td>1</td>\n",
       "    </tr>\n",
       "    <tr>\n",
       "      <th>...</th>\n",
       "      <td>...</td>\n",
       "      <td>...</td>\n",
       "      <td>...</td>\n",
       "      <td>...</td>\n",
       "      <td>...</td>\n",
       "      <td>...</td>\n",
       "      <td>...</td>\n",
       "      <td>...</td>\n",
       "      <td>...</td>\n",
       "      <td>...</td>\n",
       "      <td>...</td>\n",
       "    </tr>\n",
       "    <tr>\n",
       "      <th>60793</th>\n",
       "      <td>Probation</td>\n",
       "      <td>Male</td>\n",
       "      <td>African-American</td>\n",
       "      <td>1964</td>\n",
       "      <td>Risk and Prescreen</td>\n",
       "      <td>Pretrial</td>\n",
       "      <td>Jail Inmate</td>\n",
       "      <td>Single</td>\n",
       "      <td>3</td>\n",
       "      <td>Risk of Recidivism</td>\n",
       "      <td>8</td>\n",
       "    </tr>\n",
       "    <tr>\n",
       "      <th>60794</th>\n",
       "      <td>Probation</td>\n",
       "      <td>Male</td>\n",
       "      <td>African-American</td>\n",
       "      <td>1964</td>\n",
       "      <td>Risk and Prescreen</td>\n",
       "      <td>Pretrial</td>\n",
       "      <td>Jail Inmate</td>\n",
       "      <td>Single</td>\n",
       "      <td>3</td>\n",
       "      <td>Risk of Failure to Appear</td>\n",
       "      <td>10</td>\n",
       "    </tr>\n",
       "    <tr>\n",
       "      <th>60795</th>\n",
       "      <td>PRETRIAL</td>\n",
       "      <td>Male</td>\n",
       "      <td>Caucasian</td>\n",
       "      <td>1985</td>\n",
       "      <td>Risk and Prescreen</td>\n",
       "      <td>Pretrial</td>\n",
       "      <td>Jail Inmate</td>\n",
       "      <td>Single</td>\n",
       "      <td>1</td>\n",
       "      <td>Risk of Violence</td>\n",
       "      <td>2</td>\n",
       "    </tr>\n",
       "    <tr>\n",
       "      <th>60796</th>\n",
       "      <td>PRETRIAL</td>\n",
       "      <td>Male</td>\n",
       "      <td>Caucasian</td>\n",
       "      <td>1985</td>\n",
       "      <td>Risk and Prescreen</td>\n",
       "      <td>Pretrial</td>\n",
       "      <td>Jail Inmate</td>\n",
       "      <td>Single</td>\n",
       "      <td>1</td>\n",
       "      <td>Risk of Recidivism</td>\n",
       "      <td>5</td>\n",
       "    </tr>\n",
       "    <tr>\n",
       "      <th>60797</th>\n",
       "      <td>PRETRIAL</td>\n",
       "      <td>Male</td>\n",
       "      <td>Caucasian</td>\n",
       "      <td>1985</td>\n",
       "      <td>Risk and Prescreen</td>\n",
       "      <td>Pretrial</td>\n",
       "      <td>Jail Inmate</td>\n",
       "      <td>Single</td>\n",
       "      <td>1</td>\n",
       "      <td>Risk of Failure to Appear</td>\n",
       "      <td>2</td>\n",
       "    </tr>\n",
       "  </tbody>\n",
       "</table>\n",
       "<p>60798 rows × 11 columns</p>\n",
       "</div>"
      ],
      "text/plain": [
       "          Agency Gender            Ethnic  YearOfBirth            ScaleSet  \\\n",
       "0       PRETRIAL   Male         Caucasian         1992  Risk and Prescreen   \n",
       "1       PRETRIAL   Male         Caucasian         1992  Risk and Prescreen   \n",
       "2       PRETRIAL   Male         Caucasian         1992  Risk and Prescreen   \n",
       "3       PRETRIAL   Male         Caucasian         1984  Risk and Prescreen   \n",
       "4       PRETRIAL   Male         Caucasian         1984  Risk and Prescreen   \n",
       "...          ...    ...               ...          ...                 ...   \n",
       "60793  Probation   Male  African-American         1964  Risk and Prescreen   \n",
       "60794  Probation   Male  African-American         1964  Risk and Prescreen   \n",
       "60795   PRETRIAL   Male         Caucasian         1985  Risk and Prescreen   \n",
       "60796   PRETRIAL   Male         Caucasian         1985  Risk and Prescreen   \n",
       "60797   PRETRIAL   Male         Caucasian         1985  Risk and Prescreen   \n",
       "\n",
       "      LegalStatus CustodyStatus MaritalStatus  RecSupervisionLevel  \\\n",
       "0        Pretrial   Jail Inmate        Single                    1   \n",
       "1        Pretrial   Jail Inmate        Single                    1   \n",
       "2        Pretrial   Jail Inmate        Single                    1   \n",
       "3        Pretrial   Jail Inmate       Married                    1   \n",
       "4        Pretrial   Jail Inmate       Married                    1   \n",
       "...           ...           ...           ...                  ...   \n",
       "60793    Pretrial   Jail Inmate        Single                    3   \n",
       "60794    Pretrial   Jail Inmate        Single                    3   \n",
       "60795    Pretrial   Jail Inmate        Single                    1   \n",
       "60796    Pretrial   Jail Inmate        Single                    1   \n",
       "60797    Pretrial   Jail Inmate        Single                    1   \n",
       "\n",
       "                     DisplayText  DecileScore  \n",
       "0               Risk of Violence            4  \n",
       "1             Risk of Recidivism            2  \n",
       "2      Risk of Failure to Appear            1  \n",
       "3               Risk of Violence            2  \n",
       "4             Risk of Recidivism            1  \n",
       "...                          ...          ...  \n",
       "60793         Risk of Recidivism            8  \n",
       "60794  Risk of Failure to Appear           10  \n",
       "60795           Risk of Violence            2  \n",
       "60796         Risk of Recidivism            5  \n",
       "60797  Risk of Failure to Appear            2  \n",
       "\n",
       "[60798 rows x 11 columns]"
      ]
     },
     "execution_count": 2,
     "metadata": {},
     "output_type": "execute_result"
    }
   ],
   "source": [
    "# YOUR CODE HERE\n",
    "df = pd.read_csv('https://github.com/jnin/information-systems/raw/main/data/compas_ai2.csv')\n",
    "df"
   ]
  },
  {
   "cell_type": "code",
   "execution_count": 3,
   "metadata": {},
   "outputs": [
    {
     "data": {
      "text/html": [
       "<div>\n",
       "<style scoped>\n",
       "    .dataframe tbody tr th:only-of-type {\n",
       "        vertical-align: middle;\n",
       "    }\n",
       "\n",
       "    .dataframe tbody tr th {\n",
       "        vertical-align: top;\n",
       "    }\n",
       "\n",
       "    .dataframe thead th {\n",
       "        text-align: right;\n",
       "    }\n",
       "</style>\n",
       "<table border=\"1\" class=\"dataframe\">\n",
       "  <thead>\n",
       "    <tr style=\"text-align: right;\">\n",
       "      <th></th>\n",
       "      <th>Agency</th>\n",
       "      <th>Gender</th>\n",
       "      <th>Ethnic</th>\n",
       "      <th>YearOfBirth</th>\n",
       "      <th>ScaleSet</th>\n",
       "      <th>LegalStatus</th>\n",
       "      <th>CustodyStatus</th>\n",
       "      <th>MaritalStatus</th>\n",
       "      <th>RecSupervisionLevel</th>\n",
       "      <th>DisplayText</th>\n",
       "      <th>DecileScore</th>\n",
       "    </tr>\n",
       "  </thead>\n",
       "  <tbody>\n",
       "    <tr>\n",
       "      <th>0</th>\n",
       "      <td>PRETRIAL</td>\n",
       "      <td>Male</td>\n",
       "      <td>Caucasian</td>\n",
       "      <td>1992</td>\n",
       "      <td>Risk and Prescreen</td>\n",
       "      <td>Pretrial</td>\n",
       "      <td>Jail Inmate</td>\n",
       "      <td>Single</td>\n",
       "      <td>1</td>\n",
       "      <td>Risk of Violence</td>\n",
       "      <td>4</td>\n",
       "    </tr>\n",
       "    <tr>\n",
       "      <th>1</th>\n",
       "      <td>PRETRIAL</td>\n",
       "      <td>Male</td>\n",
       "      <td>Caucasian</td>\n",
       "      <td>1992</td>\n",
       "      <td>Risk and Prescreen</td>\n",
       "      <td>Pretrial</td>\n",
       "      <td>Jail Inmate</td>\n",
       "      <td>Single</td>\n",
       "      <td>1</td>\n",
       "      <td>Risk of Recidivism</td>\n",
       "      <td>2</td>\n",
       "    </tr>\n",
       "    <tr>\n",
       "      <th>2</th>\n",
       "      <td>PRETRIAL</td>\n",
       "      <td>Male</td>\n",
       "      <td>Caucasian</td>\n",
       "      <td>1992</td>\n",
       "      <td>Risk and Prescreen</td>\n",
       "      <td>Pretrial</td>\n",
       "      <td>Jail Inmate</td>\n",
       "      <td>Single</td>\n",
       "      <td>1</td>\n",
       "      <td>Risk of Failure to Appear</td>\n",
       "      <td>1</td>\n",
       "    </tr>\n",
       "    <tr>\n",
       "      <th>3</th>\n",
       "      <td>PRETRIAL</td>\n",
       "      <td>Male</td>\n",
       "      <td>Caucasian</td>\n",
       "      <td>1984</td>\n",
       "      <td>Risk and Prescreen</td>\n",
       "      <td>Pretrial</td>\n",
       "      <td>Jail Inmate</td>\n",
       "      <td>Married</td>\n",
       "      <td>1</td>\n",
       "      <td>Risk of Violence</td>\n",
       "      <td>2</td>\n",
       "    </tr>\n",
       "    <tr>\n",
       "      <th>4</th>\n",
       "      <td>PRETRIAL</td>\n",
       "      <td>Male</td>\n",
       "      <td>Caucasian</td>\n",
       "      <td>1984</td>\n",
       "      <td>Risk and Prescreen</td>\n",
       "      <td>Pretrial</td>\n",
       "      <td>Jail Inmate</td>\n",
       "      <td>Married</td>\n",
       "      <td>1</td>\n",
       "      <td>Risk of Recidivism</td>\n",
       "      <td>1</td>\n",
       "    </tr>\n",
       "  </tbody>\n",
       "</table>\n",
       "</div>"
      ],
      "text/plain": [
       "     Agency Gender     Ethnic  YearOfBirth            ScaleSet LegalStatus  \\\n",
       "0  PRETRIAL   Male  Caucasian         1992  Risk and Prescreen    Pretrial   \n",
       "1  PRETRIAL   Male  Caucasian         1992  Risk and Prescreen    Pretrial   \n",
       "2  PRETRIAL   Male  Caucasian         1992  Risk and Prescreen    Pretrial   \n",
       "3  PRETRIAL   Male  Caucasian         1984  Risk and Prescreen    Pretrial   \n",
       "4  PRETRIAL   Male  Caucasian         1984  Risk and Prescreen    Pretrial   \n",
       "\n",
       "  CustodyStatus MaritalStatus  RecSupervisionLevel                DisplayText  \\\n",
       "0   Jail Inmate        Single                    1           Risk of Violence   \n",
       "1   Jail Inmate        Single                    1         Risk of Recidivism   \n",
       "2   Jail Inmate        Single                    1  Risk of Failure to Appear   \n",
       "3   Jail Inmate       Married                    1           Risk of Violence   \n",
       "4   Jail Inmate       Married                    1         Risk of Recidivism   \n",
       "\n",
       "   DecileScore  \n",
       "0            4  \n",
       "1            2  \n",
       "2            1  \n",
       "3            2  \n",
       "4            1  "
      ]
     },
     "execution_count": 3,
     "metadata": {},
     "output_type": "execute_result"
    }
   ],
   "source": [
    "#data exploration\n",
    "df.head()"
   ]
  },
  {
   "cell_type": "code",
   "execution_count": 4,
   "metadata": {},
   "outputs": [
    {
     "name": "stdout",
     "output_type": "stream",
     "text": [
      "Agency\n",
      "['PRETRIAL' 'Probation' 'DRRD' 'Broward County']\n",
      "\n",
      "Gender\n",
      "['Male' 'Female']\n",
      "\n",
      "Ethnic\n",
      "['Caucasian' 'African-American' 'Hispanic' 'Other' 'Asian'\n",
      " 'Native American' 'Oriental' 'Arabic']\n",
      "\n",
      "YearOfBirth\n",
      "[1992 1984 1994 1985 1966 1993 1972 1986 1980 1978 1988 1979 1970 1991\n",
      " 1975 1973 1981 1989 1960 1967 1955 1974 1987 1943 1977 1983 1968 1982\n",
      " 1971 1959 1947 1962 1990 1965 1963 1964 1944 1954 1953 1956 1933 1961\n",
      " 1969 1996 1976 1950 1958 1942 1957 1951 1929 1995 1946 1948 1945 1940\n",
      " 1949 1952 1938 1937 1941 1935 1932 1918 1936 1997 1939 1925 1930 1919\n",
      " 1998]\n",
      "\n",
      "ScaleSet\n",
      "['Risk and Prescreen' 'All Scales']\n",
      "\n",
      "LegalStatus\n",
      "['Pretrial' 'Post Sentence' 'Conditional Release' 'Other'\n",
      " 'Probation Violator']\n",
      "\n",
      "CustodyStatus\n",
      "['Jail Inmate' 'Probation' 'Pretrial Defendant' 'Residential Program'\n",
      " 'Other']\n",
      "\n",
      "MaritalStatus\n",
      "['Single' 'Married' 'Significant Other' 'Divorced' 'Separated' 'Widowed'\n",
      " 'Unknown']\n",
      "\n",
      "RecSupervisionLevel\n",
      "[1 4 2 3]\n",
      "\n",
      "DisplayText\n",
      "['Risk of Violence' 'Risk of Recidivism' 'Risk of Failure to Appear']\n",
      "\n",
      "DecileScore\n",
      "[ 4  2  1  3  8  7  6 10  9  5]\n",
      "\n"
     ]
    }
   ],
   "source": [
    "for column in df.columns:\n",
    "    print(column)\n",
    "    print(df[column].unique())\n",
    "    print()"
   ]
  },
  {
   "cell_type": "code",
   "execution_count": 5,
   "metadata": {
    "deletable": false,
    "editable": false,
    "id": "t2NpdsO8mclR",
    "nbgrader": {
     "cell_type": "code",
     "checksum": "a854f79a08ef5050f26ba6ce85d57377",
     "grade": true,
     "grade_id": "test1_1",
     "locked": true,
     "points": 0.5,
     "schema_version": 3,
     "solution": false,
     "task": false
    }
   },
   "outputs": [],
   "source": [
    "# LEAVE BLANK"
   ]
  },
  {
   "cell_type": "markdown",
   "metadata": {
    "deletable": false,
    "editable": false,
    "id": "I4Ai5L-bgQI-",
    "nbgrader": {
     "cell_type": "markdown",
     "checksum": "fdfb9f2e5ca589d87eafcd959f2a2bca",
     "grade": false,
     "grade_id": "cell-cac60b3d5a84bc9f",
     "locked": true,
     "schema_version": 3,
     "solution": false,
     "task": false
    }
   },
   "source": [
    "For simplicity, we will predict the severity of a possible re-incidence, not the **DecileScore**. To this aim, we consider as a severe re-incidence value all scores above the median.\n",
    "\n",
    "<div class=\"alert alert-info\"><b>Exercise 2</b>\n",
    "\n",
    "Create a new binary column named ```Severity``` with ```True``` if ```DecileScore``` is greater than (>) the **median** or ```False``` otherwise. Later, drop the column ```DecileScore```.\n",
    "<br><i>[1 point]</i>\n",
    "</div>\n",
    "\n",
    "<div class=\"alert alert-warning\">\n",
    "\n",
    "Remember Python is case sentitive.\n",
    "</div>\n"
   ]
  },
  {
   "cell_type": "code",
   "execution_count": 6,
   "metadata": {
    "deletable": false,
    "id": "gEtHYi7L1tuz",
    "nbgrader": {
     "cell_type": "code",
     "checksum": "af04d3137f6dce94240622e70756766b",
     "grade": false,
     "grade_id": "ex2",
     "locked": false,
     "schema_version": 3,
     "solution": true,
     "task": false
    }
   },
   "outputs": [],
   "source": [
    "# YOUR CODE HERE\n",
    "import numpy as np\n",
    "decile_median = df['DecileScore'].median()\n",
    "df['Severity'] = np.where(df['DecileScore'] > decile_median, True, False)"
   ]
  },
  {
   "cell_type": "code",
   "execution_count": 7,
   "metadata": {},
   "outputs": [
    {
     "data": {
      "text/html": [
       "<div>\n",
       "<style scoped>\n",
       "    .dataframe tbody tr th:only-of-type {\n",
       "        vertical-align: middle;\n",
       "    }\n",
       "\n",
       "    .dataframe tbody tr th {\n",
       "        vertical-align: top;\n",
       "    }\n",
       "\n",
       "    .dataframe thead th {\n",
       "        text-align: right;\n",
       "    }\n",
       "</style>\n",
       "<table border=\"1\" class=\"dataframe\">\n",
       "  <thead>\n",
       "    <tr style=\"text-align: right;\">\n",
       "      <th></th>\n",
       "      <th>Agency</th>\n",
       "      <th>Gender</th>\n",
       "      <th>Ethnic</th>\n",
       "      <th>YearOfBirth</th>\n",
       "      <th>ScaleSet</th>\n",
       "      <th>LegalStatus</th>\n",
       "      <th>CustodyStatus</th>\n",
       "      <th>MaritalStatus</th>\n",
       "      <th>RecSupervisionLevel</th>\n",
       "      <th>DisplayText</th>\n",
       "      <th>Severity</th>\n",
       "    </tr>\n",
       "  </thead>\n",
       "  <tbody>\n",
       "    <tr>\n",
       "      <th>0</th>\n",
       "      <td>PRETRIAL</td>\n",
       "      <td>Male</td>\n",
       "      <td>Caucasian</td>\n",
       "      <td>1992</td>\n",
       "      <td>Risk and Prescreen</td>\n",
       "      <td>Pretrial</td>\n",
       "      <td>Jail Inmate</td>\n",
       "      <td>Single</td>\n",
       "      <td>1</td>\n",
       "      <td>Risk of Violence</td>\n",
       "      <td>True</td>\n",
       "    </tr>\n",
       "    <tr>\n",
       "      <th>1</th>\n",
       "      <td>PRETRIAL</td>\n",
       "      <td>Male</td>\n",
       "      <td>Caucasian</td>\n",
       "      <td>1992</td>\n",
       "      <td>Risk and Prescreen</td>\n",
       "      <td>Pretrial</td>\n",
       "      <td>Jail Inmate</td>\n",
       "      <td>Single</td>\n",
       "      <td>1</td>\n",
       "      <td>Risk of Recidivism</td>\n",
       "      <td>False</td>\n",
       "    </tr>\n",
       "    <tr>\n",
       "      <th>2</th>\n",
       "      <td>PRETRIAL</td>\n",
       "      <td>Male</td>\n",
       "      <td>Caucasian</td>\n",
       "      <td>1992</td>\n",
       "      <td>Risk and Prescreen</td>\n",
       "      <td>Pretrial</td>\n",
       "      <td>Jail Inmate</td>\n",
       "      <td>Single</td>\n",
       "      <td>1</td>\n",
       "      <td>Risk of Failure to Appear</td>\n",
       "      <td>False</td>\n",
       "    </tr>\n",
       "    <tr>\n",
       "      <th>3</th>\n",
       "      <td>PRETRIAL</td>\n",
       "      <td>Male</td>\n",
       "      <td>Caucasian</td>\n",
       "      <td>1984</td>\n",
       "      <td>Risk and Prescreen</td>\n",
       "      <td>Pretrial</td>\n",
       "      <td>Jail Inmate</td>\n",
       "      <td>Married</td>\n",
       "      <td>1</td>\n",
       "      <td>Risk of Violence</td>\n",
       "      <td>False</td>\n",
       "    </tr>\n",
       "    <tr>\n",
       "      <th>4</th>\n",
       "      <td>PRETRIAL</td>\n",
       "      <td>Male</td>\n",
       "      <td>Caucasian</td>\n",
       "      <td>1984</td>\n",
       "      <td>Risk and Prescreen</td>\n",
       "      <td>Pretrial</td>\n",
       "      <td>Jail Inmate</td>\n",
       "      <td>Married</td>\n",
       "      <td>1</td>\n",
       "      <td>Risk of Recidivism</td>\n",
       "      <td>False</td>\n",
       "    </tr>\n",
       "    <tr>\n",
       "      <th>...</th>\n",
       "      <td>...</td>\n",
       "      <td>...</td>\n",
       "      <td>...</td>\n",
       "      <td>...</td>\n",
       "      <td>...</td>\n",
       "      <td>...</td>\n",
       "      <td>...</td>\n",
       "      <td>...</td>\n",
       "      <td>...</td>\n",
       "      <td>...</td>\n",
       "      <td>...</td>\n",
       "    </tr>\n",
       "    <tr>\n",
       "      <th>60793</th>\n",
       "      <td>Probation</td>\n",
       "      <td>Male</td>\n",
       "      <td>African-American</td>\n",
       "      <td>1964</td>\n",
       "      <td>Risk and Prescreen</td>\n",
       "      <td>Pretrial</td>\n",
       "      <td>Jail Inmate</td>\n",
       "      <td>Single</td>\n",
       "      <td>3</td>\n",
       "      <td>Risk of Recidivism</td>\n",
       "      <td>True</td>\n",
       "    </tr>\n",
       "    <tr>\n",
       "      <th>60794</th>\n",
       "      <td>Probation</td>\n",
       "      <td>Male</td>\n",
       "      <td>African-American</td>\n",
       "      <td>1964</td>\n",
       "      <td>Risk and Prescreen</td>\n",
       "      <td>Pretrial</td>\n",
       "      <td>Jail Inmate</td>\n",
       "      <td>Single</td>\n",
       "      <td>3</td>\n",
       "      <td>Risk of Failure to Appear</td>\n",
       "      <td>True</td>\n",
       "    </tr>\n",
       "    <tr>\n",
       "      <th>60795</th>\n",
       "      <td>PRETRIAL</td>\n",
       "      <td>Male</td>\n",
       "      <td>Caucasian</td>\n",
       "      <td>1985</td>\n",
       "      <td>Risk and Prescreen</td>\n",
       "      <td>Pretrial</td>\n",
       "      <td>Jail Inmate</td>\n",
       "      <td>Single</td>\n",
       "      <td>1</td>\n",
       "      <td>Risk of Violence</td>\n",
       "      <td>False</td>\n",
       "    </tr>\n",
       "    <tr>\n",
       "      <th>60796</th>\n",
       "      <td>PRETRIAL</td>\n",
       "      <td>Male</td>\n",
       "      <td>Caucasian</td>\n",
       "      <td>1985</td>\n",
       "      <td>Risk and Prescreen</td>\n",
       "      <td>Pretrial</td>\n",
       "      <td>Jail Inmate</td>\n",
       "      <td>Single</td>\n",
       "      <td>1</td>\n",
       "      <td>Risk of Recidivism</td>\n",
       "      <td>True</td>\n",
       "    </tr>\n",
       "    <tr>\n",
       "      <th>60797</th>\n",
       "      <td>PRETRIAL</td>\n",
       "      <td>Male</td>\n",
       "      <td>Caucasian</td>\n",
       "      <td>1985</td>\n",
       "      <td>Risk and Prescreen</td>\n",
       "      <td>Pretrial</td>\n",
       "      <td>Jail Inmate</td>\n",
       "      <td>Single</td>\n",
       "      <td>1</td>\n",
       "      <td>Risk of Failure to Appear</td>\n",
       "      <td>False</td>\n",
       "    </tr>\n",
       "  </tbody>\n",
       "</table>\n",
       "<p>60798 rows × 11 columns</p>\n",
       "</div>"
      ],
      "text/plain": [
       "          Agency Gender            Ethnic  YearOfBirth            ScaleSet  \\\n",
       "0       PRETRIAL   Male         Caucasian         1992  Risk and Prescreen   \n",
       "1       PRETRIAL   Male         Caucasian         1992  Risk and Prescreen   \n",
       "2       PRETRIAL   Male         Caucasian         1992  Risk and Prescreen   \n",
       "3       PRETRIAL   Male         Caucasian         1984  Risk and Prescreen   \n",
       "4       PRETRIAL   Male         Caucasian         1984  Risk and Prescreen   \n",
       "...          ...    ...               ...          ...                 ...   \n",
       "60793  Probation   Male  African-American         1964  Risk and Prescreen   \n",
       "60794  Probation   Male  African-American         1964  Risk and Prescreen   \n",
       "60795   PRETRIAL   Male         Caucasian         1985  Risk and Prescreen   \n",
       "60796   PRETRIAL   Male         Caucasian         1985  Risk and Prescreen   \n",
       "60797   PRETRIAL   Male         Caucasian         1985  Risk and Prescreen   \n",
       "\n",
       "      LegalStatus CustodyStatus MaritalStatus  RecSupervisionLevel  \\\n",
       "0        Pretrial   Jail Inmate        Single                    1   \n",
       "1        Pretrial   Jail Inmate        Single                    1   \n",
       "2        Pretrial   Jail Inmate        Single                    1   \n",
       "3        Pretrial   Jail Inmate       Married                    1   \n",
       "4        Pretrial   Jail Inmate       Married                    1   \n",
       "...           ...           ...           ...                  ...   \n",
       "60793    Pretrial   Jail Inmate        Single                    3   \n",
       "60794    Pretrial   Jail Inmate        Single                    3   \n",
       "60795    Pretrial   Jail Inmate        Single                    1   \n",
       "60796    Pretrial   Jail Inmate        Single                    1   \n",
       "60797    Pretrial   Jail Inmate        Single                    1   \n",
       "\n",
       "                     DisplayText  Severity  \n",
       "0               Risk of Violence      True  \n",
       "1             Risk of Recidivism     False  \n",
       "2      Risk of Failure to Appear     False  \n",
       "3               Risk of Violence     False  \n",
       "4             Risk of Recidivism     False  \n",
       "...                          ...       ...  \n",
       "60793         Risk of Recidivism      True  \n",
       "60794  Risk of Failure to Appear      True  \n",
       "60795           Risk of Violence     False  \n",
       "60796         Risk of Recidivism      True  \n",
       "60797  Risk of Failure to Appear     False  \n",
       "\n",
       "[60798 rows x 11 columns]"
      ]
     },
     "execution_count": 7,
     "metadata": {},
     "output_type": "execute_result"
    }
   ],
   "source": [
    "df.drop(columns = 'DecileScore', inplace = True)\n",
    "df"
   ]
  },
  {
   "cell_type": "code",
   "execution_count": 8,
   "metadata": {
    "deletable": false,
    "editable": false,
    "id": "_pTAyKvO231R",
    "nbgrader": {
     "cell_type": "code",
     "checksum": "823f0f570b0402af860d510a3c37d9ee",
     "grade": true,
     "grade_id": "test2_1",
     "locked": true,
     "points": 0.75,
     "schema_version": 3,
     "solution": false,
     "task": false
    }
   },
   "outputs": [],
   "source": [
    "# LEAVE BLANK"
   ]
  },
  {
   "cell_type": "code",
   "execution_count": 9,
   "metadata": {
    "deletable": false,
    "editable": false,
    "nbgrader": {
     "cell_type": "code",
     "checksum": "1475602122f5703ca985c52402000b8d",
     "grade": true,
     "grade_id": "test2_2",
     "locked": true,
     "points": 0.25,
     "schema_version": 3,
     "solution": false,
     "task": false
    }
   },
   "outputs": [],
   "source": [
    "# LEAVE BLANK"
   ]
  },
  {
   "cell_type": "markdown",
   "metadata": {
    "deletable": false,
    "editable": false,
    "id": "evERSqB9MPid",
    "nbgrader": {
     "cell_type": "markdown",
     "checksum": "05aab639874b7fe7f40d4b95d32de9f6",
     "grade": false,
     "grade_id": "cell-c7c37aaa2f33b369",
     "locked": true,
     "schema_version": 3,
     "solution": false,
     "task": false
    }
   },
   "source": [
    "The next steps are preparing X and y and split them into train and test.\n",
    "\n",
    "<div class=\"alert alert-info\"><b>Exercise 3 </b> \n",
    "    \n",
    "Write the code to create the feature matrix ```X``` and the target array ```y```, then split them into separate training and test sets with relative size of 0.9 and 0.1. Store the training and tests feature matrix in variables called ```X_train``` and ```X_test```, and the training and test label arrays as ```y_train``` and ```y_test```.\n",
    "<br><i>[0.5 points]</i>\n",
    "</div>\n",
    "\n",
    "<div class='alert alert-warning'>\n",
    "    \n",
    "To ensure a reproducible output across multiple executions of this assignment add this parameter ```random_state=42``` when creating the train test split. It controls the randomness when splitting the data. This will guarantee that you always obtain the same performance metrics. </div>"
   ]
  },
  {
   "cell_type": "code",
   "execution_count": 10,
   "metadata": {
    "deletable": false,
    "id": "rnxOTovpEqpu",
    "nbgrader": {
     "cell_type": "code",
     "checksum": "2db6a80c750360ff8afdeade3507f9d5",
     "grade": false,
     "grade_id": "ex3",
     "locked": false,
     "schema_version": 3,
     "solution": true,
     "task": false
    }
   },
   "outputs": [],
   "source": [
    "# YOUR CODE HERE\n",
    "#Define X and y\n",
    "X = df.drop(columns = 'Severity')\n",
    "y = df['Severity']"
   ]
  },
  {
   "cell_type": "code",
   "execution_count": 11,
   "metadata": {},
   "outputs": [],
   "source": [
    "#split into training and test sets with relative size of 0.9 and 0.1\n",
    "from sklearn.model_selection import train_test_split\n",
    "X_train, X_test, y_train, y_test = train_test_split(X, y, test_size = 0.1, random_state = 42)"
   ]
  },
  {
   "cell_type": "code",
   "execution_count": 12,
   "metadata": {
    "deletable": false,
    "editable": false,
    "id": "nlDga35B5n7I",
    "nbgrader": {
     "cell_type": "code",
     "checksum": "1081e2efe83e60e896ad16f68c2a658d",
     "grade": true,
     "grade_id": "test3_1",
     "locked": true,
     "points": 0.1,
     "schema_version": 3,
     "solution": false,
     "task": false
    }
   },
   "outputs": [],
   "source": [
    "# LEAVE BLANK"
   ]
  },
  {
   "cell_type": "code",
   "execution_count": 13,
   "metadata": {
    "deletable": false,
    "editable": false,
    "nbgrader": {
     "cell_type": "code",
     "checksum": "a235109ccc5a412a5b24185b042d0ba1",
     "grade": true,
     "grade_id": "test3_2",
     "locked": true,
     "points": 0.2,
     "schema_version": 3,
     "solution": false,
     "task": false
    }
   },
   "outputs": [],
   "source": [
    "# LEAVE BLANK"
   ]
  },
  {
   "cell_type": "code",
   "execution_count": 14,
   "metadata": {
    "deletable": false,
    "editable": false,
    "nbgrader": {
     "cell_type": "code",
     "checksum": "06fcccd02494adc4026e0ba258f71f4c",
     "grade": true,
     "grade_id": "test3_3",
     "locked": true,
     "points": 0.2,
     "schema_version": 3,
     "solution": false,
     "task": false
    }
   },
   "outputs": [],
   "source": [
    "# LEAVE BLANK"
   ]
  },
  {
   "cell_type": "markdown",
   "metadata": {
    "deletable": false,
    "editable": false,
    "id": "QHbxxvqjcAte",
    "nbgrader": {
     "cell_type": "markdown",
     "checksum": "0aac06cf98ceda435ee97a7bea80c0e2",
     "grade": false,
     "grade_id": "cell-c22f5d06b6f21764",
     "locked": true,
     "schema_version": 3,
     "solution": false,
     "task": false
    }
   },
   "source": [
    "<div class=\"alert alert-info\"><b>Exercise 4 </b> \n",
    "\n",
    "The resulting feature matrix contains categorical attributes. Write the code to create a ```ColumnTransformer``` to encode them using the one-hot encoding method. Store the transformer in a variable called ```transformer```. At this stage, you do not need to run it.\n",
    "    \n",
    "<br><i>[2 points]</i>\n",
    "</div>\n",
    "\n",
    "<div class='alert alert-warning'>\n",
    "\n",
    "Not all the attributes are categorical. Ensure that non-categorical attributes remain intact.\n",
    "</div>"
   ]
  },
  {
   "cell_type": "code",
   "execution_count": 15,
   "metadata": {
    "deletable": false,
    "id": "cKnAwy3IY79U",
    "nbgrader": {
     "cell_type": "code",
     "checksum": "77c0950f48c31968d3cd72934b2412ff",
     "grade": false,
     "grade_id": "ex4",
     "locked": false,
     "schema_version": 3,
     "solution": true,
     "task": false
    }
   },
   "outputs": [
    {
     "name": "stdout",
     "output_type": "stream",
     "text": [
      "['Agency', 'Gender', 'Ethnic', 'ScaleSet', 'LegalStatus', 'CustodyStatus', 'MaritalStatus', 'DisplayText'] ['YearOfBirth', 'RecSupervisionLevel']\n"
     ]
    }
   ],
   "source": [
    "# YOUR CODE HERE\n",
    "categorical_features = []\n",
    "numerical_features = []\n",
    "\n",
    "for column in X:\n",
    "    if X[column].dtypes == 'int64' or X[column].dtypes == 'float64':\n",
    "        numerical_features.append(column)\n",
    "    elif X[column].dtypes == 'object':\n",
    "        categorical_features.append(column)\n",
    "        \n",
    "print(categorical_features, numerical_features)"
   ]
  },
  {
   "cell_type": "code",
   "execution_count": 16,
   "metadata": {},
   "outputs": [],
   "source": [
    "from sklearn.preprocessing import OneHotEncoder\n",
    "from sklearn.compose import ColumnTransformer\n",
    "\n",
    "onehot_encoder = OneHotEncoder(sparse=False)\n",
    "\n",
    "transformer = ColumnTransformer([('ohe', onehot_encoder, categorical_features)], remainder = 'passthrough')"
   ]
  },
  {
   "cell_type": "code",
   "execution_count": 17,
   "metadata": {
    "deletable": false,
    "editable": false,
    "nbgrader": {
     "cell_type": "code",
     "checksum": "b17bd4ec4b5f3542195269b854037fab",
     "grade": true,
     "grade_id": "test4_1",
     "locked": true,
     "points": 0.5,
     "schema_version": 3,
     "solution": false,
     "task": false
    }
   },
   "outputs": [],
   "source": [
    "# LEAVE BLANK"
   ]
  },
  {
   "cell_type": "code",
   "execution_count": 18,
   "metadata": {
    "deletable": false,
    "editable": false,
    "nbgrader": {
     "cell_type": "code",
     "checksum": "ef5b9bcb8b79cdb5595266b54b6832e8",
     "grade": true,
     "grade_id": "test4_2",
     "locked": true,
     "points": 1,
     "schema_version": 3,
     "solution": false,
     "task": false
    }
   },
   "outputs": [],
   "source": [
    "# LEAVE BLANK"
   ]
  },
  {
   "cell_type": "code",
   "execution_count": 19,
   "metadata": {
    "deletable": false,
    "editable": false,
    "id": "7QNLbsGGDQzW",
    "nbgrader": {
     "cell_type": "code",
     "checksum": "f51c987424701b2b20389d302eda4dd4",
     "grade": true,
     "grade_id": "test4_3",
     "locked": true,
     "points": 0.5,
     "schema_version": 3,
     "solution": false,
     "task": false
    }
   },
   "outputs": [],
   "source": [
    "# LEAVE BLANK"
   ]
  },
  {
   "cell_type": "markdown",
   "metadata": {
    "deletable": false,
    "editable": false,
    "nbgrader": {
     "cell_type": "markdown",
     "checksum": "b245feb45586487521f4abeba9dd1ee6",
     "grade": false,
     "grade_id": "cell-49ab664108c12df8",
     "locked": true,
     "schema_version": 3,
     "solution": false,
     "task": false
    }
   },
   "source": [
    "<div class=\"alert alert-info\"><b>Exercise 5 </b> \n",
    "\n",
    "Write the code to create a ```Pipeline``` consisting of the previous transformer, a standard scaler and a logistic regression model. Store the resulting pipeline in a variable called **pipe**.\n",
    "    \n",
    "<br><i>[1 point]</i>\n",
    "</div>"
   ]
  },
  {
   "cell_type": "code",
   "execution_count": 20,
   "metadata": {
    "deletable": false,
    "id": "cKnAwy3IY79U",
    "nbgrader": {
     "cell_type": "code",
     "checksum": "610e656453f7bc5ae6339b9e3bc858d6",
     "grade": false,
     "grade_id": "ex5",
     "locked": false,
     "schema_version": 3,
     "solution": true,
     "task": false
    }
   },
   "outputs": [],
   "source": [
    "# YOUR CODE HERE\n",
    "from sklearn.pipeline import Pipeline\n",
    "from sklearn.preprocessing import StandardScaler\n",
    "from sklearn.linear_model import LogisticRegression\n",
    "\n",
    "pipeline_steps = [('tranformer', transformer), ('standard_scaler', StandardScaler()), ('logistic_regression', LogisticRegression())]\n",
    "pipe = Pipeline(pipeline_steps)"
   ]
  },
  {
   "cell_type": "code",
   "execution_count": 21,
   "metadata": {
    "deletable": false,
    "editable": false,
    "id": "RClaCZ1LLh2A",
    "nbgrader": {
     "cell_type": "code",
     "checksum": "f2d907899eb9f6916026547193b85b1e",
     "grade": true,
     "grade_id": "test5_1",
     "locked": true,
     "points": 0.2,
     "schema_version": 3,
     "solution": false,
     "task": false
    }
   },
   "outputs": [],
   "source": [
    "# LEAVE BLANK"
   ]
  },
  {
   "cell_type": "code",
   "execution_count": 22,
   "metadata": {
    "deletable": false,
    "editable": false,
    "nbgrader": {
     "cell_type": "code",
     "checksum": "684e461892d6f8f98c4a013cc134619c",
     "grade": true,
     "grade_id": "tes5_2",
     "locked": true,
     "points": 0.4,
     "schema_version": 3,
     "solution": false,
     "task": false
    }
   },
   "outputs": [],
   "source": [
    "# LEAVE BLANK"
   ]
  },
  {
   "cell_type": "code",
   "execution_count": 23,
   "metadata": {
    "deletable": false,
    "editable": false,
    "nbgrader": {
     "cell_type": "code",
     "checksum": "daa0c93065bc11fd0c17de0f3fd694af",
     "grade": true,
     "grade_id": "test5_3",
     "locked": true,
     "points": 0.4,
     "schema_version": 3,
     "solution": false,
     "task": false
    }
   },
   "outputs": [],
   "source": [
    "# LEAVE BLANK"
   ]
  },
  {
   "cell_type": "markdown",
   "metadata": {
    "deletable": false,
    "editable": false,
    "nbgrader": {
     "cell_type": "markdown",
     "checksum": "18e867d30c3f2d0b77ef0f80d397335d",
     "grade": false,
     "grade_id": "cell-9762cbdb06816d3c",
     "locked": true,
     "schema_version": 3,
     "solution": false,
     "task": false
    }
   },
   "source": [
    "<div class=\"alert alert-info\"><b>Exercise 6 </b> \n",
    "\n",
    "Complete the function ```cross_validation_compas``` with the code to estimate the average performance of your model using cross-validation with **ten** stratified folds using the ```roc_auc``` score. ```cross_validation_compas``` takes three parameters: a SciKit-learn pipeline  ```compas_pipe```, a feature matrix ```X_train``` and a target array ```y_train``` and returns the obtained mean score as a float number\n",
    "    \n",
    "<i>[1.5 points]</i>\n",
    "</div>\n",
    "\n",
    "<div class='alert alert-warning'>\n",
    "\n",
    "We ask you to create this function because we will run it to evaluate your answer without considering your previous solved exercises, avoiding that previous errors penalize you twice. Usually, the creation of a function for this task is not compulsory. Write the required imports **outside** the body of the function.\n",
    "</div>"
   ]
  },
  {
   "cell_type": "code",
   "execution_count": 24,
   "metadata": {
    "deletable": false,
    "nbgrader": {
     "cell_type": "code",
     "checksum": "ff3bcffda14eaf8fa80c8d57c6d4376d",
     "grade": false,
     "grade_id": "ex6_1",
     "locked": false,
     "schema_version": 3,
     "solution": true,
     "task": false
    }
   },
   "outputs": [],
   "source": [
    "# YOUR CODE HERE\n",
    "#Required imports\n",
    "from sklearn.metrics import roc_auc_score\n",
    "from sklearn.model_selection import cross_val_score\n",
    "\n",
    "###Notes\n",
    "#cross_validation_compas should return the mean performance of models using roc_auc\n",
    "\n",
    "# YOUR CODE HERE\n",
    "def cross_validation_compas(compas_pipe, X_train, y_train):\n",
    "\n",
    "    #Score models with cross validation using roc_auc scoring (k=10)\n",
    "    scores_roc_auc = cross_val_score(compas_pipe, X_train, y_train, cv = 10, scoring='roc_auc').mean() #Should this take a model as input or simply a pipe?\n",
    "    \n",
    "    return(scores_roc_auc)"
   ]
  },
  {
   "cell_type": "code",
   "execution_count": 25,
   "metadata": {},
   "outputs": [
    {
     "data": {
      "text/plain": [
       "0.8240326825522188"
      ]
     },
     "execution_count": 25,
     "metadata": {},
     "output_type": "execute_result"
    }
   ],
   "source": [
    "cross_validation_compas(pipe, X_train, y_train)"
   ]
  },
  {
   "cell_type": "code",
   "execution_count": 26,
   "metadata": {
    "deletable": false,
    "editable": false,
    "id": "F8bT_nGYRw6q",
    "nbgrader": {
     "cell_type": "code",
     "checksum": "18748bc91705d6f65c1f61144a313877",
     "grade": true,
     "grade_id": "test6_1",
     "locked": true,
     "points": 0.75,
     "schema_version": 3,
     "solution": false,
     "task": false
    }
   },
   "outputs": [],
   "source": [
    "# LEAVE BLANK"
   ]
  },
  {
   "cell_type": "code",
   "execution_count": 27,
   "metadata": {
    "deletable": false,
    "editable": false,
    "nbgrader": {
     "cell_type": "code",
     "checksum": "7931112cfc0b725b7cff4a7ab932b3a7",
     "grade": true,
     "grade_id": "test6_2",
     "locked": true,
     "points": 0.75,
     "schema_version": 3,
     "solution": false,
     "task": false
    }
   },
   "outputs": [],
   "source": [
    "# LEAVE BLANK"
   ]
  },
  {
   "cell_type": "markdown",
   "metadata": {
    "deletable": false,
    "editable": false,
    "nbgrader": {
     "cell_type": "markdown",
     "checksum": "4d0e2dac6f0da670f862220538b11d96",
     "grade": false,
     "grade_id": "cell-da28457332982b03",
     "locked": true,
     "schema_version": 3,
     "solution": false,
     "task": false
    }
   },
   "source": [
    "<div class=\"alert alert-info\"><b>Exercise 7 </b> \n",
    "\n",
    "Now use the created model for prediction. Complete the function ```compute_cm``` with the code to train your model and compute the confusion matrix. The function ```compute_cm``` output must be an array containing the four values of the confusion matrix ```array([[TP, FN],[FP TN]])```.\n",
    "    \n",
    "<i>[1.5 point]</i>\n",
    "</div>\n",
    "\n",
    "<div class='alert alert-warning'>\n",
    "\n",
    "As before, we ask you to create this function because we will run it to evaluate your answer without considering your previous solved exercises, avoiding that previous errors penalize you twice. Usually, the creation of a function for this task is not compulsory. Write the required imports **outside** the body of the function.\n",
    "</div>"
   ]
  },
  {
   "cell_type": "code",
   "execution_count": 28,
   "metadata": {
    "deletable": false,
    "nbgrader": {
     "cell_type": "code",
     "checksum": "666c6aa4b09a870e61d1856f2a8eabcd",
     "grade": false,
     "grade_id": "ex7_2",
     "locked": false,
     "schema_version": 3,
     "solution": true,
     "task": false
    }
   },
   "outputs": [],
   "source": [
    "# YOUR CODE HERE\n",
    "from sklearn.metrics import confusion_matrix\n",
    "\n",
    "\n",
    "def compute_cm(compas_pipe, X_train, y_train, X_test, y_test):\n",
    "    \n",
    "    # YOUR CODE HERE\n",
    "    #Fit model based on input compas_pipe\n",
    "    model = compas_pipe.fit(X_train, y_train)\n",
    "\n",
    "    #Make prediction\n",
    "    y_pred = model.predict(X_test)\n",
    "\n",
    "    #Compute confusion matrix\n",
    "    confusion_matrix_output = confusion_matrix(y_test, y_pred)\n",
    "    \n",
    "    return(confusion_matrix_output)"
   ]
  },
  {
   "cell_type": "code",
   "execution_count": 29,
   "metadata": {},
   "outputs": [
    {
     "data": {
      "text/plain": [
       "array([[3317,  304],\n",
       "       [ 902, 1557]])"
      ]
     },
     "execution_count": 29,
     "metadata": {},
     "output_type": "execute_result"
    }
   ],
   "source": [
    "compute_cm(pipe, X_train, y_train, X_test, y_test)"
   ]
  },
  {
   "cell_type": "code",
   "execution_count": 30,
   "metadata": {
    "deletable": false,
    "editable": false,
    "id": "lHP6CLhk6Al6",
    "nbgrader": {
     "cell_type": "code",
     "checksum": "3e527090b2c80357b7dc7b172d459cf7",
     "grade": true,
     "grade_id": "test7_1",
     "locked": true,
     "points": 1.5,
     "schema_version": 3,
     "solution": false,
     "task": false
    }
   },
   "outputs": [],
   "source": [
    "# LEAVE BLANK"
   ]
  },
  {
   "cell_type": "markdown",
   "metadata": {
    "deletable": false,
    "editable": false,
    "nbgrader": {
     "cell_type": "markdown",
     "checksum": "ef88a82729c4cdd18ada03b86afa3049",
     "grade": false,
     "grade_id": "cell-546db5f191068e6f",
     "locked": true,
     "schema_version": 3,
     "solution": false,
     "task": false
    }
   },
   "source": [
    "Congratulations! You have completed your first machine learning pipeline with scikit-learn. Now it is time to analyse if you did a good job.\n",
    "\n",
    "\n",
    "<div class=\"alert alert-info\"><b>Exercise 8 </b> \n",
    "\n",
    "In previous exercises, you have computed the confusion matrix of your model and cross-validated its mean AUC performance. With this information, you can calculate other performance metrics such as recall, precision, F1, sensitivity, specificity, etc. Use them to guess if your model tends to be strict, balanced or loose when predicting the severity of a possible re-offence. Be data-driven and base your comments and analysis on numbers and metrics instead of personal or general opinions.\n",
    "    \n",
    "<i>[2 points]</i>\n",
    "</div>\n",
    "\n",
    "<div class='alert alert-warning'>\n",
    "\n",
    "You can compute any performance metrics you need with scikit-learn, but it is not compulsory. You can use a calculator, Excel, etc. if you feel more comfortable.\n",
    "</div>"
   ]
  },
  {
   "cell_type": "markdown",
   "metadata": {},
   "source": [
    "YOUR ANSWER HERE\n",
    "\n",
    "Accuracy. The model seems to perform well with an 80.2% accuracy, meaning that in 8 out of 10 instances, the model is able to identify correctly the severity of a possible re-offence.\n",
    "\n",
    "Precision. It seems to have a comparably high precision of 83.7% which indicates that in only 16.7% of the positive predictions the model predicts a re-offence with high severity, but this is actually not the case.\n",
    "\n",
    "Recall. In terms of recall (63.3%), the models seems to perform comparably worse. This indicates that out of all actual instances where severe re-offence occurs, the model can identify only about 6 out of 10. This makes the model rather loose, as not being able to catch individuals who are likely to commit severe re-offence can have repercussions at large.\n",
    "\n",
    "In conclusion, based on the metrics above we may want to consider improving the model by increasing recall. All in all, the goal should be to minimize the amount of inmates who exit prison but are likely to commit severe offence a second time.\n",
    "\n",
    "\n",
    "Notes\n",
    "TP = model predicts severe re-offence and severe re-offence occurs, \n",
    "FP = model predicts severe re-offence and severe re-offence does not occurs, \n",
    "FN = model predicts no severe re-offence and severe re-offence actually occurs, \n",
    "TN = model predicts no severe re-offence and severe re-offence does not occurs"
   ]
  },
  {
   "cell_type": "code",
   "execution_count": 31,
   "metadata": {},
   "outputs": [
    {
     "data": {
      "text/plain": [
       "<sklearn.metrics._plot.confusion_matrix.ConfusionMatrixDisplay at 0x1a1b17c810>"
      ]
     },
     "execution_count": 31,
     "metadata": {},
     "output_type": "execute_result"
    },
    {
     "data": {
      "image/png": "[encoded data removed]",
      "text/plain": [
       "<Figure size 432x288 with 2 Axes>"
      ]
     },
     "metadata": {
      "needs_background": "light"
     },
     "output_type": "display_data"
    }
   ],
   "source": [
    "import matplotlib as plt\n",
    "from sklearn.metrics import plot_confusion_matrix\n",
    "\n",
    "#Fit model based on input compas_pipe\n",
    "model = pipe.fit(X_train, y_train)\n",
    "\n",
    "#Make prediction\n",
    "y_pred = model.predict(X_test)\n",
    "\n",
    "\n",
    "plot_confusion_matrix(model, X_test, y_test)"
   ]
  },
  {
   "cell_type": "code",
   "execution_count": 32,
   "metadata": {},
   "outputs": [
    {
     "name": "stdout",
     "output_type": "stream",
     "text": [
      "Precision                                   : 0.837\n",
      "Recall                                      : 0.633\n",
      "Accuracy                                    : 0.802\n",
      "F1-Score                                    : 0.721\n",
      "ROC AUC Score                               : 0.775\n",
      "\n",
      "Classification Report                       : \n",
      "              precision    recall  f1-score   support\n",
      "\n",
      "       False       0.79      0.92      0.85      3621\n",
      "        True       0.84      0.63      0.72      2459\n",
      "\n",
      "    accuracy                           0.80      6080\n",
      "   macro avg       0.81      0.77      0.78      6080\n",
      "weighted avg       0.81      0.80      0.80      6080\n",
      "\n"
     ]
    }
   ],
   "source": [
    "from sklearn.metrics import classification_report, precision_score, recall_score, f1_score, precision_recall_fscore_support, roc_auc_score, accuracy_score\n",
    "\n",
    "\n",
    "print('Precision                                   : %.3f'%precision_score(y_test, y_pred))\n",
    "print('Recall                                      : %.3f'%recall_score(y_test, y_pred))\n",
    "print('Accuracy                                    : %.3f'%accuracy_score(y_test, y_pred))\n",
    "print('F1-Score                                    : %.3f'%f1_score(y_test, y_pred))\n",
    "print('ROC AUC Score                               : %.3f'%roc_auc_score(y_test, y_pred))\n",
    "\n",
    "#print('\\nPrecision Recall F1-Score Support Per Class : \\n',precision_recall_fscore_support(y_test, y_pred))\n",
    "print('\\nClassification Report                       : ')\n",
    "print(classification_report(y_test, y_pred))"
   ]
  },
  {
   "cell_type": "code",
   "execution_count": null,
   "metadata": {
    "deletable": false,
    "nbgrader": {
     "cell_type": "markdown",
     "checksum": "3384db5e1b1d85be0870500b34f44a96",
     "grade": true,
     "grade_id": "ex8",
     "locked": false,
     "points": 2,
     "schema_version": 3,
     "solution": true,
     "task": false
    }
   },
   "outputs": [],
   "source": []
  }
 ],
 "metadata": {
  "colab": {
   "collapsed_sections": [],
   "name": "Session I.ipynb",
   "provenance": []
  },
  "kernelspec": {
   "display_name": "Python 3",
   "language": "python",
   "name": "python3"
  },
  "language_info": {
   "codemirror_mode": {
    "name": "ipython",
    "version": 3
   },
   "file_extension": ".py",
   "mimetype": "text/x-python",
   "name": "python",
   "nbconvert_exporter": "python",
   "pygments_lexer": "ipython3",
   "version": "3.7.6"
  }
 },
 "nbformat": 4,
 "nbformat_minor": 4
}
