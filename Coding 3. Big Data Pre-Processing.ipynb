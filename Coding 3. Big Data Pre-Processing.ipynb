{
 "cells": [
  {
   "cell_type": "markdown",
   "metadata": {},
   "source": [
    "# Big Data Pre-Processing"
   ]
  },
  {
   "cell_type": "markdown",
   "metadata": {
    "deletable": false,
    "editable": false,
    "id": "e28eca1f",
    "nbgrader": {
     "cell_type": "markdown",
     "checksum": "446cdbacb6c5f70e3d09666b4c120409",
     "grade": false,
     "grade_id": "cell-aad0d993d861220",
     "locked": true,
     "schema_version": 3,
     "solution": false,
     "task": false
    }
   },
   "source": [
    "# Assignment 3\n",
    "\n",
    "This notebook contains a set of exercises that will guide you through the different steps of this assignment. Solutions need to be code-based, i.e. hard-coded or manually computed results will not be accepted. Remember to write your solutions to each exercise in the dedicated cells. Do not modify the test cells. When you are done completing all the exercises submit this same notebook back to moodle in .ipynb format.\n",
    "\n",
    "<div class=\"alert alert-success\">The aim of this assignment is to download and inspect the Stop, Question and Frisk Data released by the New York Police Department every year. You will then use this dataset for visualization purposes during Session 7.</div>\n",
    "\n",
    "<div class=\"alert alert-danger\"><b>Submission deadline:</b> Sunday, November 7, 23:55</div>\n",
    "\n",
    "## A bit of background\n",
    "\n",
    "The stop-question-and-frisk program, or stop-and-frisk, in New York City, is a New York City Police Department practice of temporarily detaining, questioning, and at times searching civilians and suspects on the street for weapons and other contraband. This policy allowed police officers to stop, interrogate and search New York City citizens on the sole basis of “reasonable suspicion” for several years.\n",
    "\n",
    "The stop-question-and-frisk program exploded into a national controversy during the mayoral administration of Michael Bloomberg, as the number of NYPD stops each year grew to hundreds of thousands. Most of the people stopped were Black and Latino, and nearly all were innocent. \n",
    "\n",
    "<img src='https://www.dropbox.com/s/uo6rj86eqvnusfy/stopandfrisk.png?raw=1' width=700>\n",
    "\n",
    "In 1999, Blacks and Latinos made up 50 percent of New York’s population, but accounted for 84 percent of the city’s stops. Those statistics changed little in the following decade. Between 2004 and 2012, the New York Police Department made 4.4 million stops under the citywide policy. More than 80 percent of those stopped were Black and Latino people. The likelihood that a stopped African-American New Yorker yielded a weapon was half that of White New Yorkers stopped, and the likelihood of finding contraband on an African American who was stopped was one-third that of White New Yorkers stopped.\n",
    "\n",
    "Stop-and-frisk peaked in 2011, when NYPD officers reported making nearly 700,000 stops.\n",
    "\n",
    "In 2013, a federal judge found the New York City Police Department’s “Stop-and-Frisk” policy unconstitutional and ruled that NYPD’s stop-and-frisk tactics violate the U.S Constitution’s 4th Amendment prohibition of unreasonable searches and seizures.\n",
    "\n",
    "\n",
    "## Retrieving the data\n",
    "\n",
    "In this assignment you are going to download, inspect and prepare the data for their later use. Raw data records from the NYPD Stop, Question, and Frisk database are available for download at the following [link](https://www1.nyc.gov/site/nypd/stats/reports-analysis/stopfrisk.page). In this assignment you are going to use the data for the years 2003 through 2011 (both included). The corresponding databases are provided in separate zip archives.\n",
    "\n",
    "Start by loading the data for 2003, the first year for which there are records.\n",
    "\n",
    "<div class=\"alert alert-info\">Write the code to read the data from the 2003 zip archive and store it in a DataFrame object called <i>df_2003</i>. Don't define any index when creating the DataFrame, simply revert to the default index values.</div>\n",
    "\n",
    "<div class=\"alert alert-warning\">Your code should import the data directly from their source location, i.e. should not refer to local files in your computer.</div>"
   ]
  },
  {
   "cell_type": "code",
   "execution_count": 1,
   "metadata": {
    "colab": {
     "base_uri": "https://localhost:8080/"
    },
    "deletable": false,
    "id": "0e3879b7",
    "nbgrader": {
     "cell_type": "code",
     "checksum": "5ee67be9688f81897958c4cb6eafb902",
     "grade": false,
     "grade_id": "demo1",
     "locked": false,
     "schema_version": 3,
     "solution": true,
     "task": false
    },
    "outputId": "12d9639e-be51-47a0-b10e-160b4b6f4327"
   },
   "outputs": [
    {
     "name": "stderr",
     "output_type": "stream",
     "text": [
      "/Users/fabrizio/opt/anaconda3/lib/python3.8/site-packages/IPython/core/interactiveshell.py:3165: DtypeWarning: Columns (81,82,83,84,85) have mixed types.Specify dtype option on import or set low_memory=False.\n",
      "  has_raised = await self.run_ast_nodes(code_ast.body, cell_name,\n"
     ]
    }
   ],
   "source": [
    "import pandas as pd\n",
    "import numpy as np\n",
    "from io import BytesIO\n",
    "from zipfile import ZipFile\n",
    "from urllib.request import urlopen\n",
    "url = urlopen(\"https://www1.nyc.gov/assets/nypd/downloads/zip/analysis_and_planning/stop-question-frisk/sqf-2003-csv.zip\")\n",
    "\n",
    "#Download Zipfile and create pandas DataFrame\n",
    "zipfile = ZipFile(BytesIO(url.read()))\n",
    "df_2003 = pd.read_csv(zipfile.open('2003.csv'), header=0, encoding='unicode_escape')"
   ]
  },
  {
   "cell_type": "code",
   "execution_count": null,
   "metadata": {
    "id": "e2838501-744f-498f-98fd-566f84fb89c3"
   },
   "outputs": [],
   "source": [
    "pd.set_option('display.max_rows', 500)\n",
    "pd.set_option('display.max_columns', 500)\n",
    "pd.set_option('display.width', 1000)"
   ]
  },
  {
   "cell_type": "code",
   "execution_count": null,
   "metadata": {
    "id": "15750295-83be-4f27-9148-ea456d776247"
   },
   "outputs": [],
   "source": [
    "df_2003"
   ]
  },
  {
   "cell_type": "markdown",
   "metadata": {
    "deletable": false,
    "editable": false,
    "id": "6fbd2c80",
    "nbgrader": {
     "cell_type": "markdown",
     "checksum": "f313296b188839810f6f3eb55ef49d67",
     "grade": false,
     "grade_id": "cell-ee0d5bb7ae068",
     "locked": true,
     "schema_version": 3,
     "solution": false,
     "task": false
    }
   },
   "source": [
    "Run the following cell to check your answer. If you get no error when running the cell it means that you did right. You can run this cell as many times as you want as long as you **don't modify it**.\n",
    "\n",
    "<div class=\"alert alert-danger\"> Make sure you pass this test successfully before moving on to the remaining exercises.</div>"
   ]
  },
  {
   "cell_type": "code",
   "execution_count": 2,
   "metadata": {
    "deletable": false,
    "editable": false,
    "id": "8acb4d59",
    "nbgrader": {
     "cell_type": "code",
     "checksum": "b81b14ce5798f15da161acc87c6896ad",
     "grade": true,
     "grade_id": "demo1_1",
     "locked": true,
     "points": 0,
     "schema_version": 3,
     "solution": false,
     "task": false
    }
   },
   "outputs": [],
   "source": [
    "import unittest\n",
    "import pandas as pd\n",
    "\n",
    "# Variable df_2003 exists, is of type pandas.DataFrame, defaults to the standard index,\n",
    "# has the right shape and includes the right column names\n",
    "tc = unittest.TestCase()\n",
    "tc.assertTrue('df_2003' in locals())\n",
    "tc.assertIsInstance(df_2003, pd.core.frame.DataFrame)\n",
    "tc.assertTrue(df_2003.index.equals(pd.core.indexes.range.RangeIndex(start=0, stop=160851, step=1)))\n",
    "tc.assertEqual(df_2003.shape, (160851, 111))\n",
    "tc.assertTrue(all(col in set(df_2003.columns)for col in ['dettypcm','ac_assoc','detailcm','ser_num','typeofid',\n",
    "                                                         'explnstp','rf_verbl','sumissue','repcmd','ac_proxm',\n",
    "                                                         'adtlrept','compyear','arstmade','ac_incid','cs_casng',\n",
    "                                                         'city','othfeatr','contrabn','perstop','rf_rfcmp','searched',\n",
    "                                                         'zip','timestop','pf_grnd','othpers','cs_cloth','rf_attir',\n",
    "                                                         'sb_other','inout','crossst','perobs','pf_hands','cs_other',\n",
    "                                                         'rf_knowl','officrid','cs_lkout','cs_furtv','comppct','sb_hdobj',\n",
    "                                                         'cs_drgtr','rf_vcrim','ycoord','addrpct','post','sector','ac_other',\n",
    "                                                         'offshld','xcoord','year','pf_drwep','ht_feet','pf_hcuff','riflshot',\n",
    "                                                         'frisked','dob','pistol','pf_ptwep','premname','sb_outln','ht_inch',\n",
    "                                                         'offunif','offverb','eyecolor','rf_othsw','rf_bulg','arstoffn',\n",
    "                                                         'pf_baton','state','stname','sumoffen','beat','radio','age',\n",
    "                                                         'addrnum','ac_time','datestop','cs_bulge','pct','cs_objcs','build',\n",
    "                                                         'ac_evasv','crimsusp','othrweap','trhsloc','premtype','aptnum',\n",
    "                                                         'pf_wall','linecm','stinter','ac_inves','weight','pf_pepsp','ac_stsnd',\n",
    "                                                         'knifcuti','asltweap','addrtyp','haircolr','ac_cgdir','race',\n",
    "                                                         'machgun','cs_descr','rf_furt','sex','sb_admis','rf_vcact','recstat',\n",
    "                                                         'ac_rept','pf_other','cs_vcrim','revcmd','rescode']))"
   ]
  },
  {
   "cell_type": "markdown",
   "metadata": {
    "deletable": false,
    "editable": false,
    "id": "1b9a2567",
    "nbgrader": {
     "cell_type": "markdown",
     "checksum": "88d0bd992920714b00ebadd1c080519b",
     "grade": false,
     "grade_id": "cell-a7e8e28926e3e",
     "locked": true,
     "schema_version": 3,
     "solution": false,
     "task": false
    }
   },
   "source": [
    "Now that you have successfully retrieved the data for one year, let's retrieve the data for the whole period 2003-2011.\n",
    "\n",
    "<div class=\"alert alert-info\"><b>Exercise 1 </b>Write the code to read the data from each zip archive and concatenate them all in a single DataFrame object called <i>df</i>. This DataFrame should contain all the data records from the NYPD Stop, Question, and Frisk database for the years 2003 through 2011. The oldest records should appear first.Don't modify the original column names. When you are done creating the DataFrame, reset the index so that it includes values from 0 to the length of df.<br><i>[1.5 points]</i></div>\n",
    "\n",
    "<div class=\"alert alert-warning\">As above, your code should import the data directly from their source location, i.e. should not refer to local files in your computer.</div>\n",
    "\n",
    "<div class=\"alert alert-warning\">When importing some of the files, you may get a warning stating that certain columns have mixed types. You can just ignore it. If it gets very annoying, set the <i>low_memory</i> parameter to False when reading the data. Note that as a consequence, it might take a bit longer to import all the data.</div>"
   ]
  },
  {
   "cell_type": "code",
   "execution_count": null,
   "metadata": {
    "deletable": false,
    "id": "05d32bce",
    "nbgrader": {
     "cell_type": "code",
     "checksum": "3416f03882927817c5373de161fb4a59",
     "grade": false,
     "grade_id": "ex1",
     "locked": false,
     "schema_version": 3,
     "solution": true,
     "task": false
    }
   },
   "outputs": [],
   "source": [
    "df = pd.DataFrame()\n",
    "base = 'https://www1.nyc.gov/assets/nypd/downloads/zip/analysis_and_planning/stop-question-frisk/sqf-{}-csv.zip'\n",
    "try:\n",
    "  for i in range(2003,2012):\n",
    "    url = urlopen(base.format(i))\n",
    "    zipfile = ZipFile(BytesIO(url.read()))\n",
    "    df_tmp = pd.read_csv(zipfile.open('{}.csv'.format(i)), header=0, encoding='ISO-8859-1', low_memory=False)\n",
    "    df = pd.concat([df, df_tmp], verify_integrity=True, ignore_index=True)\n",
    "except ValueError as e:\n",
    "    print(e)"
   ]
  },
  {
   "cell_type": "code",
   "execution_count": null,
   "metadata": {
    "id": "PZp0Axzlyw1k",
    "tags": []
   },
   "outputs": [],
   "source": [
    "df"
   ]
  },
  {
   "cell_type": "markdown",
   "metadata": {
    "deletable": false,
    "editable": false,
    "id": "b2120c6b",
    "nbgrader": {
     "cell_type": "markdown",
     "checksum": "2a2758a6c6d489d4dde87491c563213f",
     "grade": false,
     "grade_id": "cell-550cdaca34ebe5a2",
     "locked": true,
     "schema_version": 3,
     "solution": false,
     "task": false
    }
   },
   "source": [
    "The following cells contain the tests that will grade your code. **Don't modify them**."
   ]
  },
  {
   "cell_type": "code",
   "execution_count": null,
   "metadata": {
    "deletable": false,
    "editable": false,
    "id": "7fc4f4ac",
    "nbgrader": {
     "cell_type": "code",
     "checksum": "e157a850613e4f23ecd1d59f12928961",
     "grade": true,
     "grade_id": "ex1_1",
     "locked": true,
     "points": 0.1,
     "schema_version": 3,
     "solution": false,
     "task": false
    }
   },
   "outputs": [],
   "source": [
    "# LEAVE BLANK"
   ]
  },
  {
   "cell_type": "code",
   "execution_count": null,
   "metadata": {
    "deletable": false,
    "editable": false,
    "id": "8ebd9990",
    "nbgrader": {
     "cell_type": "code",
     "checksum": "b4068439d67d7981938107b4f957b735",
     "grade": true,
     "grade_id": "ex1_2",
     "locked": true,
     "points": 0.75,
     "schema_version": 3,
     "solution": false,
     "task": false
    }
   },
   "outputs": [],
   "source": [
    "# LEAVE BLANK"
   ]
  },
  {
   "cell_type": "code",
   "execution_count": null,
   "metadata": {
    "deletable": false,
    "editable": false,
    "id": "de908997",
    "nbgrader": {
     "cell_type": "code",
     "checksum": "73f37ca0325528307868576a0382f61a",
     "grade": true,
     "grade_id": "ex1_3",
     "locked": true,
     "points": 0.25,
     "schema_version": 3,
     "solution": false,
     "task": false
    }
   },
   "outputs": [],
   "source": [
    "# LEAVE BLANK"
   ]
  },
  {
   "cell_type": "code",
   "execution_count": null,
   "metadata": {
    "deletable": false,
    "editable": false,
    "id": "1de77834",
    "nbgrader": {
     "cell_type": "code",
     "checksum": "f16df0f733c4f9cb2be4227a39187392",
     "grade": true,
     "grade_id": "ex1_4",
     "locked": true,
     "points": 0.4,
     "schema_version": 3,
     "solution": false,
     "task": false
    }
   },
   "outputs": [],
   "source": [
    "# LEAVE BLANK"
   ]
  },
  {
   "cell_type": "markdown",
   "metadata": {
    "deletable": false,
    "editable": false,
    "id": "962ea506",
    "nbgrader": {
     "cell_type": "markdown",
     "checksum": "942139c47434a0b13148d50f8f24e39d",
     "grade": false,
     "grade_id": "-bab012ada65dc5f3",
     "locked": true,
     "schema_version": 3,
     "solution": false,
     "task": false
    }
   },
   "source": [
    "<div class=\"alert alert-danger\">This is the DataFrame that you are going to use throughout the assignment. Before moving on, check that it is properly created and named, that it includes all 123 columns and that it contains the data for all the years in the considered period, in the right order.</div>\n",
    "\n",
    "Your DataFrame contains a very large number of records. In fact, it is so big that it may already be slowing down your computer. We are only interested in specific information. Hence, you are going to remove those columns that we are not going to use. To do so you first need to understand what each column name stands for.\n",
    "\n",
    "\n",
    "## Understanding the data\n",
    "\n",
    "Record layouts and code books for each year's data are recorded in separate Excel spreadsheet format files. A zip archive containing all years' spreadsheets can be downloaded from the NYPD website. In what follows, you are going to retrieve the code books from this archive and create a legend for your database.\n",
    "\n",
    "Given that the data cover a 8-year period, it seems reasonable to assume that they have undergone some changes, i.e. that the columns are not exactly the same throughout the years. To check if this is the case, let's start by taking a look at the code books for 2003 and 2011, the first and last year in our considered period.\n",
    "\n",
    "<div class=\"alert alert-info\">Write the code to read the code book spreadsheets for the years 2003 and 2011 and store them in pandas DataFrame objects called <i>legend_2003</i> and <i>legend_2011</i>, respectively. These DataFrames should contain only two columns: <i>Variable</i> (the names of the columns) and <i>Label</i> (the descriptions for the different column names).</div>"
   ]
  },
  {
   "cell_type": "code",
   "execution_count": null,
   "metadata": {
    "deletable": false,
    "id": "1b41a6b5",
    "nbgrader": {
     "cell_type": "code",
     "checksum": "780da94d37c57df73c33f84ee4a1764f",
     "grade": false,
     "grade_id": "demo2",
     "locked": false,
     "schema_version": 3,
     "solution": true,
     "task": false
    }
   },
   "outputs": [],
   "source": [
    "arch = 'https://www1.nyc.gov/assets/nypd/downloads/zip/analysis_and_planning/stop-question-frisk/SQF-File-Documentation.zip'\n",
    "def zip_unarchiver (URL, year):\n",
    "  url = urlopen(URL)\n",
    "  zipfile = ZipFile(BytesIO(url.read()))\n",
    "  df_exc = pd.read_excel(zipfile.open('{} SQF File Spec.xlsx'.format(year)), na_values='NA', usecols=[0,2], index_col=None)\n",
    "  df_exc = df_exc.iloc[3:]\n",
    "  df_exc = df_exc.reset_index(drop=True)\n",
    "  if year >= 2008:\n",
    "    var_def = 'NYPD Stop Question Frisk Database  {}'.format(year)\n",
    "  else:\n",
    "    var_def = 'NYPD Stop Question Frisk Database {}'.format(year)\n",
    "  df_exc.rename(columns={var_def: 'Variable', 'Unnamed: 2': 'Label'}, inplace=True)\n",
    "  return df_exc"
   ]
  },
  {
   "cell_type": "code",
   "execution_count": null,
   "metadata": {
    "id": "FWBcTAN33263"
   },
   "outputs": [],
   "source": [
    "legend_2003 = zip_unarchiver(arch, 2003)\n",
    "legend_2011 = zip_unarchiver(arch, 2011)"
   ]
  },
  {
   "cell_type": "markdown",
   "metadata": {
    "deletable": false,
    "editable": false,
    "id": "d4daec96",
    "nbgrader": {
     "cell_type": "markdown",
     "checksum": "b860ed7163f2094965c390a93ffcf44b",
     "grade": false,
     "grade_id": "cell-5d525f55010a6a",
     "locked": true,
     "schema_version": 3,
     "solution": false,
     "task": false
    }
   },
   "source": [
    "The lengths of both DataFrames are different. This means that there are slight variations in the columns for each year. As a result, you will need to import the code books for all the different years to create your legend and ensure that all column names are properly documented.\n",
    "\n",
    "<div class=\"alert alert-info\"><b>Exercise 2 </b>Write the code to read the code book spreadsheets for all the years in the considered period and store the <b>unique values</b> in a single DataFrame called <i>legend</i>. This DataFrame should contain only two columns: <i>Variable</i> (the names of the columns) and <i>Label</i> (the descriptions for the different column names).<br><i>[1.5 points]</i></div>\n",
    "\n",
    "<div class=\"alert alert-warning\">Once again, your code should import the data directly from their source location, i.e. should not refer to local files in your computer.</div>\n",
    "\n",
    "<div class=\"alert alert-warning\">Make sure that your <i>legend</i> DataFrame contains all the required entries and no duplicates.</div>"
   ]
  },
  {
   "cell_type": "code",
   "execution_count": null,
   "metadata": {
    "deletable": false,
    "id": "c03ff7fc",
    "nbgrader": {
     "cell_type": "code",
     "checksum": "e312a6da82f8c4bc37df98d9182e9662",
     "grade": false,
     "grade_id": "ex2",
     "locked": false,
     "schema_version": 3,
     "solution": true,
     "task": false
    }
   },
   "outputs": [],
   "source": [
    "legend = pd.DataFrame()\n",
    "try:\n",
    "  for i in range(2003,2012):\n",
    "    tmp = zip_unarchiver(arch, i)\n",
    "    legend = pd.concat([legend, tmp], verify_integrity=True, ignore_index=True).drop_duplicates()\n",
    "    legend = legend.reset_index(drop=True)\n",
    "except ValueError as e:\n",
    "    print(e)"
   ]
  },
  {
   "cell_type": "code",
   "execution_count": null,
   "metadata": {
    "id": "XiJ3HR1J-MaH"
   },
   "outputs": [],
   "source": [
    "legend"
   ]
  },
  {
   "cell_type": "markdown",
   "metadata": {
    "deletable": false,
    "editable": false,
    "id": "6791143c",
    "nbgrader": {
     "cell_type": "markdown",
     "checksum": "35913f7ec34549f78bc03e9f94bb33a5",
     "grade": false,
     "grade_id": "ins1",
     "locked": true,
     "schema_version": 3,
     "solution": false,
     "task": false
    }
   },
   "source": [
    "The following cells contain the tests that will grade your code. **Don't modify them**."
   ]
  },
  {
   "cell_type": "code",
   "execution_count": null,
   "metadata": {
    "deletable": false,
    "editable": false,
    "id": "d6cab6f2",
    "nbgrader": {
     "cell_type": "code",
     "checksum": "838d8f57270bdbc2ba779ed43149b0f7",
     "grade": true,
     "grade_id": "ex2_1",
     "locked": true,
     "points": 0.1,
     "schema_version": 3,
     "solution": false,
     "task": false
    }
   },
   "outputs": [],
   "source": [
    "# LEAVE BLANK"
   ]
  },
  {
   "cell_type": "code",
   "execution_count": null,
   "metadata": {
    "deletable": false,
    "editable": false,
    "id": "3c97fc59",
    "nbgrader": {
     "cell_type": "code",
     "checksum": "706f5474639c55ebff87adc0c960be29",
     "grade": true,
     "grade_id": "ex2_2",
     "locked": true,
     "points": 0.5,
     "schema_version": 3,
     "solution": false,
     "task": false
    }
   },
   "outputs": [],
   "source": [
    "# LEAVE BLANK"
   ]
  },
  {
   "cell_type": "code",
   "execution_count": null,
   "metadata": {
    "deletable": false,
    "editable": false,
    "id": "8e997e49",
    "nbgrader": {
     "cell_type": "code",
     "checksum": "455244dde5215a2335138acab1146ced",
     "grade": true,
     "grade_id": "ex2_3",
     "locked": true,
     "points": 0.5,
     "schema_version": 3,
     "solution": false,
     "task": false
    }
   },
   "outputs": [],
   "source": [
    "# LEAVE BLANK"
   ]
  },
  {
   "cell_type": "code",
   "execution_count": null,
   "metadata": {
    "deletable": false,
    "editable": false,
    "id": "42c8d714",
    "nbgrader": {
     "cell_type": "code",
     "checksum": "d833f48c24fe1fe959043d1855c74107",
     "grade": true,
     "grade_id": "ex2_4",
     "locked": true,
     "points": 0.4,
     "schema_version": 3,
     "solution": false,
     "task": false
    }
   },
   "outputs": [],
   "source": [
    "# LEAVE BLANK"
   ]
  },
  {
   "cell_type": "markdown",
   "metadata": {
    "deletable": false,
    "editable": false,
    "id": "f83a39f0",
    "nbgrader": {
     "cell_type": "markdown",
     "checksum": "f9c7b8b1858a74b559477e127061b808",
     "grade": false,
     "grade_id": "cell-37a3228ea0ce7d5e",
     "locked": true,
     "schema_version": 3,
     "solution": false,
     "task": false
    }
   },
   "source": [
    "If you were able to successfully retrieve the information from all the code books, you'll notice that the columns included in the documentation differ from those in the *df* DataFrame you created above: all the column names included in *legend* are also included in *df*, but the opposite is not true. This is because there are several spelling mistakes in the databases you imported in Exercise 1.\n",
    "\n",
    "<div class=\"alert alert-info\"><b>Exercise 3 </b>Write the code to identify the columns from <i>df</i> that are not included in the code books. Store their names in a list called <i>typos</i>.<br><i>[0.25 points]</i></div>"
   ]
  },
  {
   "cell_type": "code",
   "execution_count": null,
   "metadata": {
    "deletable": false,
    "id": "3abe7259",
    "nbgrader": {
     "cell_type": "code",
     "checksum": "69b315830f2239f6d81c0964227610ff",
     "grade": false,
     "grade_id": "ex3",
     "locked": false,
     "schema_version": 3,
     "solution": true,
     "task": false
    }
   },
   "outputs": [],
   "source": [
    "typos = []\n",
    "for column in df.columns:\n",
    "  if column not in list(legend['Variable']):\n",
    "    typos.append(column)\n",
    "#typos = list(set(df.columns).difference(set(legend['Variable'].unique())))"
   ]
  },
  {
   "cell_type": "code",
   "execution_count": null,
   "metadata": {
    "id": "O_0NblkkOQSy"
   },
   "outputs": [],
   "source": [
    "typos"
   ]
  },
  {
   "cell_type": "markdown",
   "metadata": {
    "deletable": false,
    "editable": false,
    "id": "27453892",
    "nbgrader": {
     "cell_type": "markdown",
     "checksum": "ce252e8d28d35ab1cf231163ead4cba7",
     "grade": false,
     "grade_id": "cell-0de5e36108f314d3",
     "locked": true,
     "schema_version": 3,
     "solution": false,
     "task": false
    }
   },
   "source": [
    "The following cells contain the tests that will grade your code. **Don't modify them**."
   ]
  },
  {
   "cell_type": "code",
   "execution_count": null,
   "metadata": {
    "deletable": false,
    "editable": false,
    "id": "e8a44cca",
    "nbgrader": {
     "cell_type": "code",
     "checksum": "3cd7389307c3e82a350b4f117b06a756",
     "grade": true,
     "grade_id": "ex3_1",
     "locked": true,
     "points": 0.1,
     "schema_version": 3,
     "solution": false,
     "task": false
    }
   },
   "outputs": [],
   "source": [
    "# LEAVE BLANK"
   ]
  },
  {
   "cell_type": "code",
   "execution_count": null,
   "metadata": {
    "deletable": false,
    "editable": false,
    "id": "f3e1df31",
    "nbgrader": {
     "cell_type": "code",
     "checksum": "a927ce67c91fe74c05bd64b965fb2d4f",
     "grade": true,
     "grade_id": "ex3_2",
     "locked": true,
     "points": 0.15,
     "schema_version": 3,
     "solution": false,
     "task": false
    }
   },
   "outputs": [],
   "source": [
    "# LEAVE BLANK"
   ]
  },
  {
   "cell_type": "markdown",
   "metadata": {
    "deletable": false,
    "editable": false,
    "id": "7beb322a",
    "nbgrader": {
     "cell_type": "markdown",
     "checksum": "41940fa75b861b86a9e158db7bc7fa3c",
     "grade": false,
     "grade_id": "cell-196ebc5724307c31",
     "locked": true,
     "schema_version": 3,
     "solution": false,
     "task": false
    }
   },
   "source": [
    "Dedicate a few minutes to revise the list of columns in <i>legend</i>. Identify the correct column names for each of the entries in <i>typos</i>. Notice that the differences are mostly due to spelling mistakes, or uppercase vs. lowercase issues. There's one single case where the correspondence is not clear: <i>'wepfound'</i>. You may need to check the documentation once again to identify the right column name for this value. \n",
    "\n",
    "<div class=\"alert alert-info\"><b>Exercise 4 </b>Write the code to modify the column names in <i>df</i> so that those column names included in <i>typos</i> are all renamed to match those in <i>legend</i>. Once you are done renaming the columns, merge the columns with the same names to eliminate the duplicates.<br><i>[2 points]</i></div>\n",
    "\n",
    "<div class=\"alert alert-warning\">Check that all column names in <i>df</i> are written exactly as in the code books and that there are no duplicated columns after this exercise.</div>"
   ]
  },
  {
   "cell_type": "code",
   "execution_count": null,
   "metadata": {
    "deletable": false,
    "id": "648f01d7",
    "nbgrader": {
     "cell_type": "code",
     "checksum": "00ef2091bcd0c6ccc4ed66e901f1fff9",
     "grade": false,
     "grade_id": "ex4",
     "locked": false,
     "schema_version": 3,
     "solution": true,
     "task": false
    }
   },
   "outputs": [],
   "source": [
    "corrected_names = [\"dettypCM\",\"lineCM\", \"detailCM\",\"othrweap\", \"dettypCM\", \"detailCM\", \"detailCM\", \"rescode\", \"premtype\", \"premname\", \"addrnum\", \"stname\", \"stinter\", \"addrpct\"] \n",
    "XDict= dict(zip(typos, corrected_names))\n",
    "df.rename(columns = XDict, inplace= True)"
   ]
  },
  {
   "cell_type": "code",
   "execution_count": null,
   "metadata": {},
   "outputs": [],
   "source": [
    "df = df.groupby(by=df.columns, level=0, axis=1).first()"
   ]
  },
  {
   "cell_type": "code",
   "execution_count": null,
   "metadata": {
    "id": "rRswjrGu8SSV"
   },
   "outputs": [],
   "source": [
    "#!python -m pip install 'fsspec>=0.3.3'\n",
    "#import dask.dataframe as dd\n",
    "#df_reduced = dd.from_pandas(df, 2)\n",
    "#result = df_reduced.groupby(by=df.columns,axis=1).first().compute() parallelized result\n",
    "#result = df_reduced.sum(level=0,axis=1, skipna=True).compute()\n",
    "#df.groupby(by=df.columns, level=0, axis=1).first()\n",
    "#result = df.groupby('id').max().reset_index().compute()\n",
    "#result = df.groupby('id').max().reset_index().compute()"
   ]
  },
  {
   "cell_type": "markdown",
   "metadata": {
    "deletable": false,
    "editable": false,
    "id": "b657a8df",
    "nbgrader": {
     "cell_type": "markdown",
     "checksum": "392d833d763e961f4bf938f323f53142",
     "grade": false,
     "grade_id": "cell-9a7297497f2ad679",
     "locked": true,
     "schema_version": 3,
     "solution": false,
     "task": false
    }
   },
   "source": [
    "The following cells contain the tests that will grade your code. **Don't modify them**."
   ]
  },
  {
   "cell_type": "code",
   "execution_count": null,
   "metadata": {
    "deletable": false,
    "editable": false,
    "id": "676bbfcb",
    "nbgrader": {
     "cell_type": "code",
     "checksum": "3160c831e232fb0388a5b2306b37fdc0",
     "grade": true,
     "grade_id": "ex4_1",
     "locked": true,
     "points": 0.5,
     "schema_version": 3,
     "solution": false,
     "task": false
    }
   },
   "outputs": [],
   "source": [
    "# LEAVE BLANK"
   ]
  },
  {
   "cell_type": "code",
   "execution_count": null,
   "metadata": {
    "deletable": false,
    "editable": false,
    "id": "7dbc949c",
    "nbgrader": {
     "cell_type": "code",
     "checksum": "d5e2470d7ec89e9a8878ddbba9ee3ae5",
     "grade": true,
     "grade_id": "ex4_2",
     "locked": true,
     "points": 0.5,
     "schema_version": 3,
     "solution": false,
     "task": false
    }
   },
   "outputs": [],
   "source": [
    "# LEAVE BLANK"
   ]
  },
  {
   "cell_type": "code",
   "execution_count": null,
   "metadata": {
    "deletable": false,
    "editable": false,
    "id": "752d14b8",
    "nbgrader": {
     "cell_type": "code",
     "checksum": "3ca39b2ee3e434c4e0cda76db2c03816",
     "grade": true,
     "grade_id": "ex4_3",
     "locked": true,
     "points": 0.5,
     "schema_version": 3,
     "solution": false,
     "task": false
    }
   },
   "outputs": [],
   "source": [
    "# LEAVE BLANK"
   ]
  },
  {
   "cell_type": "code",
   "execution_count": null,
   "metadata": {
    "deletable": false,
    "editable": false,
    "id": "565c90ce",
    "nbgrader": {
     "cell_type": "code",
     "checksum": "577cc68531e522ddd4132969ed8eef8c",
     "grade": true,
     "grade_id": "ex4_4",
     "locked": true,
     "points": 0.5,
     "schema_version": 3,
     "solution": false,
     "task": false
    }
   },
   "outputs": [],
   "source": [
    "# LEAVE BLANK"
   ]
  },
  {
   "cell_type": "markdown",
   "metadata": {
    "deletable": false,
    "editable": false,
    "id": "6044c59f",
    "nbgrader": {
     "cell_type": "markdown",
     "checksum": "b569c7cca5ec91014199d4a5d69150bb",
     "grade": false,
     "grade_id": "cell-c00b5f9036899",
     "locked": true,
     "schema_version": 3,
     "solution": false,
     "task": false
    }
   },
   "source": [
    "Now that you have cleaned the column names and merged the data, let's remove all unnecesary information. The list shown below contains the descriptions for the variables we are interesting in."
   ]
  },
  {
   "cell_type": "code",
   "execution_count": null,
   "metadata": {
    "deletable": false,
    "editable": false,
    "id": "7329e576",
    "nbgrader": {
     "cell_type": "code",
     "checksum": "fdcec03aa86f8188614de46aeded8829",
     "grade": false,
     "grade_id": "cell-964fd1c89b3400c0",
     "locked": true,
     "schema_version": 3,
     "solution": false,
     "task": false
    }
   },
   "outputs": [],
   "source": [
    "information = [\"YEAR OF STOP (CCYY)\", \"PRECINCT OF STOP (FROM 1 TO 123)\", \"DATE OF STOP (MM-DD-YYYY)\", \n",
    "               \"CRIME SUSPECTED\", \"WAS AN ARREST MADE ?\", \"PERIOD OF STOP (MMM)\",\n",
    "               \"WAS A SUMMONS ISSUED ?\", \"WAS A PISTOL FOUND ON SUSPECT ?\", \"WAS A RIFLE FOUND ON SUSPECT ?\", \n",
    "               \"WAS AN ASSAULT WEAPON FOUND ON SUSPECT ?\", \"WAS A KNIFE OR CUTTING INSTRUMENT FOUND ON SUSPECT ?\",\n",
    "               \"WAS A MACHINE GUN FOUND ON SUSPECT ?\",\"WAS ANOTHER TYPE OF WEAPON FOUND ON SUSPECT\", \n",
    "               \"PHYSICAL FORCE USED BY OFFICER - HANDS\", \"PHYSICAL FORCE USED BY OFFICER - SUSPECT AGAINST WALL\",\n",
    "               \"PHYSICAL FORCE USED BY OFFICER - SUSPECT ON GROUND\", \"PHYSICAL FORCE USED BY OFFICER - WEAPON DRAWN\",\n",
    "               \"PHYSICAL FORCE USED BY OFFICER - WEAPON POINTED\", \"PHYSICAL FORCE USED BY OFFICER - BATON\",\n",
    "               \"PHYSICAL FORCE USED BY OFFICER - HANDCUFFS\", \"PHYSICAL FORCE USED BY OFFICER - PEPPER SPRAY\",\n",
    "               \"PHYSICAL FORCE USED BY OFFICER - OTHER\", \"SUSPECT'S RACE\", \"SUSPECT'S SEX\"]"
   ]
  },
  {
   "cell_type": "markdown",
   "metadata": {
    "deletable": false,
    "editable": false,
    "id": "0d2bb7fd",
    "nbgrader": {
     "cell_type": "markdown",
     "checksum": "ec27d46a33d7ff7f9d900d875efe9ff6",
     "grade": false,
     "grade_id": "cell-247ed6f55c204f3e",
     "locked": true,
     "schema_version": 3,
     "solution": false,
     "task": false
    }
   },
   "source": [
    "<div class=\"alert alert-info\"><b>Exercise 5 </b>Write the code to identify the columns that contain the information above and remove all the other columns from your <i>df</i> DataFrame. Don't modify neither the name of the Dataframe nor any of the given column names when doing so.<br><i>[1 points]</i></div>"
   ]
  },
  {
   "cell_type": "code",
   "execution_count": null,
   "metadata": {
    "deletable": false,
    "id": "1aef4565",
    "nbgrader": {
     "cell_type": "code",
     "checksum": "bb47640b2984de2eac9bddf8c8c891c6",
     "grade": false,
     "grade_id": "ex5",
     "locked": false,
     "schema_version": 3,
     "solution": true,
     "task": false
    }
   },
   "outputs": [],
   "source": [
    "newcols = []\n",
    "for info in information:\n",
    "    newcols.append(legend.loc[legend['Label'] == info, 'Variable'].iloc[0])\n",
    "df = df[newcols]"
   ]
  },
  {
   "cell_type": "markdown",
   "metadata": {
    "deletable": false,
    "editable": false,
    "id": "a43c770c",
    "nbgrader": {
     "cell_type": "markdown",
     "checksum": "7602652e8235bea2815fdc40f5dc8e07",
     "grade": false,
     "grade_id": "cell-a52774fd95928761",
     "locked": true,
     "schema_version": 3,
     "solution": false,
     "task": false
    }
   },
   "source": [
    "The following cells contain the tests that will grade your code. **Don't modify them**."
   ]
  },
  {
   "cell_type": "code",
   "execution_count": null,
   "metadata": {
    "deletable": false,
    "editable": false,
    "id": "4587e029",
    "nbgrader": {
     "cell_type": "code",
     "checksum": "5f8a1fa79d77c0c3bf69569293315d83",
     "grade": true,
     "grade_id": "ex5_1",
     "locked": true,
     "points": 0.5,
     "schema_version": 3,
     "solution": false,
     "task": false
    }
   },
   "outputs": [],
   "source": [
    "# LEAVE BLANK"
   ]
  },
  {
   "cell_type": "code",
   "execution_count": null,
   "metadata": {
    "deletable": false,
    "editable": false,
    "id": "16510be8",
    "nbgrader": {
     "cell_type": "code",
     "checksum": "d60741a767c73028beff1c60cb2979ea",
     "grade": true,
     "grade_id": "ex5_2",
     "locked": true,
     "points": 0.5,
     "schema_version": 3,
     "solution": false,
     "task": false
    }
   },
   "outputs": [],
   "source": [
    "# LEAVE BLANK"
   ]
  },
  {
   "cell_type": "markdown",
   "metadata": {
    "deletable": false,
    "editable": false,
    "id": "3a832e31",
    "nbgrader": {
     "cell_type": "markdown",
     "checksum": "c597012920d002a02244811eccbbd070",
     "grade": false,
     "grade_id": "cell-ca493db81ac961",
     "locked": true,
     "schema_version": 3,
     "solution": false,
     "task": false
    }
   },
   "source": [
    "## Enriching the data\n",
    "\n",
    "The column *pct* encodes the precinct where each stop took place. Police units based in these precincts are responsible for safety and law enforcement within a designated geographic area. There are a total of 77 precincts in the city of New York, each identified with a number from 1 to 123. These precincts can be further aggregated into the 5 major boroughs of New York: Bronx, Brooklyn, Manhattan, Queens and Staten Island. Let's enrich the data by adding the borough data so that we can later visualize it using different levels of granularity.\n",
    "\n",
    "To do so, you will need to look for the correspondences between boroughs and police precincts, and add this information to your database. Before doing so, however, you will need to make sure that the *pct* column is properly encoded.\n",
    "\n",
    "<div class=\"alert alert-info\"><b>Exercise 6 </b>Write the code to standardize the values in the <i>pct</i> column by converting all entries to integers. Don't modify the name of the column when doing so and don't add any new columns to the DataFrame either.<br><i>[0.5 points]</i></div>\n",
    "\n",
    "<div class=\"alert alert-warning\">There is at least one value in the original <i>pct</i> column which cannot be converted to an integer. You can simply drop the corresponding entries from the DataFrame</div>"
   ]
  },
  {
   "cell_type": "code",
   "execution_count": null,
   "metadata": {
    "deletable": false,
    "id": "c003089e",
    "nbgrader": {
     "cell_type": "code",
     "checksum": "a5d70d0859a7e9513d16031567e1eb90",
     "grade": false,
     "grade_id": "ex6",
     "locked": false,
     "schema_version": 3,
     "solution": true,
     "task": false
    },
    "tags": []
   },
   "outputs": [],
   "source": [
    "df['pct'] = pd.to_numeric(df['pct'], errors = 'coerce')\n",
    "df.dropna(subset = ['pct'], inplace = True)\n",
    "df['pct'] = df['pct'].astype(int)"
   ]
  },
  {
   "cell_type": "code",
   "execution_count": null,
   "metadata": {},
   "outputs": [],
   "source": [
    "df['pct']"
   ]
  },
  {
   "cell_type": "markdown",
   "metadata": {
    "deletable": false,
    "editable": false,
    "id": "a420544d",
    "nbgrader": {
     "cell_type": "markdown",
     "checksum": "934ef390d66c93bc38e2a303191a752b",
     "grade": false,
     "grade_id": "cell-9a2481bcae659cf5",
     "locked": true,
     "schema_version": 3,
     "solution": false,
     "task": false
    }
   },
   "source": [
    "The following cells contain the tests that will grade your code. **Don't modify them**."
   ]
  },
  {
   "cell_type": "code",
   "execution_count": null,
   "metadata": {
    "deletable": false,
    "editable": false,
    "id": "c7e5d294",
    "nbgrader": {
     "cell_type": "code",
     "checksum": "71f5f0ecdf9ecbe59b87a911ab2ed80b",
     "grade": true,
     "grade_id": "ex6_1",
     "locked": true,
     "points": 0.1,
     "schema_version": 3,
     "solution": false,
     "task": false
    }
   },
   "outputs": [],
   "source": [
    "# LEAVE BLANK"
   ]
  },
  {
   "cell_type": "code",
   "execution_count": null,
   "metadata": {
    "deletable": false,
    "editable": false,
    "id": "60b85c7a",
    "nbgrader": {
     "cell_type": "code",
     "checksum": "812082f50f9a3a4060cc233ff29f12b8",
     "grade": true,
     "grade_id": "ex6_2",
     "locked": true,
     "points": 0.1,
     "schema_version": 3,
     "solution": false,
     "task": false
    }
   },
   "outputs": [],
   "source": [
    "# LEAVE BLANK"
   ]
  },
  {
   "cell_type": "code",
   "execution_count": null,
   "metadata": {
    "deletable": false,
    "editable": false,
    "id": "3304fb88",
    "nbgrader": {
     "cell_type": "code",
     "checksum": "98454a9311a60ad4333f1cc4f2acaed7",
     "grade": true,
     "grade_id": "ex6_3",
     "locked": true,
     "points": 0.1,
     "schema_version": 3,
     "solution": false,
     "task": false
    }
   },
   "outputs": [],
   "source": [
    "# LEAVE BLANK"
   ]
  },
  {
   "cell_type": "code",
   "execution_count": null,
   "metadata": {
    "deletable": false,
    "editable": false,
    "id": "3fbec8a0",
    "nbgrader": {
     "cell_type": "code",
     "checksum": "9e12253b1501e7872e27ef35fe4ef710",
     "grade": true,
     "grade_id": "ex6_4",
     "locked": true,
     "points": 0.1,
     "schema_version": 3,
     "solution": false,
     "task": false
    }
   },
   "outputs": [],
   "source": [
    "# LEAVE BLANK"
   ]
  },
  {
   "cell_type": "code",
   "execution_count": null,
   "metadata": {
    "deletable": false,
    "editable": false,
    "id": "a45f1114",
    "nbgrader": {
     "cell_type": "code",
     "checksum": "4d755f5bc18cc29bcc1940a54c1be0ea",
     "grade": true,
     "grade_id": "ex6_5",
     "locked": true,
     "points": 0.1,
     "schema_version": 3,
     "solution": false,
     "task": false
    }
   },
   "outputs": [],
   "source": [
    "# LEAVE BLANK"
   ]
  },
  {
   "cell_type": "markdown",
   "metadata": {
    "deletable": false,
    "editable": false,
    "id": "3613bf0f",
    "nbgrader": {
     "cell_type": "markdown",
     "checksum": "97ceea3f1fb8fbd0406d2a1cae5d93e1",
     "grade": false,
     "grade_id": "cell-ce9263c195ee8ee",
     "locked": true,
     "schema_version": 3,
     "solution": false,
     "task": false
    }
   },
   "source": [
    "Now that the *pct* column is properly encoded, let's include the information regarding the borough.\n",
    "\n",
    "<div class=\"alert alert-info\"><b>Exercise 7 </b>Write the code to create a new column called <i>borough</i>. This column should contain the name of the borough that corresponds to the precinct of each entry in your <i>df</i> DataFrame. Consider only the 5 major boroughs in New York City, as written above, and write their full names. By the end of this exercise only the <i>borough</i> column should be added to <i>df</i>.<br><i>[1.5 point]</i></div>\n",
    "\n",
    "<div class=\"alert alert-warning\">There some entries in the original DataFrame for which the values in the <i>pct</i> column are not properly informed. These rows should be dropped at this step, since we can't assign them a borough.</div>"
   ]
  },
  {
   "cell_type": "code",
   "execution_count": null,
   "metadata": {
    "deletable": false,
    "id": "6239ec78",
    "nbgrader": {
     "cell_type": "code",
     "checksum": "05ebfb30357af4a09ab8968990db619c",
     "grade": false,
     "grade_id": "ex7",
     "locked": false,
     "schema_version": 3,
     "solution": true,
     "task": false
    },
    "tags": []
   },
   "outputs": [],
   "source": [
    "def get_borough_pct(column):\n",
    "    pct = column[\"pct\"]\n",
    "    if pct < 35:\n",
    "        return \"Manhattan\"\n",
    "    elif pct >=40 and pct <= 52:\n",
    "        return \"Bronx\"\n",
    "    elif pct >= 60 and pct <= 94:\n",
    "        return \"Brooklyn\"\n",
    "    elif pct >=100 and pct <= 115:\n",
    "        return \"Queens\"\n",
    "    elif pct >=120 and pct<=123:\n",
    "        return \"Staten Island\"\n",
    "    else:\n",
    "        return None"
   ]
  },
  {
   "cell_type": "code",
   "execution_count": null,
   "metadata": {},
   "outputs": [],
   "source": [
    "df['borough'] = df.apply(get_borough_pct,axis=1)"
   ]
  },
  {
   "cell_type": "markdown",
   "metadata": {
    "deletable": false,
    "editable": false,
    "id": "56850c0a",
    "nbgrader": {
     "cell_type": "markdown",
     "checksum": "09e812c7dd00be390bd74c64f7cefde6",
     "grade": false,
     "grade_id": "cell-63967d6928df03de",
     "locked": true,
     "schema_version": 3,
     "solution": false,
     "task": false
    }
   },
   "source": [
    "The following cells contain the tests that will grade your code. **Don't modify them**."
   ]
  },
  {
   "cell_type": "code",
   "execution_count": null,
   "metadata": {
    "deletable": false,
    "editable": false,
    "id": "521f3e33",
    "nbgrader": {
     "cell_type": "code",
     "checksum": "7674715f1cfad824a41d754c44e29f6f",
     "grade": true,
     "grade_id": "ex7_1",
     "locked": true,
     "points": 0.1,
     "schema_version": 3,
     "solution": false,
     "task": false
    }
   },
   "outputs": [],
   "source": [
    "# LEAVE BLANK"
   ]
  },
  {
   "cell_type": "code",
   "execution_count": null,
   "metadata": {
    "deletable": false,
    "editable": false,
    "id": "0dc2f931",
    "nbgrader": {
     "cell_type": "code",
     "checksum": "428486e51640b5e14a2c35b8f9326b22",
     "grade": true,
     "grade_id": "ex7_2",
     "locked": true,
     "points": 0.25,
     "schema_version": 3,
     "solution": false,
     "task": false
    }
   },
   "outputs": [],
   "source": [
    "# LEAVE BLANK"
   ]
  },
  {
   "cell_type": "code",
   "execution_count": null,
   "metadata": {
    "deletable": false,
    "editable": false,
    "id": "2af472dc",
    "nbgrader": {
     "cell_type": "code",
     "checksum": "c593c91768c58d5721c4cb52852732b4",
     "grade": true,
     "grade_id": "ex7_3",
     "locked": true,
     "points": 0.15,
     "schema_version": 3,
     "solution": false,
     "task": false
    }
   },
   "outputs": [],
   "source": [
    "# LEAVE BLANK"
   ]
  },
  {
   "cell_type": "code",
   "execution_count": null,
   "metadata": {
    "deletable": false,
    "editable": false,
    "id": "1eacaaca",
    "nbgrader": {
     "cell_type": "code",
     "checksum": "91ee9f8e9d75ca129c74aafd72e88e7b",
     "grade": true,
     "grade_id": "ex7_4",
     "locked": true,
     "points": 0.25,
     "schema_version": 3,
     "solution": false,
     "task": false
    }
   },
   "outputs": [],
   "source": [
    "# LEAVE BLANK"
   ]
  },
  {
   "cell_type": "code",
   "execution_count": null,
   "metadata": {
    "deletable": false,
    "editable": false,
    "id": "eef246a3",
    "nbgrader": {
     "cell_type": "code",
     "checksum": "5d7b413475db7730abb7d0bceb4338f2",
     "grade": true,
     "grade_id": "ex7_5",
     "locked": true,
     "points": 0.75,
     "schema_version": 3,
     "solution": false,
     "task": false
    }
   },
   "outputs": [],
   "source": [
    "# LEAVE BLANK"
   ]
  },
  {
   "cell_type": "markdown",
   "metadata": {
    "deletable": false,
    "editable": false,
    "id": "9fa26fee",
    "nbgrader": {
     "cell_type": "markdown",
     "checksum": "072d4d44f84220a404ac526dcd666379",
     "grade": false,
     "grade_id": "cell-db4c5f38881b715d",
     "locked": true,
     "schema_version": 3,
     "solution": false,
     "task": false
    }
   },
   "source": [
    "Let's further filter down these data. Some of the columns store related information. For example, lots of the columns refer to *PHYSICAL FORCE USED BY OFFICER*. Since we are not interested in the specific form of force used, but rather on the existence of such force, let's aggregate the information for these columns.\n",
    "\n",
    "The same thing can be said for the set of columns that contain the phrase WAS A - FOUND ON SUSPECT ?. Once again, we are not interested in the actual type of weapon found, but on whether a weapon was indeed found on the suspect. Hence, let's aggregate all these data into a single column.\n",
    "\n",
    "Finally, let's also aggregate the data about whether an arrest was made. We'll consider that an arrest took place if an arrest was actually made or if a summons was issued, or both.\n",
    "\n",
    "<div class=\"alert alert-info\"><b>Exercise 8 </b>Write the code to create new columns called <i>physical_force</i>, <i>weapon</i> and <i>arrest</i>. These columns should take the value 1 in <b>int</b> form if any of the related columns are encoded as \"Y\" and 0 in <b>int</b> form otherwise.<br><i>[0.75 points]</i></div>"
   ]
  },
  {
   "cell_type": "code",
   "execution_count": null,
   "metadata": {
    "deletable": false,
    "id": "49354823",
    "nbgrader": {
     "cell_type": "code",
     "checksum": "c74d955df7802975bc8cebc0eda973ff",
     "grade": false,
     "grade_id": "ex8",
     "locked": false,
     "schema_version": 3,
     "solution": true,
     "task": false
    }
   },
   "outputs": [],
   "source": [
    "pf_cols = ['pf_hands', 'pf_wall', 'pf_grnd', 'pf_drwep', 'pf_ptwep', 'pf_baton', 'pf_pepsp', 'pf_hcuff', 'pf_other']\n",
    "weap_cols = ['pistol', 'riflshot', 'asltweap', 'knifcuti', 'machgun', 'othrweap' ]\n",
    "arr_cols = ['arstmade', 'sumissue']"
   ]
  },
  {
   "cell_type": "code",
   "execution_count": null,
   "metadata": {},
   "outputs": [],
   "source": [
    "def get_pf_cols(column):\n",
    "    for colm in pf_cols:\n",
    "        pf = column[colm]\n",
    "        if 'Y' in pf:\n",
    "            return int(1)\n",
    "        else:\n",
    "            return int(0)"
   ]
  },
  {
   "cell_type": "code",
   "execution_count": null,
   "metadata": {},
   "outputs": [],
   "source": [
    "def get_weap_cols(column):\n",
    "    for colm in weap_cols:\n",
    "        pf = column[colm]\n",
    "        if 'Y' in pf:\n",
    "            return int(1)\n",
    "        else:\n",
    "            return int(0)"
   ]
  },
  {
   "cell_type": "code",
   "execution_count": null,
   "metadata": {},
   "outputs": [],
   "source": [
    "def get_arr_cols(column):\n",
    "    for colm in arr_cols:\n",
    "        pf = column[colm]\n",
    "        if 'Y' in pf:\n",
    "            return int(1)\n",
    "        else:\n",
    "            return int(0)"
   ]
  },
  {
   "cell_type": "code",
   "execution_count": null,
   "metadata": {
    "tags": []
   },
   "outputs": [],
   "source": [
    "df['physical_force'] = df.apply(get_pf_cols,axis=1)"
   ]
  },
  {
   "cell_type": "code",
   "execution_count": null,
   "metadata": {},
   "outputs": [],
   "source": [
    "df['physical_force'] = df['physical_force'].astype(int)"
   ]
  },
  {
   "cell_type": "code",
   "execution_count": null,
   "metadata": {},
   "outputs": [],
   "source": [
    "df['weapon'] = df.apply(get_weap_cols,axis=1)"
   ]
  },
  {
   "cell_type": "code",
   "execution_count": null,
   "metadata": {},
   "outputs": [],
   "source": [
    "df['arrest'] = df.apply(get_arr_cols,axis=1)"
   ]
  },
  {
   "cell_type": "markdown",
   "metadata": {
    "deletable": false,
    "editable": false,
    "id": "af1f6476",
    "nbgrader": {
     "cell_type": "markdown",
     "checksum": "3b645eb625a4a2f02e683aae151696bd",
     "grade": false,
     "grade_id": "cell-5785a9531e7a8c4c",
     "locked": true,
     "schema_version": 3,
     "solution": false,
     "task": false
    }
   },
   "source": [
    "The following cells contain the tests that will grade your code. **Don't modify them**."
   ]
  },
  {
   "cell_type": "code",
   "execution_count": null,
   "metadata": {
    "deletable": false,
    "editable": false,
    "id": "91986b19",
    "nbgrader": {
     "cell_type": "code",
     "checksum": "972cb23197652d96dca03aded1b639bf",
     "grade": true,
     "grade_id": "ex8_1",
     "locked": true,
     "points": 0.1,
     "schema_version": 3,
     "solution": false,
     "task": false
    }
   },
   "outputs": [],
   "source": [
    "# LEAVE BLANK"
   ]
  },
  {
   "cell_type": "code",
   "execution_count": null,
   "metadata": {
    "deletable": false,
    "editable": false,
    "id": "02b2aa38",
    "nbgrader": {
     "cell_type": "code",
     "checksum": "451d50b8a2c3d766e806e3d6d73d7e65",
     "grade": true,
     "grade_id": "ex8_2",
     "locked": true,
     "points": 0.15,
     "schema_version": 3,
     "solution": false,
     "task": false
    }
   },
   "outputs": [],
   "source": [
    "# LEAVE BLANK"
   ]
  },
  {
   "cell_type": "code",
   "execution_count": null,
   "metadata": {
    "deletable": false,
    "editable": false,
    "id": "043ba337",
    "nbgrader": {
     "cell_type": "code",
     "checksum": "2cdda25386687857efd650d4493c8e76",
     "grade": true,
     "grade_id": "ex8_3",
     "locked": true,
     "points": 0.5,
     "schema_version": 3,
     "solution": false,
     "task": false
    }
   },
   "outputs": [],
   "source": [
    "# LEAVE BLANK"
   ]
  },
  {
   "cell_type": "markdown",
   "metadata": {
    "deletable": false,
    "editable": false,
    "id": "a120cf6f",
    "nbgrader": {
     "cell_type": "markdown",
     "checksum": "41d06902e65e6774753eb38b946d48c2",
     "grade": false,
     "grade_id": "cell-dec1582027c1e67c",
     "locked": true,
     "schema_version": 3,
     "solution": false,
     "task": false
    }
   },
   "source": [
    "We are now going to focus on the <i>race</i> column. This column encodes critical information for our use case. You can find more information regarding the different letter codes in the documentation provided by NYPD. We will begin by changing the name of the column to <i>ethnicity</i>. Ideally, we would prefer to keep the original values for this variable. However, for visualization purposes, we will need to group the values into larger categories. \n",
    "\n",
    "<div class=\"alert alert-info\"><b>Exercise 9 </b>Write the code to rename the <i>race</i> column as <i>ethnicity</i>. Then write the code to modify the values of your <i>ethnicity</i> column. This column should take the value 'Black' if the original record was encoded as Black or Black-Hispanic. It should take the value 'White' if the original record was encoded as White or White-Hispanic. It should take the value 'Asian' if the original record was encoded as Asian/Pacific Islander. It should take the value 'Other' if the original record was encoded as American Indian/Alaskan native, Other, Unknown or Not listed.<br><i>[0.75 points]</i></div>\n",
    "\n",
    "<div class=\"alert alert-warning\">Make sure to check that by the end of this exercise your DataFrame contains no new columns. You can add them to help you, but make sure to remove them before moving on.</div>"
   ]
  },
  {
   "cell_type": "code",
   "execution_count": null,
   "metadata": {
    "deletable": false,
    "id": "4a233b57",
    "nbgrader": {
     "cell_type": "code",
     "checksum": "b8a1f9a9de9f54db0b178f5d7ed616df",
     "grade": false,
     "grade_id": "ex9",
     "locked": false,
     "schema_version": 3,
     "solution": true,
     "task": false
    }
   },
   "outputs": [],
   "source": [
    "df.rename(columns = {'race': 'ethnicity'}, inplace = True)"
   ]
  },
  {
   "cell_type": "code",
   "execution_count": null,
   "metadata": {},
   "outputs": [],
   "source": [
    "black = ['B', 'P']\n",
    "white = ['W', 'Q']\n",
    "asian = ['A']\n",
    "other = ['I', 'X', 'Z', 'NOT LISTED', 'U']"
   ]
  },
  {
   "cell_type": "code",
   "execution_count": null,
   "metadata": {},
   "outputs": [],
   "source": [
    "for i, value in enumerate(df['ethnicity']):\n",
    "    if value in black:\n",
    "        df.at[i,'ethnicity'] = 'Black'\n",
    "    \n",
    "    elif value in white:\n",
    "        df.at[i,'ethnicity'] = 'White'\n",
    "        \n",
    "    elif value in asian:\n",
    "        df.at[i,'ethnicity'] = 'Asian'\n",
    "        \n",
    "    elif value in other:\n",
    "        df.at[i,'ethnicity'] = 'Other'"
   ]
  },
  {
   "cell_type": "markdown",
   "metadata": {
    "deletable": false,
    "editable": false,
    "id": "edc0a1eb",
    "nbgrader": {
     "cell_type": "markdown",
     "checksum": "fdc95220831e07e1f139505dd735a20a",
     "grade": false,
     "grade_id": "cell-e2e5bb4b2e5f193b",
     "locked": true,
     "schema_version": 3,
     "solution": false,
     "task": false
    }
   },
   "source": [
    "The following cells contain the tests that will grade your code. **Don't modify them**."
   ]
  },
  {
   "cell_type": "code",
   "execution_count": null,
   "metadata": {
    "deletable": false,
    "editable": false,
    "id": "e0371368",
    "nbgrader": {
     "cell_type": "code",
     "checksum": "fc361867c2817d1d338807f559b979f5",
     "grade": true,
     "grade_id": "ex9_1",
     "locked": true,
     "points": 0.1,
     "schema_version": 3,
     "solution": false,
     "task": false
    }
   },
   "outputs": [],
   "source": [
    "# LEAVE BLANK"
   ]
  },
  {
   "cell_type": "code",
   "execution_count": null,
   "metadata": {
    "deletable": false,
    "editable": false,
    "id": "edbe52e0",
    "nbgrader": {
     "cell_type": "code",
     "checksum": "170ba0d6aff920e5f57e97b1a476cfe5",
     "grade": true,
     "grade_id": "ex9_2",
     "locked": true,
     "points": 0.15,
     "schema_version": 3,
     "solution": false,
     "task": false
    }
   },
   "outputs": [],
   "source": [
    "# LEAVE BLANK"
   ]
  },
  {
   "cell_type": "code",
   "execution_count": null,
   "metadata": {
    "deletable": false,
    "editable": false,
    "id": "87c8c040",
    "nbgrader": {
     "cell_type": "code",
     "checksum": "db471a4bcd65f4dbc76147b0658eb980",
     "grade": true,
     "grade_id": "ex9_3",
     "locked": true,
     "points": 0.5,
     "schema_version": 3,
     "solution": false,
     "task": false
    }
   },
   "outputs": [],
   "source": [
    "# LEAVE BLANK"
   ]
  },
  {
   "cell_type": "markdown",
   "metadata": {
    "deletable": false,
    "editable": false,
    "id": "f83e5ffc",
    "nbgrader": {
     "cell_type": "markdown",
     "checksum": "48451039524ab1aa5d00f4565af7186b",
     "grade": false,
     "grade_id": "cell-1ab1458d553cd4e7",
     "locked": true,
     "schema_version": 3,
     "solution": false,
     "task": false
    }
   },
   "source": [
    "Finally, let's remove redundant information.\n",
    "\n",
    "<div class=\"alert alert-info\"><b>Exercise 10 </b>Write the code to remove all columns except <i>year</i>, <i>pct</i>, <i>datestop</i>, <i>perstop</i>, <i>crimsusp</i>, <i>ethnicity</i>, <i>sex</i>, <i>borough</i>, <i>physical_force</i>, <i>weapon</i>, and <i>arrest</i> from your DataFrame <i>df</i>.<br><i>[0.25 points]</i></div>\n",
    "\n",
    "<div class=\"alert alert-warning\">Make sure to double check that you remove all the columns above. At the end of this exercise your DataFrame should contain the columns you selected in exercise 2 plus the 4 new columns you created in exercises 4, 5, and 6, minus those listed above.</div>"
   ]
  },
  {
   "cell_type": "code",
   "execution_count": null,
   "metadata": {
    "deletable": false,
    "id": "4af314d7",
    "nbgrader": {
     "cell_type": "code",
     "checksum": "61a7d17ae23db4b20e268512e705c64e",
     "grade": false,
     "grade_id": "ex10",
     "locked": false,
     "schema_version": 3,
     "solution": true,
     "task": false
    }
   },
   "outputs": [],
   "source": [
    "columns_new = ['year', 'pct', 'datestop', 'perstop', 'crimsusp', 'ethnicity', 'sex', 'borough', 'physical_force', 'weapon', 'arrest']\n",
    "df = df[columns_new]\n",
    "df"
   ]
  },
  {
   "cell_type": "markdown",
   "metadata": {
    "deletable": false,
    "editable": false,
    "id": "74e3519a",
    "nbgrader": {
     "cell_type": "markdown",
     "checksum": "05af2342a32142f86bdf5638d7e3bfc4",
     "grade": false,
     "grade_id": "cell-65d8c31bd0966d55",
     "locked": true,
     "schema_version": 3,
     "solution": false,
     "task": false
    }
   },
   "source": [
    "The following cells contain the tests that will grade your code. **Don't modify them**."
   ]
  },
  {
   "cell_type": "code",
   "execution_count": null,
   "metadata": {
    "deletable": false,
    "editable": false,
    "id": "9995a252",
    "nbgrader": {
     "cell_type": "code",
     "checksum": "68ee23c9e8b77a761f7272a0c759a860",
     "grade": true,
     "grade_id": "ex10_1",
     "locked": true,
     "points": 0.1,
     "schema_version": 3,
     "solution": false,
     "task": false
    }
   },
   "outputs": [],
   "source": [
    "# LEAVE BLANK"
   ]
  },
  {
   "cell_type": "code",
   "execution_count": null,
   "metadata": {
    "deletable": false,
    "editable": false,
    "id": "a390dbf0",
    "nbgrader": {
     "cell_type": "code",
     "checksum": "11937114c0fce6d9fa2daf21e63ea6cd",
     "grade": true,
     "grade_id": "ex10_2",
     "locked": true,
     "points": 0.15,
     "schema_version": 3,
     "solution": false,
     "task": false
    }
   },
   "outputs": [],
   "source": [
    "# LEAVE BLANK"
   ]
  },
  {
   "cell_type": "markdown",
   "metadata": {
    "deletable": false,
    "editable": false,
    "id": "b0bafeff",
    "nbgrader": {
     "cell_type": "markdown",
     "checksum": "60740598dfa08f7016e2bd8d8a131354",
     "grade": false,
     "grade_id": "cell-21645ed0a8d9afd8",
     "locked": true,
     "schema_version": 3,
     "solution": false,
     "task": false
    }
   },
   "source": [
    "Congrats! You are now finished preparing the data. As always, you can also check the exercises below for extra points.\n",
    "\n",
    "<div class=\"alert alert-danger\"><b>Bonus 1 </b>Write the code to retrieve the datetime values for every entry in your DataFrame <i>df</i>. Don't modify any column names when doing so. Don't add any new columns either. Make sure that by the end of this exercise the <i>datestop</i> column is of type <i>datetime64[ns]</i>.<br><i>[1 point]</i></div>"
   ]
  },
  {
   "cell_type": "code",
   "execution_count": null,
   "metadata": {
    "deletable": false,
    "id": "0622912b",
    "nbgrader": {
     "cell_type": "code",
     "checksum": "71daf634a8103fa0c75e52f8216f9f04",
     "grade": false,
     "grade_id": "b1",
     "locked": false,
     "schema_version": 3,
     "solution": true,
     "task": false
    }
   },
   "outputs": [],
   "source": [
    "for i, date in enumerate(df['datestop']):\n",
    "    try:\n",
    "        date = pd.to_datetime(date, format='%m%d%Y').strftime(\"%d/%m/%Y\")\n",
    "        df['datestop'].iloc[i] = date\n",
    "    except:\n",
    "        try:\n",
    "            date = pd.to_datetime(date, format='%Y-%m-%d').strftime(\"%d/%m/%Y\")\n",
    "            df['datestop'].iloc[i] = date\n",
    "        except:            \n",
    "            try:\n",
    "                date = pd.to_datetime(date, format='%d%m%Y').strftime(\"%d/%m/%Y\")\n",
    "                df['datestop'].iloc[i] = date\n",
    "            except:\n",
    "                pass\n",
    "\n",
    "\n",
    "#turn into datetime64[ns]\n",
    "df['datestop'] = df['datestop'].astype('datetime64[ns]')\n",
    "df['datestop']"
   ]
  },
  {
   "cell_type": "markdown",
   "metadata": {
    "deletable": false,
    "editable": false,
    "id": "02c68abb",
    "nbgrader": {
     "cell_type": "markdown",
     "checksum": "846156e29a876a19e4bf2110c7ed3243",
     "grade": false,
     "grade_id": "cell-318048a415aded56",
     "locked": true,
     "schema_version": 3,
     "solution": false,
     "task": false
    }
   },
   "source": [
    "The following cells contain the tests that will grade your code. **Don't modify them**."
   ]
  },
  {
   "cell_type": "code",
   "execution_count": null,
   "metadata": {
    "deletable": false,
    "editable": false,
    "id": "00a7340f",
    "nbgrader": {
     "cell_type": "code",
     "checksum": "fb019869b1a3f1fc1e242494a33bb849",
     "grade": true,
     "grade_id": "b1_1",
     "locked": true,
     "points": 0.1,
     "schema_version": 3,
     "solution": false,
     "task": false
    }
   },
   "outputs": [],
   "source": [
    "# LEAVE BLANK"
   ]
  },
  {
   "cell_type": "code",
   "execution_count": null,
   "metadata": {
    "deletable": false,
    "editable": false,
    "id": "23fddd4c",
    "nbgrader": {
     "cell_type": "code",
     "checksum": "a472727c2b66fd2ff9f63e5476538bcd",
     "grade": true,
     "grade_id": "b1_2",
     "locked": true,
     "points": 0.4,
     "schema_version": 3,
     "solution": false,
     "task": false
    }
   },
   "outputs": [],
   "source": [
    "# LEAVE BLANK"
   ]
  },
  {
   "cell_type": "code",
   "execution_count": null,
   "metadata": {
    "deletable": false,
    "editable": false,
    "id": "fa97a58d",
    "nbgrader": {
     "cell_type": "code",
     "checksum": "0af89c944ced015b14943789f187ee0d",
     "grade": true,
     "grade_id": "b1_3",
     "locked": true,
     "points": 0.5,
     "schema_version": 3,
     "solution": false,
     "task": false
    }
   },
   "outputs": [],
   "source": [
    "# LEAVE BLANK"
   ]
  },
  {
   "cell_type": "markdown",
   "metadata": {
    "deletable": false,
    "editable": false,
    "id": "cb359195",
    "nbgrader": {
     "cell_type": "markdown",
     "checksum": "2d428c47a53033746214d66f211b79e4",
     "grade": false,
     "grade_id": "cell-8091d3eaba80b224",
     "locked": true,
     "schema_version": 3,
     "solution": false,
     "task": false
    }
   },
   "source": [
    "<div class=\"alert alert-danger\"><b>Bonus 2 </b>Write the code to count the number of entries corresponding to males for the different categories of the <i>ethnicity</i> columns in your DataFrame <i>df</i>. Store the resulting values in a dictionary called <i>distribution</i>, where the keys should correspond to the different values of the <i>ethnicity</i> column and the values to the frequency of male records for each.<br><i>[0.5 points]</i></div>"
   ]
  },
  {
   "cell_type": "code",
   "execution_count": null,
   "metadata": {
    "deletable": false,
    "id": "bc779080",
    "nbgrader": {
     "cell_type": "code",
     "checksum": "9a0c89e02effb8580c44c29b67676568",
     "grade": false,
     "grade_id": "b2",
     "locked": false,
     "schema_version": 3,
     "solution": true,
     "task": false
    }
   },
   "outputs": [],
   "source": [
    "# YOUR CODE HERE\n",
    "pivot = pd.pivot_table(df, index = ['ethnicity'], columns = 'sex', values = 'arrest', aggfunc = 'count')['M']\n",
    "df_dist = pd.DataFrame(pivot)\n",
    "df_dist"
   ]
  },
  {
   "cell_type": "code",
   "execution_count": null,
   "metadata": {},
   "outputs": [],
   "source": [
    "df_dist['M'] = df_dist['M'].astype(int)\n",
    "df_dist\n",
    "distribution = df_dist.to_dict()['M']\n",
    "distribution"
   ]
  },
  {
   "cell_type": "markdown",
   "metadata": {
    "deletable": false,
    "editable": false,
    "id": "5e091eb8",
    "nbgrader": {
     "cell_type": "markdown",
     "checksum": "2a63c3962a372464d87f4bdc1044ce16",
     "grade": false,
     "grade_id": "cell-a6683baae0f8b3b0",
     "locked": true,
     "schema_version": 3,
     "solution": false,
     "task": false
    }
   },
   "source": [
    "The following cells contain the tests that will grade your code. **Don't modify them**."
   ]
  },
  {
   "cell_type": "code",
   "execution_count": null,
   "metadata": {
    "deletable": false,
    "editable": false,
    "id": "cca85036",
    "nbgrader": {
     "cell_type": "code",
     "checksum": "e702e9c51d269def1632d919701eb891",
     "grade": true,
     "grade_id": "b2_1",
     "locked": true,
     "points": 0.1,
     "schema_version": 3,
     "solution": false,
     "task": false
    }
   },
   "outputs": [],
   "source": [
    "# LEAVE BLANK"
   ]
  },
  {
   "cell_type": "code",
   "execution_count": null,
   "metadata": {
    "deletable": false,
    "editable": false,
    "id": "7065f105",
    "nbgrader": {
     "cell_type": "code",
     "checksum": "7632b3e812242feab829e918ebc8a4b9",
     "grade": true,
     "grade_id": "b2_2",
     "locked": true,
     "points": 0.4,
     "schema_version": 3,
     "solution": false,
     "task": false
    }
   },
   "outputs": [],
   "source": [
    "# LEAVE BLANK"
   ]
  }
 ],
 "metadata": {
  "colab": {
   "collapsed_sections": [
    "3a832e31"
   ],
   "machine_shape": "hm",
   "name": "CC2021_A3.ipynb",
   "provenance": []
  },
  "kernelspec": {
   "display_name": "Python 3",
   "language": "python",
   "name": "python3"
  },
  "language_info": {
   "codemirror_mode": {
    "name": "ipython",
    "version": 3
   },
   "file_extension": ".py",
   "mimetype": "text/x-python",
   "name": "python",
   "nbconvert_exporter": "python",
   "pygments_lexer": "ipython3",
   "version": "3.7.6"
  }
 },
 "nbformat": 4,
 "nbformat_minor": 5
}
